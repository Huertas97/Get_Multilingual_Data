{
  "nbformat": 4,
  "nbformat_minor": 0,
  "metadata": {
    "colab": {
      "name": "Multilingual_Data_fit_PCA.ipynb",
      "provenance": [],
      "collapsed_sections": [],
      "authorship_tag": "ABX9TyN58Icc8NtzyenkvH9gLsfG",
      "include_colab_link": true
    },
    "kernelspec": {
      "name": "python3",
      "display_name": "Python 3"
    }
  },
  "cells": [
    {
      "cell_type": "markdown",
      "metadata": {
        "id": "view-in-github",
        "colab_type": "text"
      },
      "source": [
        "<a href=\"https://colab.research.google.com/github/Huertas97/Get_Multilingual_Data/blob/main/notebooks/Multilingual_Data_fit_PCA.ipynb\" target=\"_parent\"><img src=\"https://colab.research.google.com/assets/colab-badge.svg\" alt=\"Open In Colab\"/></a>"
      ]
    },
    {
      "cell_type": "markdown",
      "metadata": {
        "id": "DVHyCVzusmyJ"
      },
      "source": [
        "# Introducction\n",
        "\n",
        "In this notebooks we show how to use the scripts available in https://github.com/Huertas97/Get_Multilingual_Data.git to extract Multilingual sentences. \n",
        "\n",
        "The final result from the notebook is a data frame with 1000 sentences per language from three different resouces: TED2020, WikiMatrix and OPUS-NewsCommentary. \n",
        "\n",
        "A visualization of the multilingual data extracted is shown at the end of the notebook. "
      ]
    },
    {
      "cell_type": "markdown",
      "metadata": {
        "id": "uGB5O573UHuy"
      },
      "source": [
        "# Loading Trial Data\n"
      ]
    },
    {
      "cell_type": "code",
      "metadata": {
        "colab": {
          "base_uri": "https://localhost:8080/"
        },
        "id": "WdoBQv1uhT6l",
        "outputId": "4eca4f53-9849-4c16-a2a8-8482247000ca"
      },
      "source": [
        "!pip install -U -q sentence-transformers\r\n",
        "import pandas as pd"
      ],
      "execution_count": 6,
      "outputs": [
        {
          "output_type": "stream",
          "text": [
            "\u001b[K     |████████████████████████████████| 71kB 3.9MB/s \n",
            "\u001b[K     |████████████████████████████████| 1.3MB 7.9MB/s \n",
            "\u001b[K     |████████████████████████████████| 1.1MB 42.0MB/s \n",
            "\u001b[K     |████████████████████████████████| 890kB 39.9MB/s \n",
            "\u001b[K     |████████████████████████████████| 2.9MB 52.9MB/s \n",
            "\u001b[?25h  Building wheel for sentence-transformers (setup.py) ... \u001b[?25l\u001b[?25hdone\n",
            "  Building wheel for sacremoses (setup.py) ... \u001b[?25l\u001b[?25hdone\n"
          ],
          "name": "stdout"
        }
      ]
    },
    {
      "cell_type": "code",
      "metadata": {
        "id": "RmN2SIT_sUZI",
        "colab": {
          "base_uri": "https://localhost:8080/"
        },
        "outputId": "4eddf817-ae20-4441-97c5-338023bea33b"
      },
      "source": [
        "!pip install -U -q sentence-transformers\n",
        "!pip install -U -q tqdm\n",
        "\n",
        "from sklearn.decomposition import PCA\n",
        "import numpy as np\n",
        "from sentence_transformers.readers import STSBenchmarkDataReader\n",
        "import os\n",
        "import re\n",
        "import gzip\n",
        "import csv\n",
        "import pandas as pd\n",
        "pd.set_option('display.max_colwidth', None)\n",
        "pd.reset_option(\"^display\")\n",
        "import logging\n",
        "from tqdm.notebook import tqdm\n",
        "import logging\n",
        "from sentence_transformers import LoggingHandler\n",
        "from itertools import combinations\n",
        "from tqdm.notebook import tqdm\n",
        "from sklearn.metrics.pairwise import paired_cosine_distances, paired_euclidean_distances, paired_manhattan_distances\n",
        "from scipy.stats import pearsonr, spearmanr"
      ],
      "execution_count": 1,
      "outputs": [
        {
          "output_type": "stream",
          "text": [
            "\u001b[K     |████████████████████████████████| 71kB 3.8MB/s \n",
            "\u001b[K     |████████████████████████████████| 1.3MB 10.5MB/s \n",
            "\u001b[K     |████████████████████████████████| 1.1MB 24.8MB/s \n",
            "\u001b[K     |████████████████████████████████| 2.9MB 37.2MB/s \n",
            "\u001b[K     |████████████████████████████████| 890kB 50.1MB/s \n",
            "\u001b[?25h  Building wheel for sentence-transformers (setup.py) ... \u001b[?25l\u001b[?25hdone\n",
            "  Building wheel for sacremoses (setup.py) ... \u001b[?25l\u001b[?25hdone\n",
            "\u001b[K     |████████████████████████████████| 71kB 4.0MB/s \n",
            "\u001b[?25h"
          ],
          "name": "stdout"
        }
      ]
    },
    {
      "cell_type": "markdown",
      "metadata": {
        "id": "kLJpBQub5JCT"
      },
      "source": [
        "# Languages for the PCA"
      ]
    },
    {
      "cell_type": "code",
      "metadata": {
        "id": "kxChIWRu5IiR",
        "colab": {
          "base_uri": "https://localhost:8080/"
        },
        "outputId": "cde5cbe8-8bd7-494e-f363-907760d99140"
      },
      "source": [
        "languages = \"ar, cs, de, en, es, fr, hi, it, ja, nl, pl, pt, ru, tr, zh\".split(\", \")\n",
        "print(\",\".join(languages))\n",
        "print(len(languages))"
      ],
      "execution_count": 1,
      "outputs": [
        {
          "output_type": "stream",
          "text": [
            "ar,cs,de,en,es,fr,hi,it,ja,nl,pl,pt,ru,tr,zh\n",
            "15\n"
          ],
          "name": "stdout"
        }
      ]
    },
    {
      "cell_type": "markdown",
      "metadata": {
        "id": "GJpCy99m5ZDW"
      },
      "source": [
        "# Sentences from TED 2020"
      ]
    },
    {
      "cell_type": "code",
      "metadata": {
        "colab": {
          "base_uri": "https://localhost:8080/"
        },
        "id": "iqrA0n_pit4W",
        "outputId": "995313cf-e3b6-4c2a-8646-35e1fa2e164d"
      },
      "source": [
        "!python get_TED2020_sentences.py --help"
      ],
      "execution_count": 18,
      "outputs": [
        {
          "output_type": "stream",
          "text": [
            "2020-12-16 10:03:54.700559: I tensorflow/stream_executor/platform/default/dso_loader.cc:48] Successfully opened dynamic library libcudart.so.10.1\n",
            "\n",
            "This script downloads the TED2020 corpus and create parallel sentences tsv files\n",
            "\n",
            "The TED2020 corpus is a crawl of transcripts from TED and TEDx talks, which \n",
            "are translated to 100+ languages. With this script the user can select the \n",
            "amount of sentences and the languages desired. \n",
            "\n",
            "The TED2020 corpus is downloaded automatically only for the languages selected.\n",
            "          \n",
            "Usage:\n",
            "\n",
            "    python get_TED2020_sentences [options] \n",
            "\n",
            "Options:\n",
            "    -n, --n_sentences            Number of sentences to collect\n",
            "    -l, --languages              Languages ​​from which we extract sentences\n",
            "\n",
            "\n",
            "Example. Extract TED 2020  arabic and italian sentences:\n",
            "    python get_TED2020_sentences.py --n_sentences 500 --languages ar,it\n"
          ],
          "name": "stdout"
        }
      ]
    },
    {
      "cell_type": "code",
      "metadata": {
        "id": "1zrvrAhwRHCP",
        "colab": {
          "base_uri": "https://localhost:8080/"
        },
        "outputId": "b3c51b12-38d4-4074-dcdc-599997d624c9"
      },
      "source": [
        "!python get_TED2020_sentences.py --n_sentences 500 --languages pl,tr,hi"
      ],
      "execution_count": 19,
      "outputs": [
        {
          "output_type": "stream",
          "text": [
            "2020-12-16 10:04:14.509631: I tensorflow/stream_executor/platform/default/dso_loader.cc:48] Successfully opened dynamic library libcudart.so.10.1\n",
            "Recovering TED2020 talks for languages: pl tr hi\n",
            "Parallel sentences files en-pl, en-tr, en-hi do not exist. Create these files now\n",
            "Creating data frame for TED2020 languages: pl-tr-hi\n",
            "TED2020-en-tr-train_pca.tsv.gz\n",
            "TED2020-en-pl-train_pca.tsv.gz\n",
            "TED2020-en-hi-train_pca.tsv.gz\n",
            "---Saving results in parallel-sentences/TED2020/df_TED_pl-tr-hi.pkl ---\n",
            "--- Removing downloaded files ---\n",
            "--- Finish ---\n"
          ],
          "name": "stdout"
        }
      ]
    },
    {
      "cell_type": "code",
      "metadata": {
        "colab": {
          "base_uri": "https://localhost:8080/",
          "height": 206
        },
        "id": "VQ3Vm_i4iMp7",
        "outputId": "864485f6-9408-47a2-a6e4-0b9b33a824b4"
      },
      "source": [
        "df_TED_pl_tr_hi = pd.read_pickle(\"/content/parallel-sentences/TED2020/df_TED_pl-tr-hi.pkl\")\r\n",
        "df_TED_pl_tr_hi.groupby(\"lang\").describe()"
      ],
      "execution_count": 12,
      "outputs": [
        {
          "output_type": "execute_result",
          "data": {
            "text/html": [
              "<div>\n",
              "<style scoped>\n",
              "    .dataframe tbody tr th:only-of-type {\n",
              "        vertical-align: middle;\n",
              "    }\n",
              "\n",
              "    .dataframe tbody tr th {\n",
              "        vertical-align: top;\n",
              "    }\n",
              "\n",
              "    .dataframe thead tr th {\n",
              "        text-align: left;\n",
              "    }\n",
              "\n",
              "    .dataframe thead tr:last-of-type th {\n",
              "        text-align: right;\n",
              "    }\n",
              "</style>\n",
              "<table border=\"1\" class=\"dataframe\">\n",
              "  <thead>\n",
              "    <tr>\n",
              "      <th></th>\n",
              "      <th colspan=\"4\" halign=\"left\">from</th>\n",
              "      <th colspan=\"4\" halign=\"left\">sentences</th>\n",
              "    </tr>\n",
              "    <tr>\n",
              "      <th></th>\n",
              "      <th>count</th>\n",
              "      <th>unique</th>\n",
              "      <th>top</th>\n",
              "      <th>freq</th>\n",
              "      <th>count</th>\n",
              "      <th>unique</th>\n",
              "      <th>top</th>\n",
              "      <th>freq</th>\n",
              "    </tr>\n",
              "    <tr>\n",
              "      <th>lang</th>\n",
              "      <th></th>\n",
              "      <th></th>\n",
              "      <th></th>\n",
              "      <th></th>\n",
              "      <th></th>\n",
              "      <th></th>\n",
              "      <th></th>\n",
              "      <th></th>\n",
              "    </tr>\n",
              "  </thead>\n",
              "  <tbody>\n",
              "    <tr>\n",
              "      <th>hi</th>\n",
              "      <td>500</td>\n",
              "      <td>1</td>\n",
              "      <td>TED2020</td>\n",
              "      <td>500</td>\n",
              "      <td>500</td>\n",
              "      <td>500</td>\n",
              "      <td>हर बार इसे दिखाने से पहले मैं इसे सुधारता हूँ.</td>\n",
              "      <td>1</td>\n",
              "    </tr>\n",
              "    <tr>\n",
              "      <th>pl</th>\n",
              "      <td>500</td>\n",
              "      <td>1</td>\n",
              "      <td>TED2020</td>\n",
              "      <td>500</td>\n",
              "      <td>500</td>\n",
              "      <td>500</td>\n",
              "      <td>Znamy symptomy.</td>\n",
              "      <td>1</td>\n",
              "    </tr>\n",
              "    <tr>\n",
              "      <th>tr</th>\n",
              "      <td>500</td>\n",
              "      <td>1</td>\n",
              "      <td>TED2020</td>\n",
              "      <td>500</td>\n",
              "      <td>500</td>\n",
              "      <td>500</td>\n",
              "      <td>Larry Lessig de bu sürecin içine dahil olacak ...</td>\n",
              "      <td>1</td>\n",
              "    </tr>\n",
              "  </tbody>\n",
              "</table>\n",
              "</div>"
            ],
            "text/plain": [
              "      from         ...                                          sentences     \n",
              "     count unique  ...                                                top freq\n",
              "lang               ...                                                        \n",
              "hi     500      1  ...     हर बार इसे दिखाने से पहले मैं इसे सुधारता हूँ.    1\n",
              "pl     500      1  ...                                    Znamy symptomy.    1\n",
              "tr     500      1  ...  Larry Lessig de bu sürecin içine dahil olacak ...    1\n",
              "\n",
              "[3 rows x 8 columns]"
            ]
          },
          "metadata": {
            "tags": []
          },
          "execution_count": 12
        }
      ]
    },
    {
      "cell_type": "code",
      "metadata": {
        "id": "LnNwzkulUhS-",
        "colab": {
          "base_uri": "https://localhost:8080/"
        },
        "outputId": "0ef11255-9c95-4140-cce4-50ae65709ceb"
      },
      "source": [
        "!python get_TED2020_sentences.py --n_sentences 250 --languages ar,cs,de,en,es,fr,it,ja,nl,pt,ru,zh"
      ],
      "execution_count": 16,
      "outputs": [
        {
          "output_type": "stream",
          "text": [
            "2020-12-16 07:57:31.242155: I tensorflow/stream_executor/platform/default/dso_loader.cc:48] Successfully opened dynamic library libcudart.so.10.1\n",
            "Recovering TED2020 talks for languages: ar cs de en es fr it ja nl pt ru zh\n",
            "Parallel sentences files en-es, en-it, en-pt, en-ar, en-ru, en-zh, en-en, en-nl, en-fr, en-de, en-ja, en-cs do not exist. Create these files now\n",
            "Creating data frame for Wikimatrix languages: ar-cs-de-en-es-fr-it-ja-nl-pt-ru-zh\n",
            "TED2020-en-fr-train_pca.tsv.gz\n",
            "TED2020-en-cs-train_pca.tsv.gz\n",
            "TED2020-en-ru-train_pca.tsv.gz\n",
            "TED2020-en-ja-train_pca.tsv.gz\n",
            "TED2020-en-es-train_pca.tsv.gz\n",
            "TED2020-en-pt-train_pca.tsv.gz\n",
            "TED2020-en-nl-train_pca.tsv.gz\n",
            "TED2020-en-zh-train_pca.tsv.gz\n",
            "TED2020-en-en-train_pca.tsv.gz\n",
            "TED2020-en-ar-train_pca.tsv.gz\n",
            "TED2020-en-de-train_pca.tsv.gz\n",
            "TED2020-en-it-train_pca.tsv.gz\n",
            "---Saving results in parallel-sentences/TED2020/df_TED_ar-cs-de-en-es-fr-it-ja-nl-pt-ru-zh.pkl ---\n",
            "--- Removing downloaded files ---\n",
            "--- Finish ---\n"
          ],
          "name": "stdout"
        }
      ]
    },
    {
      "cell_type": "code",
      "metadata": {
        "colab": {
          "base_uri": "https://localhost:8080/",
          "height": 523
        },
        "id": "YF3p4yBTjiss",
        "outputId": "28516443-ac90-451f-f0c5-bb05c4375aad"
      },
      "source": [
        "df_TED_langs = pd.read_pickle(\"/content/parallel-sentences/TED2020/df_TED_ar-cs-de-en-es-fr-it-ja-nl-pt-ru-zh.pkl\")\r\n",
        "df_TED_langs.groupby(\"lang\").describe()"
      ],
      "execution_count": 17,
      "outputs": [
        {
          "output_type": "execute_result",
          "data": {
            "text/html": [
              "<div>\n",
              "<style scoped>\n",
              "    .dataframe tbody tr th:only-of-type {\n",
              "        vertical-align: middle;\n",
              "    }\n",
              "\n",
              "    .dataframe tbody tr th {\n",
              "        vertical-align: top;\n",
              "    }\n",
              "\n",
              "    .dataframe thead tr th {\n",
              "        text-align: left;\n",
              "    }\n",
              "\n",
              "    .dataframe thead tr:last-of-type th {\n",
              "        text-align: right;\n",
              "    }\n",
              "</style>\n",
              "<table border=\"1\" class=\"dataframe\">\n",
              "  <thead>\n",
              "    <tr>\n",
              "      <th></th>\n",
              "      <th colspan=\"4\" halign=\"left\">from</th>\n",
              "      <th colspan=\"4\" halign=\"left\">sentences</th>\n",
              "    </tr>\n",
              "    <tr>\n",
              "      <th></th>\n",
              "      <th>count</th>\n",
              "      <th>unique</th>\n",
              "      <th>top</th>\n",
              "      <th>freq</th>\n",
              "      <th>count</th>\n",
              "      <th>unique</th>\n",
              "      <th>top</th>\n",
              "      <th>freq</th>\n",
              "    </tr>\n",
              "    <tr>\n",
              "      <th>lang</th>\n",
              "      <th></th>\n",
              "      <th></th>\n",
              "      <th></th>\n",
              "      <th></th>\n",
              "      <th></th>\n",
              "      <th></th>\n",
              "      <th></th>\n",
              "      <th></th>\n",
              "    </tr>\n",
              "  </thead>\n",
              "  <tbody>\n",
              "    <tr>\n",
              "      <th>ar</th>\n",
              "      <td>250</td>\n",
              "      <td>1</td>\n",
              "      <td>TED2020</td>\n",
              "      <td>250</td>\n",
              "      <td>250</td>\n",
              "      <td>250</td>\n",
              "      <td>هناك الكثير ليقال حول ذلك.</td>\n",
              "      <td>1</td>\n",
              "    </tr>\n",
              "    <tr>\n",
              "      <th>cs</th>\n",
              "      <td>250</td>\n",
              "      <td>1</td>\n",
              "      <td>TED2020</td>\n",
              "      <td>250</td>\n",
              "      <td>250</td>\n",
              "      <td>250</td>\n",
              "      <td>Pomozte s masovou kampaní, která začne letos n...</td>\n",
              "      <td>1</td>\n",
              "    </tr>\n",
              "    <tr>\n",
              "      <th>de</th>\n",
              "      <td>250</td>\n",
              "      <td>1</td>\n",
              "      <td>TED2020</td>\n",
              "      <td>250</td>\n",
              "      <td>250</td>\n",
              "      <td>250</td>\n",
              "      <td>Und wir haben einen langen Weg hinter uns, sei...</td>\n",
              "      <td>1</td>\n",
              "    </tr>\n",
              "    <tr>\n",
              "      <th>en</th>\n",
              "      <td>250</td>\n",
              "      <td>1</td>\n",
              "      <td>TED2020</td>\n",
              "      <td>250</td>\n",
              "      <td>250</td>\n",
              "      <td>250</td>\n",
              "      <td>(Applause)</td>\n",
              "      <td>1</td>\n",
              "    </tr>\n",
              "    <tr>\n",
              "      <th>es</th>\n",
              "      <td>250</td>\n",
              "      <td>1</td>\n",
              "      <td>TED2020</td>\n",
              "      <td>250</td>\n",
              "      <td>250</td>\n",
              "      <td>250</td>\n",
              "      <td>Estos no son resultados electorales,  son pers...</td>\n",
              "      <td>1</td>\n",
              "    </tr>\n",
              "    <tr>\n",
              "      <th>fr</th>\n",
              "      <td>250</td>\n",
              "      <td>1</td>\n",
              "      <td>TED2020</td>\n",
              "      <td>250</td>\n",
              "      <td>250</td>\n",
              "      <td>250</td>\n",
              "      <td>Ainsi au lieu d'insérer un fil dans un seul en...</td>\n",
              "      <td>1</td>\n",
              "    </tr>\n",
              "    <tr>\n",
              "      <th>it</th>\n",
              "      <td>250</td>\n",
              "      <td>1</td>\n",
              "      <td>TED2020</td>\n",
              "      <td>250</td>\n",
              "      <td>250</td>\n",
              "      <td>250</td>\n",
              "      <td>uscimmo, iniziammo a cercare e trovammo un ris...</td>\n",
              "      <td>1</td>\n",
              "    </tr>\n",
              "    <tr>\n",
              "      <th>ja</th>\n",
              "      <td>250</td>\n",
              "      <td>1</td>\n",
              "      <td>TED2020</td>\n",
              "      <td>250</td>\n",
              "      <td>250</td>\n",
              "      <td>250</td>\n",
              "      <td>よく見てみると 彼の頭がい骨は アクリルガラスのドームに 付け替えられています こうすること...</td>\n",
              "      <td>1</td>\n",
              "    </tr>\n",
              "    <tr>\n",
              "      <th>nl</th>\n",
              "      <td>250</td>\n",
              "      <td>1</td>\n",
              "      <td>TED2020</td>\n",
              "      <td>250</td>\n",
              "      <td>250</td>\n",
              "      <td>250</td>\n",
              "      <td>Men doet waarvoor je ze betaalt, en als ze ins...</td>\n",
              "      <td>1</td>\n",
              "    </tr>\n",
              "    <tr>\n",
              "      <th>pt</th>\n",
              "      <td>250</td>\n",
              "      <td>1</td>\n",
              "      <td>TED2020</td>\n",
              "      <td>250</td>\n",
              "      <td>250</td>\n",
              "      <td>250</td>\n",
              "      <td>Cortou a cabeça às moscas.</td>\n",
              "      <td>1</td>\n",
              "    </tr>\n",
              "    <tr>\n",
              "      <th>ru</th>\n",
              "      <td>250</td>\n",
              "      <td>1</td>\n",
              "      <td>TED2020</td>\n",
              "      <td>250</td>\n",
              "      <td>250</td>\n",
              "      <td>250</td>\n",
              "      <td>Этот подход работает и для движущихся животных...</td>\n",
              "      <td>1</td>\n",
              "    </tr>\n",
              "    <tr>\n",
              "      <th>zh</th>\n",
              "      <td>250</td>\n",
              "      <td>1</td>\n",
              "      <td>TED2020</td>\n",
              "      <td>250</td>\n",
              "      <td>250</td>\n",
              "      <td>250</td>\n",
              "      <td>有條友去咗另一個國家， 佢話：“呢度啲人真係神奇，佢哋嘅架撐真係得意， 距哋嘅文化好盞鬼。”</td>\n",
              "      <td>1</td>\n",
              "    </tr>\n",
              "  </tbody>\n",
              "</table>\n",
              "</div>"
            ],
            "text/plain": [
              "      from         ...                                          sentences     \n",
              "     count unique  ...                                                top freq\n",
              "lang               ...                                                        \n",
              "ar     250      1  ...                         هناك الكثير ليقال حول ذلك.    1\n",
              "cs     250      1  ...  Pomozte s masovou kampaní, která začne letos n...    1\n",
              "de     250      1  ...  Und wir haben einen langen Weg hinter uns, sei...    1\n",
              "en     250      1  ...                                         (Applause)    1\n",
              "es     250      1  ...  Estos no son resultados electorales,  son pers...    1\n",
              "fr     250      1  ...  Ainsi au lieu d'insérer un fil dans un seul en...    1\n",
              "it     250      1  ...  uscimmo, iniziammo a cercare e trovammo un ris...    1\n",
              "ja     250      1  ...  よく見てみると 彼の頭がい骨は アクリルガラスのドームに 付け替えられています こうすること...    1\n",
              "nl     250      1  ...  Men doet waarvoor je ze betaalt, en als ze ins...    1\n",
              "pt     250      1  ...                         Cortou a cabeça às moscas.    1\n",
              "ru     250      1  ...  Этот подход работает и для движущихся животных...    1\n",
              "zh     250      1  ...     有條友去咗另一個國家， 佢話：“呢度啲人真係神奇，佢哋嘅架撐真係得意， 距哋嘅文化好盞鬼。”    1\n",
              "\n",
              "[12 rows x 8 columns]"
            ]
          },
          "metadata": {
            "tags": []
          },
          "execution_count": 17
        }
      ]
    },
    {
      "cell_type": "markdown",
      "metadata": {
        "id": "qN4_2ttfJFz8"
      },
      "source": [
        "## Check TED2020 is parallel data. \r\n",
        "\r\n",
        "The same sentence in different languages should theorically have the same vectorization. However, there might be some variability among languages. Including this variability in the data to fit the PCA is highly recommended. Parallel data from TED2020 is used for this purpose. "
      ]
    },
    {
      "cell_type": "code",
      "metadata": {
        "colab": {
          "base_uri": "https://localhost:8080/",
          "height": 206
        },
        "id": "zGooV5UmI7Wy",
        "outputId": "723d4987-aa17-4cbd-99c8-af2b8a8206e3"
      },
      "source": [
        "df_TED_langs[df_TED_langs[\"lang\"] == \"pt\"].head()"
      ],
      "execution_count": 40,
      "outputs": [
        {
          "output_type": "execute_result",
          "data": {
            "text/html": [
              "<div>\n",
              "<style scoped>\n",
              "    .dataframe tbody tr th:only-of-type {\n",
              "        vertical-align: middle;\n",
              "    }\n",
              "\n",
              "    .dataframe tbody tr th {\n",
              "        vertical-align: top;\n",
              "    }\n",
              "\n",
              "    .dataframe thead th {\n",
              "        text-align: right;\n",
              "    }\n",
              "</style>\n",
              "<table border=\"1\" class=\"dataframe\">\n",
              "  <thead>\n",
              "    <tr style=\"text-align: right;\">\n",
              "      <th></th>\n",
              "      <th>from</th>\n",
              "      <th>lang</th>\n",
              "      <th>sentences</th>\n",
              "    </tr>\n",
              "  </thead>\n",
              "  <tbody>\n",
              "    <tr>\n",
              "      <th>1250</th>\n",
              "      <td>TED2020</td>\n",
              "      <td>pt</td>\n",
              "      <td>Muito obrigado, Chris.</td>\n",
              "    </tr>\n",
              "    <tr>\n",
              "      <th>1251</th>\n",
              "      <td>TED2020</td>\n",
              "      <td>pt</td>\n",
              "      <td>É realmente uma grande honra ter a oportunidad...</td>\n",
              "    </tr>\n",
              "    <tr>\n",
              "      <th>1252</th>\n",
              "      <td>TED2020</td>\n",
              "      <td>pt</td>\n",
              "      <td>Fiquei muito impressionado com esta conferênci...</td>\n",
              "    </tr>\n",
              "    <tr>\n",
              "      <th>1253</th>\n",
              "      <td>TED2020</td>\n",
              "      <td>pt</td>\n",
              "      <td>Digo-o sinceramente, em parte, porque... preci...</td>\n",
              "    </tr>\n",
              "    <tr>\n",
              "      <th>1254</th>\n",
              "      <td>TED2020</td>\n",
              "      <td>pt</td>\n",
              "      <td>(Risos) Coloquem-se no meu lugar!</td>\n",
              "    </tr>\n",
              "  </tbody>\n",
              "</table>\n",
              "</div>"
            ],
            "text/plain": [
              "         from lang                                          sentences\n",
              "1250  TED2020   pt                             Muito obrigado, Chris.\n",
              "1251  TED2020   pt  É realmente uma grande honra ter a oportunidad...\n",
              "1252  TED2020   pt  Fiquei muito impressionado com esta conferênci...\n",
              "1253  TED2020   pt  Digo-o sinceramente, em parte, porque... preci...\n",
              "1254  TED2020   pt                  (Risos) Coloquem-se no meu lugar!"
            ]
          },
          "metadata": {
            "tags": []
          },
          "execution_count": 40
        }
      ]
    },
    {
      "cell_type": "code",
      "metadata": {
        "colab": {
          "base_uri": "https://localhost:8080/",
          "height": 206
        },
        "id": "C4ifDrwxJBtU",
        "outputId": "c0aabee2-732d-445f-9293-3ffdc1fa4e17"
      },
      "source": [
        "df_TED_langs[df_TED_langs[\"lang\"] == \"es\"].head()"
      ],
      "execution_count": 43,
      "outputs": [
        {
          "output_type": "execute_result",
          "data": {
            "text/html": [
              "<div>\n",
              "<style scoped>\n",
              "    .dataframe tbody tr th:only-of-type {\n",
              "        vertical-align: middle;\n",
              "    }\n",
              "\n",
              "    .dataframe tbody tr th {\n",
              "        vertical-align: top;\n",
              "    }\n",
              "\n",
              "    .dataframe thead th {\n",
              "        text-align: right;\n",
              "    }\n",
              "</style>\n",
              "<table border=\"1\" class=\"dataframe\">\n",
              "  <thead>\n",
              "    <tr style=\"text-align: right;\">\n",
              "      <th></th>\n",
              "      <th>from</th>\n",
              "      <th>lang</th>\n",
              "      <th>sentences</th>\n",
              "    </tr>\n",
              "  </thead>\n",
              "  <tbody>\n",
              "    <tr>\n",
              "      <th>1000</th>\n",
              "      <td>TED2020</td>\n",
              "      <td>es</td>\n",
              "      <td>Muchas gracias Chris.</td>\n",
              "    </tr>\n",
              "    <tr>\n",
              "      <th>1001</th>\n",
              "      <td>TED2020</td>\n",
              "      <td>es</td>\n",
              "      <td>Y es en verdad un gran honor tener la oportuni...</td>\n",
              "    </tr>\n",
              "    <tr>\n",
              "      <th>1002</th>\n",
              "      <td>TED2020</td>\n",
              "      <td>es</td>\n",
              "      <td>He quedado conmovido por esta conferencia, y d...</td>\n",
              "    </tr>\n",
              "    <tr>\n",
              "      <th>1003</th>\n",
              "      <td>TED2020</td>\n",
              "      <td>es</td>\n",
              "      <td>Y digo eso sinceramente, en parte porque -- (S...</td>\n",
              "    </tr>\n",
              "    <tr>\n",
              "      <th>1004</th>\n",
              "      <td>TED2020</td>\n",
              "      <td>es</td>\n",
              "      <td>(Risas) ¡Pónganse en mi posición!</td>\n",
              "    </tr>\n",
              "  </tbody>\n",
              "</table>\n",
              "</div>"
            ],
            "text/plain": [
              "         from lang                                          sentences\n",
              "1000  TED2020   es                              Muchas gracias Chris.\n",
              "1001  TED2020   es  Y es en verdad un gran honor tener la oportuni...\n",
              "1002  TED2020   es  He quedado conmovido por esta conferencia, y d...\n",
              "1003  TED2020   es  Y digo eso sinceramente, en parte porque -- (S...\n",
              "1004  TED2020   es                  (Risas) ¡Pónganse en mi posición!"
            ]
          },
          "metadata": {
            "tags": []
          },
          "execution_count": 43
        }
      ]
    },
    {
      "cell_type": "markdown",
      "metadata": {
        "id": "VOffEVKw0xqB"
      },
      "source": [
        "# Sentences from Wiki Matrix\n"
      ]
    },
    {
      "cell_type": "code",
      "metadata": {
        "colab": {
          "base_uri": "https://localhost:8080/"
        },
        "id": "XJhEkCILE6-d",
        "outputId": "eab41b17-274e-4797-bf36-917e70bb2d1b"
      },
      "source": [
        "!python get_wikimatrix_sentences.py --help"
      ],
      "execution_count": 20,
      "outputs": [
        {
          "output_type": "stream",
          "text": [
            "2020-12-16 10:23:55.003485: I tensorflow/stream_executor/platform/default/dso_loader.cc:48] Successfully opened dynamic library libcudart.so.10.1\n",
            "\n",
            "This script automatically downloads WikiMatrix corpus for the languages selected.   \n",
            "The WikiMatrix corpus is a crawl of mined parallel sentences from Wikipedia in \n",
            "different languages. With this script the user can select the amount of \n",
            "sentences and the languages desired. We only used pairs with scores\n",
            "above 1.075, as pairs below this threshold were often of bad quality.\n",
            "       \n",
            "          \n",
            "Usage:\n",
            "\n",
            "    python get_wikimatrix_sentences.py [options] \n",
            "\n",
            "Options:\n",
            "    -n, --n_sentences            Number of sentences to collect\n",
            "    -l, --languages              Languages ​​from which we extract sentences\n",
            "    -h, --help                   Help documentation\n",
            "\n",
            "\n",
            "Example. Extract Wikimatrix arabic and italian sentences:\n",
            "    python get_wikimatrix_sentences.py --n_sentences 500 --languages ar,it\n"
          ],
          "name": "stdout"
        }
      ]
    },
    {
      "cell_type": "code",
      "metadata": {
        "id": "3zHOIfk12_Q3",
        "colab": {
          "base_uri": "https://localhost:8080/"
        },
        "outputId": "88cda6c1-9059-4f0e-fa6d-98e6a8c69b6a"
      },
      "source": [
        "!python get_wikimatrix_sentences.py --n_sentences 500 --languages pl,tr,hi"
      ],
      "execution_count": 29,
      "outputs": [
        {
          "output_type": "stream",
          "text": [
            "2020-12-16 10:32:11.443633: I tensorflow/stream_executor/platform/default/dso_loader.cc:48] Successfully opened dynamic library libcudart.so.10.1\n",
            "Recovering WikiMatrix data for for languages: pl tr hi\n",
            "Write 500 PCA train sentences parallel-sentences/Wikimatrix/WikiMatrix-en-tr-train_pca.tsv.gz\n",
            "Write 500 PCA train sentences parallel-sentences/Wikimatrix/WikiMatrix-en-pl-train_pca.tsv.gz\n",
            "Write 500 PCA train sentences parallel-sentences/Wikimatrix/WikiMatrix-en-hi-train_pca.tsv.gz\n",
            "Creating data frame for Wikimatrix languages: pl-tr-hi\n",
            "WikiMatrix-en-nl-train_pca.tsv.gz\n",
            "WikiMatrix-en-tr-train_pca.tsv.gz\n",
            "WikiMatrix-en-pl-train_pca.tsv.gz\n",
            "WikiMatrix-en-hi-train_pca.tsv.gz\n",
            "---Saving results in parallel-sentences/Wikimatrix/df_wikimatrix_pl-tr-hi.pkl ---\n",
            "--- Removing downloaded files ---\n",
            "--- Finish ---\n"
          ],
          "name": "stdout"
        }
      ]
    },
    {
      "cell_type": "code",
      "metadata": {
        "colab": {
          "base_uri": "https://localhost:8080/",
          "height": 206
        },
        "id": "lzp5QuPKFGmV",
        "outputId": "c86e9826-7eca-43c6-d6f2-d29a967fbc8b"
      },
      "source": [
        "df_Wiki_pl_tr_hi = pd.read_pickle(\"/content/parallel-sentences/Wikimatrix/df_wikimatrix_pl-tr-hi.pkl\")\r\n",
        "df_Wiki_pl_tr_hi.groupby(\"lang\").describe()"
      ],
      "execution_count": 26,
      "outputs": [
        {
          "output_type": "execute_result",
          "data": {
            "text/html": [
              "<div>\n",
              "<style scoped>\n",
              "    .dataframe tbody tr th:only-of-type {\n",
              "        vertical-align: middle;\n",
              "    }\n",
              "\n",
              "    .dataframe tbody tr th {\n",
              "        vertical-align: top;\n",
              "    }\n",
              "\n",
              "    .dataframe thead tr th {\n",
              "        text-align: left;\n",
              "    }\n",
              "\n",
              "    .dataframe thead tr:last-of-type th {\n",
              "        text-align: right;\n",
              "    }\n",
              "</style>\n",
              "<table border=\"1\" class=\"dataframe\">\n",
              "  <thead>\n",
              "    <tr>\n",
              "      <th></th>\n",
              "      <th colspan=\"4\" halign=\"left\">from</th>\n",
              "      <th colspan=\"4\" halign=\"left\">sentences</th>\n",
              "    </tr>\n",
              "    <tr>\n",
              "      <th></th>\n",
              "      <th>count</th>\n",
              "      <th>unique</th>\n",
              "      <th>top</th>\n",
              "      <th>freq</th>\n",
              "      <th>count</th>\n",
              "      <th>unique</th>\n",
              "      <th>top</th>\n",
              "      <th>freq</th>\n",
              "    </tr>\n",
              "    <tr>\n",
              "      <th>lang</th>\n",
              "      <th></th>\n",
              "      <th></th>\n",
              "      <th></th>\n",
              "      <th></th>\n",
              "      <th></th>\n",
              "      <th></th>\n",
              "      <th></th>\n",
              "      <th></th>\n",
              "    </tr>\n",
              "  </thead>\n",
              "  <tbody>\n",
              "    <tr>\n",
              "      <th>hi</th>\n",
              "      <td>500</td>\n",
              "      <td>1</td>\n",
              "      <td>WikiMatrix</td>\n",
              "      <td>500</td>\n",
              "      <td>500</td>\n",
              "      <td>500</td>\n",
              "      <td>शहर में कम से कम तीन बाग़ थे।</td>\n",
              "      <td>1</td>\n",
              "    </tr>\n",
              "    <tr>\n",
              "      <th>pl</th>\n",
              "      <td>500</td>\n",
              "      <td>1</td>\n",
              "      <td>WikiMatrix</td>\n",
              "      <td>500</td>\n",
              "      <td>500</td>\n",
              "      <td>500</td>\n",
              "      <td>W 2009 roku powiedział: „Pamiętacie Lawrence’a...</td>\n",
              "      <td>1</td>\n",
              "    </tr>\n",
              "    <tr>\n",
              "      <th>tr</th>\n",
              "      <td>500</td>\n",
              "      <td>1</td>\n",
              "      <td>WikiMatrix</td>\n",
              "      <td>500</td>\n",
              "      <td>500</td>\n",
              "      <td>500</td>\n",
              "      <td>Irak'ta kalırlarsa ne yapacaklar?</td>\n",
              "      <td>1</td>\n",
              "    </tr>\n",
              "  </tbody>\n",
              "</table>\n",
              "</div>"
            ],
            "text/plain": [
              "      from         ...                                          sentences     \n",
              "     count unique  ...                                                top freq\n",
              "lang               ...                                                        \n",
              "hi     500      1  ...                      शहर में कम से कम तीन बाग़ थे।    1\n",
              "pl     500      1  ...  W 2009 roku powiedział: „Pamiętacie Lawrence’a...    1\n",
              "tr     500      1  ...                  Irak'ta kalırlarsa ne yapacaklar?    1\n",
              "\n",
              "[3 rows x 8 columns]"
            ]
          },
          "metadata": {
            "tags": []
          },
          "execution_count": 26
        }
      ]
    },
    {
      "cell_type": "code",
      "metadata": {
        "id": "OGZsWqZpV1s0",
        "colab": {
          "base_uri": "https://localhost:8080/"
        },
        "outputId": "69169e06-62b6-45eb-db8a-18cfe575df58"
      },
      "source": [
        "!python get_wikimatrix_sentences.py --n_sentences 250 --languages ar,cs,de,en,es,fr,it,ja,nl,pt,ru,zh"
      ],
      "execution_count": 30,
      "outputs": [
        {
          "output_type": "stream",
          "text": [
            "2020-12-16 10:32:15.383313: I tensorflow/stream_executor/platform/default/dso_loader.cc:48] Successfully opened dynamic library libcudart.so.10.1\n",
            "Recovering WikiMatrix data for for languages: ar cs de en es fr it ja nl pt ru zh\n",
            "Download https://dl.fbaipublicfiles.com/laser/WikiMatrix/v1/WikiMatrix.en-fr.tsv.gz\n",
            "100% 755M/755M [00:31<00:00, 24.0MB/s]\n",
            "Write 250 PCA train sentences parallel-sentences/Wikimatrix/WikiMatrix-en-fr-train_pca.tsv.gz\n",
            "Download https://dl.fbaipublicfiles.com/laser/WikiMatrix/v1/WikiMatrix.cs-en.tsv.gz\n",
            "100% 220M/220M [00:09<00:00, 23.2MB/s]\n",
            "Write 250 PCA train sentences parallel-sentences/Wikimatrix/WikiMatrix-en-cs-train_pca.tsv.gz\n",
            "Download https://dl.fbaipublicfiles.com/laser/WikiMatrix/v1/WikiMatrix.en-it.tsv.gz\n",
            "100% 566M/566M [00:23<00:00, 23.9MB/s]\n",
            "Write 250 PCA train sentences parallel-sentences/Wikimatrix/WikiMatrix-en-it-train_pca.tsv.gz\n",
            "Write 250 PCA train sentences parallel-sentences/Wikimatrix/WikiMatrix-en-nl-train_pca.tsv.gz\n",
            "Download https://dl.fbaipublicfiles.com/laser/WikiMatrix/v1/WikiMatrix.en-pt.tsv.gz\n",
            "100% 527M/527M [00:21<00:00, 24.3MB/s]\n",
            "Write 250 PCA train sentences parallel-sentences/Wikimatrix/WikiMatrix-en-pt-train_pca.tsv.gz\n",
            "Download https://dl.fbaipublicfiles.com/laser/WikiMatrix/v1/WikiMatrix.en-ja.tsv.gz\n",
            "100% 441M/441M [00:18<00:00, 23.7MB/s]\n",
            "Write 250 PCA train sentences parallel-sentences/Wikimatrix/WikiMatrix-en-ja-train_pca.tsv.gz\n",
            "Download https://dl.fbaipublicfiles.com/laser/WikiMatrix/v1/WikiMatrix.en-es.tsv.gz\n",
            "100% 757M/757M [00:30<00:00, 24.5MB/s]\n",
            "Write 250 PCA train sentences parallel-sentences/Wikimatrix/WikiMatrix-en-es-train_pca.tsv.gz\n",
            "Download https://dl.fbaipublicfiles.com/laser/WikiMatrix/v1/WikiMatrix.ar-en.tsv.gz\n",
            "100% 273M/273M [00:11<00:00, 23.1MB/s]\n",
            "Write 250 PCA train sentences parallel-sentences/Wikimatrix/WikiMatrix-en-ar-train_pca.tsv.gz\n",
            "Download https://dl.fbaipublicfiles.com/laser/WikiMatrix/v1/WikiMatrix.de-en.tsv.gz\n",
            "100% 650M/650M [00:26<00:00, 24.2MB/s]\n",
            "Write 250 PCA train sentences parallel-sentences/Wikimatrix/WikiMatrix-en-de-train_pca.tsv.gz\n",
            "Download https://dl.fbaipublicfiles.com/laser/WikiMatrix/v1/WikiMatrix.en-en.tsv.gz\n",
            "Exception when trying to download https://dl.fbaipublicfiles.com/laser/WikiMatrix/v1/WikiMatrix.en-en.tsv.gz. Response 403\n",
            "Was not able to download https://dl.fbaipublicfiles.com/laser/WikiMatrix/v1/WikiMatrix.en-en.tsv.gz\n",
            "Download https://dl.fbaipublicfiles.com/laser/WikiMatrix/v1/WikiMatrix.en-ru.tsv.gz\n",
            "100% 658M/658M [00:27<00:00, 23.7MB/s]\n",
            "Write 250 PCA train sentences parallel-sentences/Wikimatrix/WikiMatrix-en-ru-train_pca.tsv.gz\n",
            "Download https://dl.fbaipublicfiles.com/laser/WikiMatrix/v1/WikiMatrix.en-zh.tsv.gz\n",
            "100% 340M/340M [00:14<00:00, 23.9MB/s]\n",
            "Write 250 PCA train sentences parallel-sentences/Wikimatrix/WikiMatrix-en-zh-train_pca.tsv.gz\n",
            "Creating data frame for Wikimatrix languages: ar-cs-de-en-es-fr-it-ja-nl-pt-ru-zh\n",
            "WikiMatrix-en-nl-train_pca.tsv.gz\n",
            "WikiMatrix-en-ja-train_pca.tsv.gz\n",
            "WikiMatrix-en-it-train_pca.tsv.gz\n",
            "WikiMatrix-en-ru-train_pca.tsv.gz\n",
            "WikiMatrix-en-zh-train_pca.tsv.gz\n",
            "WikiMatrix-en-fr-train_pca.tsv.gz\n",
            "WikiMatrix-en-de-train_pca.tsv.gz\n",
            "WikiMatrix-en-ar-train_pca.tsv.gz\n",
            "WikiMatrix-en-cs-train_pca.tsv.gz\n",
            "WikiMatrix-en-pt-train_pca.tsv.gz\n",
            "WikiMatrix-en-es-train_pca.tsv.gz\n",
            "---Saving results in parallel-sentences/Wikimatrix/df_wikimatrix_ar-cs-de-en-es-fr-it-ja-nl-pt-ru-zh.pkl ---\n",
            "--- Removing downloaded files ---\n",
            "--- Finish ---\n"
          ],
          "name": "stdout"
        }
      ]
    },
    {
      "cell_type": "code",
      "metadata": {
        "colab": {
          "base_uri": "https://localhost:8080/",
          "height": 488
        },
        "id": "HoXjEAzGGtD-",
        "outputId": "ea35f6e4-c2c8-4e6f-8820-76246481bf9c"
      },
      "source": [
        "df_Wiki_langs = pd.read_pickle(\"/content/parallel-sentences/Wikimatrix/df_wikimatrix_ar-cs-de-en-es-fr-it-ja-nl-pt-ru-zh.pkl\")\r\n",
        "df_Wiki_langs.groupby(\"lang\").describe()"
      ],
      "execution_count": 31,
      "outputs": [
        {
          "output_type": "execute_result",
          "data": {
            "text/html": [
              "<div>\n",
              "<style scoped>\n",
              "    .dataframe tbody tr th:only-of-type {\n",
              "        vertical-align: middle;\n",
              "    }\n",
              "\n",
              "    .dataframe tbody tr th {\n",
              "        vertical-align: top;\n",
              "    }\n",
              "\n",
              "    .dataframe thead tr th {\n",
              "        text-align: left;\n",
              "    }\n",
              "\n",
              "    .dataframe thead tr:last-of-type th {\n",
              "        text-align: right;\n",
              "    }\n",
              "</style>\n",
              "<table border=\"1\" class=\"dataframe\">\n",
              "  <thead>\n",
              "    <tr>\n",
              "      <th></th>\n",
              "      <th colspan=\"4\" halign=\"left\">from</th>\n",
              "      <th colspan=\"4\" halign=\"left\">sentences</th>\n",
              "    </tr>\n",
              "    <tr>\n",
              "      <th></th>\n",
              "      <th>count</th>\n",
              "      <th>unique</th>\n",
              "      <th>top</th>\n",
              "      <th>freq</th>\n",
              "      <th>count</th>\n",
              "      <th>unique</th>\n",
              "      <th>top</th>\n",
              "      <th>freq</th>\n",
              "    </tr>\n",
              "    <tr>\n",
              "      <th>lang</th>\n",
              "      <th></th>\n",
              "      <th></th>\n",
              "      <th></th>\n",
              "      <th></th>\n",
              "      <th></th>\n",
              "      <th></th>\n",
              "      <th></th>\n",
              "      <th></th>\n",
              "    </tr>\n",
              "  </thead>\n",
              "  <tbody>\n",
              "    <tr>\n",
              "      <th>ar</th>\n",
              "      <td>250</td>\n",
              "      <td>1</td>\n",
              "      <td>WikiMatrix</td>\n",
              "      <td>250</td>\n",
              "      <td>250</td>\n",
              "      <td>250</td>\n",
              "      <td>وأنا مثل أي شخص، أود أن أعيش حياة طويلة.</td>\n",
              "      <td>1</td>\n",
              "    </tr>\n",
              "    <tr>\n",
              "      <th>cs</th>\n",
              "      <td>250</td>\n",
              "      <td>1</td>\n",
              "      <td>WikiMatrix</td>\n",
              "      <td>250</td>\n",
              "      <td>250</td>\n",
              "      <td>250</td>\n",
              "      <td>Blažej Baláž - Moja cesta.</td>\n",
              "      <td>1</td>\n",
              "    </tr>\n",
              "    <tr>\n",
              "      <th>de</th>\n",
              "      <td>250</td>\n",
              "      <td>1</td>\n",
              "      <td>WikiMatrix</td>\n",
              "      <td>250</td>\n",
              "      <td>250</td>\n",
              "      <td>250</td>\n",
              "      <td>Ich habe einen Test gemacht: Ist der Mann immu...</td>\n",
              "      <td>1</td>\n",
              "    </tr>\n",
              "    <tr>\n",
              "      <th>en</th>\n",
              "      <td>250</td>\n",
              "      <td>1</td>\n",
              "      <td>WikiMatrix</td>\n",
              "      <td>250</td>\n",
              "      <td>250</td>\n",
              "      <td>250</td>\n",
              "      <td>The Prophet said, \"O the son of Al-Khattab!</td>\n",
              "      <td>1</td>\n",
              "    </tr>\n",
              "    <tr>\n",
              "      <th>es</th>\n",
              "      <td>250</td>\n",
              "      <td>1</td>\n",
              "      <td>WikiMatrix</td>\n",
              "      <td>250</td>\n",
              "      <td>250</td>\n",
              "      <td>250</td>\n",
              "      <td>«¿Es imposible traducir dos veces (exactamente...</td>\n",
              "      <td>1</td>\n",
              "    </tr>\n",
              "    <tr>\n",
              "      <th>fr</th>\n",
              "      <td>250</td>\n",
              "      <td>1</td>\n",
              "      <td>WikiMatrix</td>\n",
              "      <td>250</td>\n",
              "      <td>250</td>\n",
              "      <td>250</td>\n",
              "      <td>These may be roughly equivalent to HEPA or ULP...</td>\n",
              "      <td>1</td>\n",
              "    </tr>\n",
              "    <tr>\n",
              "      <th>it</th>\n",
              "      <td>250</td>\n",
              "      <td>1</td>\n",
              "      <td>WikiMatrix</td>\n",
              "      <td>250</td>\n",
              "      <td>250</td>\n",
              "      <td>250</td>\n",
              "      <td>Gu finalmente trova la pace.</td>\n",
              "      <td>1</td>\n",
              "    </tr>\n",
              "    <tr>\n",
              "      <th>ja</th>\n",
              "      <td>250</td>\n",
              "      <td>1</td>\n",
              "      <td>WikiMatrix</td>\n",
              "      <td>250</td>\n",
              "      <td>250</td>\n",
              "      <td>250</td>\n",
              "      <td>また曹操は一旦許に帰還した。</td>\n",
              "      <td>1</td>\n",
              "    </tr>\n",
              "    <tr>\n",
              "      <th>nl</th>\n",
              "      <td>250</td>\n",
              "      <td>1</td>\n",
              "      <td>WikiMatrix</td>\n",
              "      <td>250</td>\n",
              "      <td>250</td>\n",
              "      <td>250</td>\n",
              "      <td>Ames illustreerde daarnaast de werken Really a...</td>\n",
              "      <td>1</td>\n",
              "    </tr>\n",
              "    <tr>\n",
              "      <th>pt</th>\n",
              "      <td>250</td>\n",
              "      <td>1</td>\n",
              "      <td>WikiMatrix</td>\n",
              "      <td>250</td>\n",
              "      <td>250</td>\n",
              "      <td>250</td>\n",
              "      <td>E o Ale pode abrir essa nova porta.\"</td>\n",
              "      <td>1</td>\n",
              "    </tr>\n",
              "    <tr>\n",
              "      <th>ru</th>\n",
              "      <td>250</td>\n",
              "      <td>1</td>\n",
              "      <td>WikiMatrix</td>\n",
              "      <td>250</td>\n",
              "      <td>250</td>\n",
              "      <td>250</td>\n",
              "      <td>И некоторые из них находятся в свои семьдесят».</td>\n",
              "      <td>1</td>\n",
              "    </tr>\n",
              "    <tr>\n",
              "      <th>zh</th>\n",
              "      <td>250</td>\n",
              "      <td>1</td>\n",
              "      <td>WikiMatrix</td>\n",
              "      <td>250</td>\n",
              "      <td>250</td>\n",
              "      <td>250</td>\n",
              "      <td>乔治·卢卡斯现在正在着手一个想法。</td>\n",
              "      <td>1</td>\n",
              "    </tr>\n",
              "  </tbody>\n",
              "</table>\n",
              "</div>"
            ],
            "text/plain": [
              "      from         ...                                          sentences     \n",
              "     count unique  ...                                                top freq\n",
              "lang               ...                                                        \n",
              "ar     250      1  ...           وأنا مثل أي شخص، أود أن أعيش حياة طويلة.    1\n",
              "cs     250      1  ...                         Blažej Baláž - Moja cesta.    1\n",
              "de     250      1  ...  Ich habe einen Test gemacht: Ist der Mann immu...    1\n",
              "en     250      1  ...        The Prophet said, \"O the son of Al-Khattab!    1\n",
              "es     250      1  ...  «¿Es imposible traducir dos veces (exactamente...    1\n",
              "fr     250      1  ...  These may be roughly equivalent to HEPA or ULP...    1\n",
              "it     250      1  ...                       Gu finalmente trova la pace.    1\n",
              "ja     250      1  ...                                     また曹操は一旦許に帰還した。    1\n",
              "nl     250      1  ...  Ames illustreerde daarnaast de werken Really a...    1\n",
              "pt     250      1  ...               E o Ale pode abrir essa nova porta.\"    1\n",
              "ru     250      1  ...    И некоторые из них находятся в свои семьдесят».    1\n",
              "zh     250      1  ...                                  乔治·卢卡斯现在正在着手一个想法。    1\n",
              "\n",
              "[12 rows x 8 columns]"
            ]
          },
          "metadata": {
            "tags": []
          },
          "execution_count": 31
        }
      ]
    },
    {
      "cell_type": "markdown",
      "metadata": {
        "id": "EMmPdPgyKjZA"
      },
      "source": [
        "## Check WikiMatrix data is not parallel data\r\n",
        "\r\n",
        "As mentioned above, parallel data is extremely useful for including the language embedding representation variability in the PCA. However, introducing a specific set of sentences for each language is also required. This strategy ensures that PCA includes the specific representation for each language.  "
      ]
    },
    {
      "cell_type": "code",
      "metadata": {
        "colab": {
          "base_uri": "https://localhost:8080/",
          "height": 206
        },
        "id": "zRl4BTFiIJIK",
        "outputId": "716da116-7d41-4f0d-d200-d361fc0ea0ea"
      },
      "source": [
        "df_Wiki_langs[df_Wiki_langs[\"lang\"] == \"pt\"].head()"
      ],
      "execution_count": 45,
      "outputs": [
        {
          "output_type": "execute_result",
          "data": {
            "text/html": [
              "<div>\n",
              "<style scoped>\n",
              "    .dataframe tbody tr th:only-of-type {\n",
              "        vertical-align: middle;\n",
              "    }\n",
              "\n",
              "    .dataframe tbody tr th {\n",
              "        vertical-align: top;\n",
              "    }\n",
              "\n",
              "    .dataframe thead th {\n",
              "        text-align: right;\n",
              "    }\n",
              "</style>\n",
              "<table border=\"1\" class=\"dataframe\">\n",
              "  <thead>\n",
              "    <tr style=\"text-align: right;\">\n",
              "      <th></th>\n",
              "      <th>from</th>\n",
              "      <th>lang</th>\n",
              "      <th>sentences</th>\n",
              "    </tr>\n",
              "  </thead>\n",
              "  <tbody>\n",
              "    <tr>\n",
              "      <th>2500</th>\n",
              "      <td>WikiMatrix</td>\n",
              "      <td>pt</td>\n",
              "      <td>O rabino Johanan disse: \"Há montanhas, planíci...</td>\n",
              "    </tr>\n",
              "    <tr>\n",
              "      <th>2501</th>\n",
              "      <td>WikiMatrix</td>\n",
              "      <td>pt</td>\n",
              "      <td>O intercâmbio final (saída 27) fornece acesso ...</td>\n",
              "    </tr>\n",
              "    <tr>\n",
              "      <th>2502</th>\n",
              "      <td>WikiMatrix</td>\n",
              "      <td>pt</td>\n",
              "      <td>Ele é o Clemente, o Misericordioso!</td>\n",
              "    </tr>\n",
              "    <tr>\n",
              "      <th>2503</th>\n",
              "      <td>WikiMatrix</td>\n",
              "      <td>pt</td>\n",
              "      <td>Mas como você luta contra uma sombra do inferno?</td>\n",
              "    </tr>\n",
              "    <tr>\n",
              "      <th>2504</th>\n",
              "      <td>WikiMatrix</td>\n",
              "      <td>pt</td>\n",
              "      <td>Ele é um dos The Evil Dead.”</td>\n",
              "    </tr>\n",
              "  </tbody>\n",
              "</table>\n",
              "</div>"
            ],
            "text/plain": [
              "            from lang                                          sentences\n",
              "2500  WikiMatrix   pt  O rabino Johanan disse: \"Há montanhas, planíci...\n",
              "2501  WikiMatrix   pt  O intercâmbio final (saída 27) fornece acesso ...\n",
              "2502  WikiMatrix   pt                Ele é o Clemente, o Misericordioso!\n",
              "2503  WikiMatrix   pt   Mas como você luta contra uma sombra do inferno?\n",
              "2504  WikiMatrix   pt                       Ele é um dos The Evil Dead.”"
            ]
          },
          "metadata": {
            "tags": []
          },
          "execution_count": 45
        }
      ]
    },
    {
      "cell_type": "code",
      "metadata": {
        "colab": {
          "base_uri": "https://localhost:8080/",
          "height": 206
        },
        "id": "RMNbhvakH9Ej",
        "outputId": "3135181e-9826-465d-92c4-0763da08d4cc"
      },
      "source": [
        "df_Wiki_langs[df_Wiki_langs[\"lang\"] == \"es\"].head()"
      ],
      "execution_count": 44,
      "outputs": [
        {
          "output_type": "execute_result",
          "data": {
            "text/html": [
              "<div>\n",
              "<style scoped>\n",
              "    .dataframe tbody tr th:only-of-type {\n",
              "        vertical-align: middle;\n",
              "    }\n",
              "\n",
              "    .dataframe tbody tr th {\n",
              "        vertical-align: top;\n",
              "    }\n",
              "\n",
              "    .dataframe thead th {\n",
              "        text-align: right;\n",
              "    }\n",
              "</style>\n",
              "<table border=\"1\" class=\"dataframe\">\n",
              "  <thead>\n",
              "    <tr style=\"text-align: right;\">\n",
              "      <th></th>\n",
              "      <th>from</th>\n",
              "      <th>lang</th>\n",
              "      <th>sentences</th>\n",
              "    </tr>\n",
              "  </thead>\n",
              "  <tbody>\n",
              "    <tr>\n",
              "      <th>2750</th>\n",
              "      <td>WikiMatrix</td>\n",
              "      <td>es</td>\n",
              "      <td>Nunca combate al lado o en contra de Gordon Fr...</td>\n",
              "    </tr>\n",
              "    <tr>\n",
              "      <th>2751</th>\n",
              "      <td>WikiMatrix</td>\n",
              "      <td>es</td>\n",
              "      <td>Vivimos entre ellos y notamos raramente esa gr...</td>\n",
              "    </tr>\n",
              "    <tr>\n",
              "      <th>2752</th>\n",
              "      <td>WikiMatrix</td>\n",
              "      <td>es</td>\n",
              "      <td>Dijo: «Serán mis últimos cuatro años».</td>\n",
              "    </tr>\n",
              "    <tr>\n",
              "      <th>2753</th>\n",
              "      <td>WikiMatrix</td>\n",
              "      <td>es</td>\n",
              "      <td>Él es el Poderoso, el Misericordioso.</td>\n",
              "    </tr>\n",
              "    <tr>\n",
              "      <th>2754</th>\n",
              "      <td>WikiMatrix</td>\n",
              "      <td>es</td>\n",
              "      <td>Dijo: \"Me gusta ese contenido oscuro.</td>\n",
              "    </tr>\n",
              "  </tbody>\n",
              "</table>\n",
              "</div>"
            ],
            "text/plain": [
              "            from lang                                          sentences\n",
              "2750  WikiMatrix   es  Nunca combate al lado o en contra de Gordon Fr...\n",
              "2751  WikiMatrix   es  Vivimos entre ellos y notamos raramente esa gr...\n",
              "2752  WikiMatrix   es             Dijo: «Serán mis últimos cuatro años».\n",
              "2753  WikiMatrix   es              Él es el Poderoso, el Misericordioso.\n",
              "2754  WikiMatrix   es              Dijo: \"Me gusta ese contenido oscuro."
            ]
          },
          "metadata": {
            "tags": []
          },
          "execution_count": 44
        }
      ]
    },
    {
      "cell_type": "markdown",
      "metadata": {
        "id": "GToIcbRaLltf"
      },
      "source": [
        "# OPUS - News Commentary"
      ]
    },
    {
      "cell_type": "code",
      "metadata": {
        "id": "gWdsUCbT2BQt",
        "colab": {
          "base_uri": "https://localhost:8080/"
        },
        "outputId": "bcc73537-f906-4d9a-a735-082c545b5e27"
      },
      "source": [
        "!pip install opustools"
      ],
      "execution_count": 46,
      "outputs": [
        {
          "output_type": "stream",
          "text": [
            "Collecting opustools\n",
            "\u001b[?25l  Downloading https://files.pythonhosted.org/packages/9d/5e/f2f0fdbb17a0d348ac1974965168c12157e9090df2a5348a4b35ae5d9b71/opustools-1.2.1-py3-none-any.whl (108kB)\n",
            "\r\u001b[K     |███                             | 10kB 15.9MB/s eta 0:00:01\r\u001b[K     |██████                          | 20kB 19.2MB/s eta 0:00:01\r\u001b[K     |█████████                       | 30kB 10.4MB/s eta 0:00:01\r\u001b[K     |████████████                    | 40kB 8.6MB/s eta 0:00:01\r\u001b[K     |███████████████▏                | 51kB 4.5MB/s eta 0:00:01\r\u001b[K     |██████████████████▏             | 61kB 5.1MB/s eta 0:00:01\r\u001b[K     |█████████████████████▏          | 71kB 5.2MB/s eta 0:00:01\r\u001b[K     |████████████████████████▏       | 81kB 5.6MB/s eta 0:00:01\r\u001b[K     |███████████████████████████▏    | 92kB 5.9MB/s eta 0:00:01\r\u001b[K     |██████████████████████████████▎ | 102kB 6.1MB/s eta 0:00:01\r\u001b[K     |████████████████████████████████| 112kB 6.1MB/s \n",
            "\u001b[?25hInstalling collected packages: opustools\n",
            "Successfully installed opustools-1.2.1\n"
          ],
          "name": "stdout"
        }
      ]
    },
    {
      "cell_type": "code",
      "metadata": {
        "colab": {
          "base_uri": "https://localhost:8080/"
        },
        "id": "bJbyIAHvOWsV",
        "outputId": "3d715dec-a199-42d6-ca8c-2368e15f5698"
      },
      "source": [
        "!python get_news_opus.py --help"
      ],
      "execution_count": 53,
      "outputs": [
        {
          "output_type": "stream",
          "text": [
            "       \n",
            "OPUS-NewsCommentary is one of the different dataset available in OPUS. It consists of\n",
            "a parallel corpus of News Commentaries provided by Workshop on Statistical Machine \n",
            "Translation (WMT). This type of data is the most related to fact-check news we \n",
            "hope to face up. \n",
            "\n",
            "\n",
            "Requirements: \n",
            "    This scripts requiers opustools. You can install it with the following command:\n",
            "        $ pip install opustools\n",
            "        \n",
            "Usage:\n",
            "\n",
            "    python get_news_opus.py [options] \n",
            "\n",
            "Options:\n",
            "    -n, --n_sentences            Number of sentences to collect\n",
            "    -l, --languages              Languages ​​from which we extract sentences\n",
            "\n",
            "\n",
            "Example. Extract OPUS-NewsCommentary arabic and italian sentences:\n",
            "    !python get_news_opus.py --n_sentences 500 --languages ar,it\n"
          ],
          "name": "stdout"
        }
      ]
    },
    {
      "cell_type": "code",
      "metadata": {
        "id": "FypuKJ4LCsun",
        "colab": {
          "base_uri": "https://localhost:8080/"
        },
        "outputId": "90776923-ecd1-4a7f-b653-a91f434e8b86"
      },
      "source": [
        "!python get_news_opus.py --n_sentences 500 --languages ar,cs,de,en,es,fr,it,ja,nl,pt,ru,zh"
      ],
      "execution_count": 54,
      "outputs": [
        {
          "output_type": "stream",
          "text": [
            "Recovering OPUS-NewsCommentary sentences for languages: ar cs de en es fr it ja nl pt ru zh\n",
            "Create: parallel-sentences/News/News-Commentary-en-ar.tsv.gz\n",
            "No alignment file \"/projappl/nlpl/data/OPUS/News-Commentary/latest/xml/ar-en.xml.gz\" or \"./opus/News-Commentary_latest_xml_ar-en.xml.gz\" found\n",
            "The following files are available for downloading:\n",
            "\n",
            "        ./opus/News-Commentary_latest_raw_en.zip already exists\n",
            "  37 MB https://object.pouta.csc.fi/OPUS-News-Commentary/v14/raw/ar.zip\n",
            " 416 KB https://object.pouta.csc.fi/OPUS-News-Commentary/v14/xml/ar-en.xml.gz\n",
            "\n",
            "  38 MB Total size\n",
            "./opus/News-Commentary_latest_raw_ar.zip ... 100% of 37 MB\n",
            "./opus/News-Commentary_latest_xml_ar-en.xml.gz ... 100% of 416 KB\n",
            "Create: parallel-sentences/News/News-Commentary-en-cs.tsv.gz\n",
            "No alignment file \"/projappl/nlpl/data/OPUS/News-Commentary/latest/xml/cs-en.xml.gz\" or \"./opus/News-Commentary_latest_xml_cs-en.xml.gz\" found\n",
            "The following files are available for downloading:\n",
            "\n",
            "        ./opus/News-Commentary_latest_raw_en.zip already exists\n",
            "  22 MB https://object.pouta.csc.fi/OPUS-News-Commentary/v14/raw/cs.zip\n",
            " 272 KB https://object.pouta.csc.fi/OPUS-News-Commentary/v14/xml/cs-en.xml.gz\n",
            "\n",
            "  23 MB Total size\n",
            "./opus/News-Commentary_latest_raw_cs.zip ... 100% of 22 MB\n",
            "./opus/News-Commentary_latest_xml_cs-en.xml.gz ... 100% of 272 KB\n",
            "\n",
            "There is no item named 'cs/the-war-for-oil.xml.gz' in the archive '/projappl/nlpl/data/OPUS/News-Commentary/latest/raw/cs.zip'\n",
            "Continuing from next sentence file pair.\n",
            "Create: parallel-sentences/News/News-Commentary-en-de.tsv.gz\n",
            "No alignment file \"/projappl/nlpl/data/OPUS/News-Commentary/latest/xml/de-en.xml.gz\" or \"./opus/News-Commentary_latest_xml_de-en.xml.gz\" found\n",
            "The following files are available for downloading:\n",
            "\n",
            "        ./opus/News-Commentary_latest_raw_en.zip already exists\n",
            "  33 MB https://object.pouta.csc.fi/OPUS-News-Commentary/v14/raw/de.zip\n",
            " 396 KB https://object.pouta.csc.fi/OPUS-News-Commentary/v14/xml/de-en.xml.gz\n",
            "\n",
            "  33 MB Total size\n",
            "./opus/News-Commentary_latest_raw_de.zip ... 100% of 33 MB\n",
            "./opus/News-Commentary_latest_xml_de-en.xml.gz ... 100% of 396 KB\n",
            "\n",
            "There is no item named 'de/the-war-for-oil.xml.gz' in the archive '/projappl/nlpl/data/OPUS/News-Commentary/latest/raw/de.zip'\n",
            "Continuing from next sentence file pair.\n",
            "Create: parallel-sentences/News/News-Commentary-en-en.tsv.gz\n",
            "No alignment file \"/projappl/nlpl/data/OPUS/News-Commentary/latest/xml/en-en.xml.gz\" or \"./opus/News-Commentary_latest_xml_en-en.xml.gz\" found\n",
            "The following files are available for downloading:\n",
            "\n",
            "\n",
            "   0 KB Total size\n",
            "An error occured during the creation of parallel-sentences/News/News-Commentary-en-en.tsv.gz\n",
            "Create: parallel-sentences/News/News-Commentary-en-es.tsv.gz\n",
            "\n",
            "There is no item named 'en/can-we-increase-gross-national-happiness-.xml.gz' in the archive './opus/News-Commentary_latest_raw_en.zip'\n",
            "Continuing from next sentence file pair.\n",
            "\n",
            "There is no item named 'en/the-war-for-oil.xml.gz' in the archive './opus/News-Commentary_latest_raw_en.zip'\n",
            "Continuing from next sentence file pair.\n",
            "Create: parallel-sentences/News/News-Commentary-en-fr.tsv.gz\n",
            "No alignment file \"/projappl/nlpl/data/OPUS/News-Commentary/latest/xml/en-fr.xml.gz\" or \"./opus/News-Commentary_latest_xml_en-fr.xml.gz\" found\n",
            "The following files are available for downloading:\n",
            "\n",
            "        ./opus/News-Commentary_latest_raw_en.zip already exists\n",
            "  33 MB https://object.pouta.csc.fi/OPUS-News-Commentary/v14/raw/fr.zip\n",
            " 384 KB https://object.pouta.csc.fi/OPUS-News-Commentary/v14/xml/en-fr.xml.gz\n",
            "\n",
            "  33 MB Total size\n",
            "./opus/News-Commentary_latest_raw_fr.zip ... 100% of 33 MB\n",
            "./opus/News-Commentary_latest_xml_en-fr.xml.gz ... 100% of 384 KB\n",
            "\n",
            "There is no item named 'en/kidneys-for-sale-.xml.gz' in the archive './opus/News-Commentary_latest_raw_en.zip'\n",
            "Continuing from next sentence file pair.\n",
            "\n",
            "There is no item named 'en/the-war-for-oil.xml.gz' in the archive './opus/News-Commentary_latest_raw_en.zip'\n",
            "Continuing from next sentence file pair.\n",
            "\n",
            "There is no item named 'en/what-s-in-a-bric-.xml.gz' in the archive './opus/News-Commentary_latest_raw_en.zip'\n",
            "Continuing from next sentence file pair.\n",
            "Create: parallel-sentences/News/News-Commentary-en-it.tsv.gz\n",
            "Create: parallel-sentences/News/News-Commentary-en-ja.tsv.gz\n",
            "No alignment file \"/projappl/nlpl/data/OPUS/News-Commentary/latest/xml/en-ja.xml.gz\" or \"./opus/News-Commentary_latest_xml_en-ja.xml.gz\" found\n",
            "The following files are available for downloading:\n",
            "\n",
            "        ./opus/News-Commentary_latest_raw_en.zip already exists\n",
            " 236 KB https://object.pouta.csc.fi/OPUS-News-Commentary/v14/raw/ja.zip\n",
            "   4 KB https://object.pouta.csc.fi/OPUS-News-Commentary/v14/xml/en-ja.xml.gz\n",
            "\n",
            " 240 KB Total size\n",
            "./opus/News-Commentary_latest_raw_ja.zip ... 100% of 236 KB\n",
            "./opus/News-Commentary_latest_xml_en-ja.xml.gz ... 100% of 4 KB\n",
            "Create: parallel-sentences/News/News-Commentary-en-nl.tsv.gz\n",
            "No alignment file \"/projappl/nlpl/data/OPUS/News-Commentary/latest/xml/en-nl.xml.gz\" or \"./opus/News-Commentary_latest_xml_en-nl.xml.gz\" found\n",
            "The following files are available for downloading:\n",
            "\n",
            "        ./opus/News-Commentary_latest_raw_en.zip already exists\n",
            "   5 MB https://object.pouta.csc.fi/OPUS-News-Commentary/v14/raw/nl.zip\n",
            "  56 KB https://object.pouta.csc.fi/OPUS-News-Commentary/v14/xml/en-nl.xml.gz\n",
            "\n",
            "   5 MB Total size\n",
            "./opus/News-Commentary_latest_raw_nl.zip ... 100% of 5 MB\n",
            "./opus/News-Commentary_latest_xml_en-nl.xml.gz ... 100% of 56 KB\n",
            "Create: parallel-sentences/News/News-Commentary-en-pt.tsv.gz\n",
            "No alignment file \"/projappl/nlpl/data/OPUS/News-Commentary/latest/xml/en-pt.xml.gz\" or \"./opus/News-Commentary_latest_xml_en-pt.xml.gz\" found\n",
            "The following files are available for downloading:\n",
            "\n",
            "        ./opus/News-Commentary_latest_raw_en.zip already exists\n",
            "   5 MB https://object.pouta.csc.fi/OPUS-News-Commentary/v14/raw/pt.zip\n",
            "  56 KB https://object.pouta.csc.fi/OPUS-News-Commentary/v14/xml/en-pt.xml.gz\n",
            "\n",
            "   5 MB Total size\n",
            "./opus/News-Commentary_latest_raw_pt.zip ... 100% of 5 MB\n",
            "./opus/News-Commentary_latest_xml_en-pt.xml.gz ... 100% of 56 KB\n",
            "Create: parallel-sentences/News/News-Commentary-en-ru.tsv.gz\n",
            "No alignment file \"/projappl/nlpl/data/OPUS/News-Commentary/latest/xml/en-ru.xml.gz\" or \"./opus/News-Commentary_latest_xml_en-ru.xml.gz\" found\n",
            "The following files are available for downloading:\n",
            "\n",
            "        ./opus/News-Commentary_latest_raw_en.zip already exists\n",
            "  34 MB https://object.pouta.csc.fi/OPUS-News-Commentary/v14/raw/ru.zip\n",
            " 300 KB https://object.pouta.csc.fi/OPUS-News-Commentary/v14/xml/en-ru.xml.gz\n",
            "\n",
            "  34 MB Total size\n",
            "./opus/News-Commentary_latest_raw_ru.zip ... 100% of 34 MB\n",
            "./opus/News-Commentary_latest_xml_en-ru.xml.gz ... 100% of 300 KB\n",
            "\n",
            "There is no item named 'en/the-war-for-oil.xml.gz' in the archive './opus/News-Commentary_latest_raw_en.zip'\n",
            "Continuing from next sentence file pair.\n",
            "Create: parallel-sentences/News/News-Commentary-en-zh.tsv.gz\n",
            "No alignment file \"/projappl/nlpl/data/OPUS/News-Commentary/latest/xml/en-zh.xml.gz\" or \"./opus/News-Commentary_latest_xml_en-zh.xml.gz\" found\n",
            "The following files are available for downloading:\n",
            "\n",
            "        ./opus/News-Commentary_latest_raw_en.zip already exists\n",
            "  30 MB https://object.pouta.csc.fi/OPUS-News-Commentary/v14/raw/zh.zip\n",
            " 384 KB https://object.pouta.csc.fi/OPUS-News-Commentary/v14/xml/en-zh.xml.gz\n",
            "\n",
            "  31 MB Total size\n",
            "./opus/News-Commentary_latest_raw_zh.zip ... 100% of 30 MB\n",
            "./opus/News-Commentary_latest_xml_en-zh.xml.gz ... 100% of 384 KB\n",
            "Creating data frame for News Commentarys OPUS languages: ar-cs-de-en-es-fr-it-ja-nl-pt-ru-zh\n",
            "News-Commentary-en-ja.tsv.gz\n",
            "Creating english sentences parallel to ja\n",
            "News-Commentary-en-it.tsv.gz\n",
            "News-Commentary-en-nl.tsv.gz\n",
            "News-Commentary-en-ar.tsv.gz\n",
            "News-Commentary-en-fr.tsv.gz\n",
            "News-Commentary-en-pt.tsv.gz\n",
            "News-Commentary-en-cs.tsv.gz\n",
            "News-Commentary-en-es.tsv.gz\n",
            "News-Commentary-en-ru.tsv.gz\n",
            "News-Commentary-en-zh.tsv.gz\n",
            "News-Commentary-en-de.tsv.gz\n",
            "---Saving results in parallel-sentences/News/df_News_ar-cs-de-en-es-fr-it-ja-nl-pt-ru-zh.pkl ---\n",
            "--- Removing downloaded files ---\n",
            "--- Finish ---\n"
          ],
          "name": "stdout"
        }
      ]
    },
    {
      "cell_type": "code",
      "metadata": {
        "id": "5FdKnEV4E0_D",
        "colab": {
          "base_uri": "https://localhost:8080/",
          "height": 523
        },
        "outputId": "d019bb78-c8d1-4ce6-ad98-b8a4701301eb"
      },
      "source": [
        "df_news = pd.read_pickle(\"/content/parallel-sentences/News/df_News_ar-cs-de-en-es-fr-it-ja-nl-pt-ru-zh.pkl\")\n",
        "df_news.groupby(\"lang\").describe()"
      ],
      "execution_count": 55,
      "outputs": [
        {
          "output_type": "execute_result",
          "data": {
            "text/html": [
              "<div>\n",
              "<style scoped>\n",
              "    .dataframe tbody tr th:only-of-type {\n",
              "        vertical-align: middle;\n",
              "    }\n",
              "\n",
              "    .dataframe tbody tr th {\n",
              "        vertical-align: top;\n",
              "    }\n",
              "\n",
              "    .dataframe thead tr th {\n",
              "        text-align: left;\n",
              "    }\n",
              "\n",
              "    .dataframe thead tr:last-of-type th {\n",
              "        text-align: right;\n",
              "    }\n",
              "</style>\n",
              "<table border=\"1\" class=\"dataframe\">\n",
              "  <thead>\n",
              "    <tr>\n",
              "      <th></th>\n",
              "      <th colspan=\"4\" halign=\"left\">from</th>\n",
              "      <th colspan=\"4\" halign=\"left\">sentences</th>\n",
              "    </tr>\n",
              "    <tr>\n",
              "      <th></th>\n",
              "      <th>count</th>\n",
              "      <th>unique</th>\n",
              "      <th>top</th>\n",
              "      <th>freq</th>\n",
              "      <th>count</th>\n",
              "      <th>unique</th>\n",
              "      <th>top</th>\n",
              "      <th>freq</th>\n",
              "    </tr>\n",
              "    <tr>\n",
              "      <th>lang</th>\n",
              "      <th></th>\n",
              "      <th></th>\n",
              "      <th></th>\n",
              "      <th></th>\n",
              "      <th></th>\n",
              "      <th></th>\n",
              "      <th></th>\n",
              "      <th></th>\n",
              "    </tr>\n",
              "  </thead>\n",
              "  <tbody>\n",
              "    <tr>\n",
              "      <th>ar</th>\n",
              "      <td>500</td>\n",
              "      <td>1</td>\n",
              "      <td>OPUS_News_Commentary</td>\n",
              "      <td>500</td>\n",
              "      <td>500</td>\n",
              "      <td>500</td>\n",
              "      <td>وهناك أيضاً الخطر المتزايد من الإرهابيين ممن ن...</td>\n",
              "      <td>1</td>\n",
              "    </tr>\n",
              "    <tr>\n",
              "      <th>cs</th>\n",
              "      <td>500</td>\n",
              "      <td>1</td>\n",
              "      <td>OPUS_News_Commentary</td>\n",
              "      <td>500</td>\n",
              "      <td>500</td>\n",
              "      <td>500</td>\n",
              "      <td>Při každém železničním neštěstí či havárii let...</td>\n",
              "      <td>1</td>\n",
              "    </tr>\n",
              "    <tr>\n",
              "      <th>de</th>\n",
              "      <td>500</td>\n",
              "      <td>1</td>\n",
              "      <td>OPUS_News_Commentary</td>\n",
              "      <td>500</td>\n",
              "      <td>500</td>\n",
              "      <td>500</td>\n",
              "      <td>Sofern die Mitgliedsregierungen der ADB deren ...</td>\n",
              "      <td>1</td>\n",
              "    </tr>\n",
              "    <tr>\n",
              "      <th>en</th>\n",
              "      <td>500</td>\n",
              "      <td>1</td>\n",
              "      <td>OPUS_News_Commentary</td>\n",
              "      <td>500</td>\n",
              "      <td>500</td>\n",
              "      <td>500</td>\n",
              "      <td>In the Arab world, in particular, Islam is dom...</td>\n",
              "      <td>1</td>\n",
              "    </tr>\n",
              "    <tr>\n",
              "      <th>es</th>\n",
              "      <td>500</td>\n",
              "      <td>1</td>\n",
              "      <td>OPUS_News_Commentary</td>\n",
              "      <td>500</td>\n",
              "      <td>500</td>\n",
              "      <td>500</td>\n",
              "      <td>Muchos de estos cambios se plasmaron en la lla...</td>\n",
              "      <td>1</td>\n",
              "    </tr>\n",
              "    <tr>\n",
              "      <th>fr</th>\n",
              "      <td>500</td>\n",
              "      <td>1</td>\n",
              "      <td>OPUS_News_Commentary</td>\n",
              "      <td>500</td>\n",
              "      <td>500</td>\n",
              "      <td>500</td>\n",
              "      <td>L'objectif du PTCI est d'exploiter la puissanc...</td>\n",
              "      <td>1</td>\n",
              "    </tr>\n",
              "    <tr>\n",
              "      <th>it</th>\n",
              "      <td>500</td>\n",
              "      <td>1</td>\n",
              "      <td>OPUS_News_Commentary</td>\n",
              "      <td>500</td>\n",
              "      <td>500</td>\n",
              "      <td>500</td>\n",
              "      <td>Eppure, se la mobilità all’interno della zona ...</td>\n",
              "      <td>1</td>\n",
              "    </tr>\n",
              "    <tr>\n",
              "      <th>ja</th>\n",
              "      <td>500</td>\n",
              "      <td>1</td>\n",
              "      <td>OPUS_News_Commentary</td>\n",
              "      <td>500</td>\n",
              "      <td>500</td>\n",
              "      <td>500</td>\n",
              "      <td>ファタハに対する圧倒的な政治的拒否から利を得たハマスが、新たな権力をどう使っていくのかに審査...</td>\n",
              "      <td>1</td>\n",
              "    </tr>\n",
              "    <tr>\n",
              "      <th>nl</th>\n",
              "      <td>500</td>\n",
              "      <td>1</td>\n",
              "      <td>OPUS_News_Commentary</td>\n",
              "      <td>500</td>\n",
              "      <td>500</td>\n",
              "      <td>500</td>\n",
              "      <td>Verder naar het westen toe nemen de economisch...</td>\n",
              "      <td>1</td>\n",
              "    </tr>\n",
              "    <tr>\n",
              "      <th>pt</th>\n",
              "      <td>500</td>\n",
              "      <td>1</td>\n",
              "      <td>OPUS_News_Commentary</td>\n",
              "      <td>500</td>\n",
              "      <td>500</td>\n",
              "      <td>500</td>\n",
              "      <td>Para começar, os governos devem desenhar polít...</td>\n",
              "      <td>1</td>\n",
              "    </tr>\n",
              "    <tr>\n",
              "      <th>ru</th>\n",
              "      <td>500</td>\n",
              "      <td>1</td>\n",
              "      <td>OPUS_News_Commentary</td>\n",
              "      <td>500</td>\n",
              "      <td>500</td>\n",
              "      <td>500</td>\n",
              "      <td>Распределение властных полномочий в Европе дол...</td>\n",
              "      <td>1</td>\n",
              "    </tr>\n",
              "    <tr>\n",
              "      <th>zh</th>\n",
              "      <td>500</td>\n",
              "      <td>1</td>\n",
              "      <td>OPUS_News_Commentary</td>\n",
              "      <td>500</td>\n",
              "      <td>500</td>\n",
              "      <td>500</td>\n",
              "      <td>绝大多数人已经忘记1994年4月签订的《巴黎协议》建立了以色列和被占领土关税同盟，并规定由联...</td>\n",
              "      <td>1</td>\n",
              "    </tr>\n",
              "  </tbody>\n",
              "</table>\n",
              "</div>"
            ],
            "text/plain": [
              "      from         ...                                          sentences     \n",
              "     count unique  ...                                                top freq\n",
              "lang               ...                                                        \n",
              "ar     500      1  ...  وهناك أيضاً الخطر المتزايد من الإرهابيين ممن ن...    1\n",
              "cs     500      1  ...  Při každém železničním neštěstí či havárii let...    1\n",
              "de     500      1  ...  Sofern die Mitgliedsregierungen der ADB deren ...    1\n",
              "en     500      1  ...  In the Arab world, in particular, Islam is dom...    1\n",
              "es     500      1  ...  Muchos de estos cambios se plasmaron en la lla...    1\n",
              "fr     500      1  ...  L'objectif du PTCI est d'exploiter la puissanc...    1\n",
              "it     500      1  ...  Eppure, se la mobilità all’interno della zona ...    1\n",
              "ja     500      1  ...  ファタハに対する圧倒的な政治的拒否から利を得たハマスが、新たな権力をどう使っていくのかに審査...    1\n",
              "nl     500      1  ...  Verder naar het westen toe nemen de economisch...    1\n",
              "pt     500      1  ...  Para começar, os governos devem desenhar polít...    1\n",
              "ru     500      1  ...  Распределение властных полномочий в Европе дол...    1\n",
              "zh     500      1  ...  绝大多数人已经忘记1994年4月签订的《巴黎协议》建立了以色列和被占领土关税同盟，并规定由联...    1\n",
              "\n",
              "[12 rows x 8 columns]"
            ]
          },
          "metadata": {
            "tags": []
          },
          "execution_count": 55
        }
      ]
    },
    {
      "cell_type": "markdown",
      "metadata": {
        "id": "BCCZGaHQUVNs"
      },
      "source": [
        "## Check OPUS-NewsCommentary is parallel data"
      ]
    },
    {
      "cell_type": "code",
      "metadata": {
        "colab": {
          "base_uri": "https://localhost:8080/",
          "height": 206
        },
        "id": "5t2jxBwCUZlU",
        "outputId": "5332badc-ac3e-4b57-f182-84413f79b048"
      },
      "source": [
        "df_news[df_news[\"lang\"] == \"fr\"].head()"
      ],
      "execution_count": 56,
      "outputs": [
        {
          "output_type": "execute_result",
          "data": {
            "text/html": [
              "<div>\n",
              "<style scoped>\n",
              "    .dataframe tbody tr th:only-of-type {\n",
              "        vertical-align: middle;\n",
              "    }\n",
              "\n",
              "    .dataframe tbody tr th {\n",
              "        vertical-align: top;\n",
              "    }\n",
              "\n",
              "    .dataframe thead th {\n",
              "        text-align: right;\n",
              "    }\n",
              "</style>\n",
              "<table border=\"1\" class=\"dataframe\">\n",
              "  <thead>\n",
              "    <tr style=\"text-align: right;\">\n",
              "      <th></th>\n",
              "      <th>from</th>\n",
              "      <th>lang</th>\n",
              "      <th>sentences</th>\n",
              "    </tr>\n",
              "  </thead>\n",
              "  <tbody>\n",
              "    <tr>\n",
              "      <th>2500</th>\n",
              "      <td>OPUS_News_Commentary</td>\n",
              "      <td>fr</td>\n",
              "      <td>L’or à 10.000 dollars l’once ?</td>\n",
              "    </tr>\n",
              "    <tr>\n",
              "      <th>2501</th>\n",
              "      <td>OPUS_News_Commentary</td>\n",
              "      <td>fr</td>\n",
              "      <td>SAN FRANCISCO – Il n’a jamais été facile d’avo...</td>\n",
              "    </tr>\n",
              "    <tr>\n",
              "      <th>2502</th>\n",
              "      <td>OPUS_News_Commentary</td>\n",
              "      <td>fr</td>\n",
              "      <td>Et aujourd’hui, alors que le cours de l’or a a...</td>\n",
              "    </tr>\n",
              "    <tr>\n",
              "      <th>2503</th>\n",
              "      <td>OPUS_News_Commentary</td>\n",
              "      <td>fr</td>\n",
              "      <td>En décembre dernier, mes collègues économistes...</td>\n",
              "    </tr>\n",
              "    <tr>\n",
              "      <th>2504</th>\n",
              "      <td>OPUS_News_Commentary</td>\n",
              "      <td>fr</td>\n",
              "      <td>Mais devinez ce qui s’est passé ?</td>\n",
              "    </tr>\n",
              "  </tbody>\n",
              "</table>\n",
              "</div>"
            ],
            "text/plain": [
              "                      from  ...                                          sentences\n",
              "2500  OPUS_News_Commentary  ...                     L’or à 10.000 dollars l’once ?\n",
              "2501  OPUS_News_Commentary  ...  SAN FRANCISCO – Il n’a jamais été facile d’avo...\n",
              "2502  OPUS_News_Commentary  ...  Et aujourd’hui, alors que le cours de l’or a a...\n",
              "2503  OPUS_News_Commentary  ...  En décembre dernier, mes collègues économistes...\n",
              "2504  OPUS_News_Commentary  ...                  Mais devinez ce qui s’est passé ?\n",
              "\n",
              "[5 rows x 3 columns]"
            ]
          },
          "metadata": {
            "tags": []
          },
          "execution_count": 56
        }
      ]
    },
    {
      "cell_type": "code",
      "metadata": {
        "colab": {
          "base_uri": "https://localhost:8080/",
          "height": 206
        },
        "id": "BHWksVyiUfrH",
        "outputId": "9d758edc-3ab8-464e-d2d4-3064385f7bc2"
      },
      "source": [
        "df_news[df_news[\"lang\"] == \"es\"].head()"
      ],
      "execution_count": 57,
      "outputs": [
        {
          "output_type": "execute_result",
          "data": {
            "text/html": [
              "<div>\n",
              "<style scoped>\n",
              "    .dataframe tbody tr th:only-of-type {\n",
              "        vertical-align: middle;\n",
              "    }\n",
              "\n",
              "    .dataframe tbody tr th {\n",
              "        vertical-align: top;\n",
              "    }\n",
              "\n",
              "    .dataframe thead th {\n",
              "        text-align: right;\n",
              "    }\n",
              "</style>\n",
              "<table border=\"1\" class=\"dataframe\">\n",
              "  <thead>\n",
              "    <tr style=\"text-align: right;\">\n",
              "      <th></th>\n",
              "      <th>from</th>\n",
              "      <th>lang</th>\n",
              "      <th>sentences</th>\n",
              "    </tr>\n",
              "  </thead>\n",
              "  <tbody>\n",
              "    <tr>\n",
              "      <th>4000</th>\n",
              "      <td>OPUS_News_Commentary</td>\n",
              "      <td>es</td>\n",
              "      <td>¿El oro a 10.000 dólares?</td>\n",
              "    </tr>\n",
              "    <tr>\n",
              "      <th>4001</th>\n",
              "      <td>OPUS_News_Commentary</td>\n",
              "      <td>es</td>\n",
              "      <td>SAN FRANCISCO – Nunca ha resultado fácil soste...</td>\n",
              "    </tr>\n",
              "    <tr>\n",
              "      <th>4002</th>\n",
              "      <td>OPUS_News_Commentary</td>\n",
              "      <td>es</td>\n",
              "      <td>Últimamente, con los precios del oro más de un...</td>\n",
              "    </tr>\n",
              "    <tr>\n",
              "      <th>4003</th>\n",
              "      <td>OPUS_News_Commentary</td>\n",
              "      <td>es</td>\n",
              "      <td>Apenas en el pasado mes de diciembre, mis cole...</td>\n",
              "    </tr>\n",
              "    <tr>\n",
              "      <th>4004</th>\n",
              "      <td>OPUS_News_Commentary</td>\n",
              "      <td>es</td>\n",
              "      <td>¿Y saben qué?</td>\n",
              "    </tr>\n",
              "  </tbody>\n",
              "</table>\n",
              "</div>"
            ],
            "text/plain": [
              "                      from  ...                                          sentences\n",
              "4000  OPUS_News_Commentary  ...                          ¿El oro a 10.000 dólares?\n",
              "4001  OPUS_News_Commentary  ...  SAN FRANCISCO – Nunca ha resultado fácil soste...\n",
              "4002  OPUS_News_Commentary  ...  Últimamente, con los precios del oro más de un...\n",
              "4003  OPUS_News_Commentary  ...  Apenas en el pasado mes de diciembre, mis cole...\n",
              "4004  OPUS_News_Commentary  ...                                      ¿Y saben qué?\n",
              "\n",
              "[5 rows x 3 columns]"
            ]
          },
          "metadata": {
            "tags": []
          },
          "execution_count": 57
        }
      ]
    },
    {
      "cell_type": "markdown",
      "metadata": {
        "id": "GeHApxnsHXYq"
      },
      "source": [
        "# ALL DATA"
      ]
    },
    {
      "cell_type": "code",
      "metadata": {
        "id": "AAy8LLmobgea",
        "colab": {
          "base_uri": "https://localhost:8080/",
          "height": 600
        },
        "outputId": "de1e8eea-2241-477f-a80b-c5ccc71ca06b"
      },
      "source": [
        "df_multi_PCA_train = pd.concat([df_TED_pl_tr_hi, df_TED_langs, \n",
        "                                df_Wiki_pl_tr_hi, df_Wiki_langs, \n",
        "                                df_news])\n",
        "df_multi_PCA_train.to_pickle(\"df_multi_PCA_train_1000.pkl\")\n",
        "df_multi_PCA_train.groupby(\"lang\").describe()"
      ],
      "execution_count": 58,
      "outputs": [
        {
          "output_type": "execute_result",
          "data": {
            "text/html": [
              "<div>\n",
              "<style scoped>\n",
              "    .dataframe tbody tr th:only-of-type {\n",
              "        vertical-align: middle;\n",
              "    }\n",
              "\n",
              "    .dataframe tbody tr th {\n",
              "        vertical-align: top;\n",
              "    }\n",
              "\n",
              "    .dataframe thead tr th {\n",
              "        text-align: left;\n",
              "    }\n",
              "\n",
              "    .dataframe thead tr:last-of-type th {\n",
              "        text-align: right;\n",
              "    }\n",
              "</style>\n",
              "<table border=\"1\" class=\"dataframe\">\n",
              "  <thead>\n",
              "    <tr>\n",
              "      <th></th>\n",
              "      <th colspan=\"4\" halign=\"left\">from</th>\n",
              "      <th colspan=\"4\" halign=\"left\">sentences</th>\n",
              "    </tr>\n",
              "    <tr>\n",
              "      <th></th>\n",
              "      <th>count</th>\n",
              "      <th>unique</th>\n",
              "      <th>top</th>\n",
              "      <th>freq</th>\n",
              "      <th>count</th>\n",
              "      <th>unique</th>\n",
              "      <th>top</th>\n",
              "      <th>freq</th>\n",
              "    </tr>\n",
              "    <tr>\n",
              "      <th>lang</th>\n",
              "      <th></th>\n",
              "      <th></th>\n",
              "      <th></th>\n",
              "      <th></th>\n",
              "      <th></th>\n",
              "      <th></th>\n",
              "      <th></th>\n",
              "      <th></th>\n",
              "    </tr>\n",
              "  </thead>\n",
              "  <tbody>\n",
              "    <tr>\n",
              "      <th>ar</th>\n",
              "      <td>1000</td>\n",
              "      <td>3</td>\n",
              "      <td>OPUS_News_Commentary</td>\n",
              "      <td>500</td>\n",
              "      <td>1000</td>\n",
              "      <td>1000</td>\n",
              "      <td>وهناك أيضاً الخطر المتزايد من الإرهابيين ممن ن...</td>\n",
              "      <td>1</td>\n",
              "    </tr>\n",
              "    <tr>\n",
              "      <th>cs</th>\n",
              "      <td>1000</td>\n",
              "      <td>3</td>\n",
              "      <td>OPUS_News_Commentary</td>\n",
              "      <td>500</td>\n",
              "      <td>1000</td>\n",
              "      <td>1000</td>\n",
              "      <td>Srdeční a cévní nemoci zabíjejí stále více lid...</td>\n",
              "      <td>1</td>\n",
              "    </tr>\n",
              "    <tr>\n",
              "      <th>de</th>\n",
              "      <td>1000</td>\n",
              "      <td>3</td>\n",
              "      <td>OPUS_News_Commentary</td>\n",
              "      <td>500</td>\n",
              "      <td>1000</td>\n",
              "      <td>1000</td>\n",
              "      <td>Sein Oratorium Vor langer Zeit.</td>\n",
              "      <td>1</td>\n",
              "    </tr>\n",
              "    <tr>\n",
              "      <th>en</th>\n",
              "      <td>1000</td>\n",
              "      <td>3</td>\n",
              "      <td>OPUS_News_Commentary</td>\n",
              "      <td>500</td>\n",
              "      <td>1000</td>\n",
              "      <td>1000</td>\n",
              "      <td>In the Arab world, in particular, Islam is dom...</td>\n",
              "      <td>1</td>\n",
              "    </tr>\n",
              "    <tr>\n",
              "      <th>es</th>\n",
              "      <td>1000</td>\n",
              "      <td>3</td>\n",
              "      <td>OPUS_News_Commentary</td>\n",
              "      <td>500</td>\n",
              "      <td>1000</td>\n",
              "      <td>1000</td>\n",
              "      <td>«¿Es imposible traducir dos veces (exactamente...</td>\n",
              "      <td>1</td>\n",
              "    </tr>\n",
              "    <tr>\n",
              "      <th>fr</th>\n",
              "      <td>1000</td>\n",
              "      <td>3</td>\n",
              "      <td>OPUS_News_Commentary</td>\n",
              "      <td>500</td>\n",
              "      <td>1000</td>\n",
              "      <td>1000</td>\n",
              "      <td>“Was the Great War a Watershed ?</td>\n",
              "      <td>1</td>\n",
              "    </tr>\n",
              "    <tr>\n",
              "      <th>hi</th>\n",
              "      <td>1000</td>\n",
              "      <td>2</td>\n",
              "      <td>TED2020</td>\n",
              "      <td>500</td>\n",
              "      <td>1000</td>\n",
              "      <td>1000</td>\n",
              "      <td>हर बार इसे दिखाने से पहले मैं इसे सुधारता हूँ.</td>\n",
              "      <td>1</td>\n",
              "    </tr>\n",
              "    <tr>\n",
              "      <th>it</th>\n",
              "      <td>1000</td>\n",
              "      <td>3</td>\n",
              "      <td>OPUS_News_Commentary</td>\n",
              "      <td>500</td>\n",
              "      <td>1000</td>\n",
              "      <td>1000</td>\n",
              "      <td>La seconda è che i problemi insiti in una sing...</td>\n",
              "      <td>1</td>\n",
              "    </tr>\n",
              "    <tr>\n",
              "      <th>ja</th>\n",
              "      <td>1000</td>\n",
              "      <td>3</td>\n",
              "      <td>OPUS_News_Commentary</td>\n",
              "      <td>500</td>\n",
              "      <td>1000</td>\n",
              "      <td>1000</td>\n",
              "      <td>また曹操は一旦許に帰還した。</td>\n",
              "      <td>1</td>\n",
              "    </tr>\n",
              "    <tr>\n",
              "      <th>nl</th>\n",
              "      <td>1000</td>\n",
              "      <td>3</td>\n",
              "      <td>OPUS_News_Commentary</td>\n",
              "      <td>500</td>\n",
              "      <td>1000</td>\n",
              "      <td>1000</td>\n",
              "      <td>Hulp aan regeringen die toestaan dat specifiek...</td>\n",
              "      <td>1</td>\n",
              "    </tr>\n",
              "    <tr>\n",
              "      <th>pl</th>\n",
              "      <td>1000</td>\n",
              "      <td>2</td>\n",
              "      <td>TED2020</td>\n",
              "      <td>500</td>\n",
              "      <td>1000</td>\n",
              "      <td>1000</td>\n",
              "      <td>Znamy symptomy.</td>\n",
              "      <td>1</td>\n",
              "    </tr>\n",
              "    <tr>\n",
              "      <th>pt</th>\n",
              "      <td>1000</td>\n",
              "      <td>3</td>\n",
              "      <td>OPUS_News_Commentary</td>\n",
              "      <td>500</td>\n",
              "      <td>1000</td>\n",
              "      <td>1000</td>\n",
              "      <td>Para começar, os governos devem desenhar polít...</td>\n",
              "      <td>1</td>\n",
              "    </tr>\n",
              "    <tr>\n",
              "      <th>ru</th>\n",
              "      <td>1000</td>\n",
              "      <td>3</td>\n",
              "      <td>OPUS_News_Commentary</td>\n",
              "      <td>500</td>\n",
              "      <td>1000</td>\n",
              "      <td>1000</td>\n",
              "      <td>Распределение властных полномочий в Европе дол...</td>\n",
              "      <td>1</td>\n",
              "    </tr>\n",
              "    <tr>\n",
              "      <th>tr</th>\n",
              "      <td>1000</td>\n",
              "      <td>2</td>\n",
              "      <td>TED2020</td>\n",
              "      <td>500</td>\n",
              "      <td>1000</td>\n",
              "      <td>1000</td>\n",
              "      <td>İçeri girer, yüzünüzü duvara döner, testi çöze...</td>\n",
              "      <td>1</td>\n",
              "    </tr>\n",
              "    <tr>\n",
              "      <th>zh</th>\n",
              "      <td>1000</td>\n",
              "      <td>3</td>\n",
              "      <td>OPUS_News_Commentary</td>\n",
              "      <td>500</td>\n",
              "      <td>1000</td>\n",
              "      <td>1000</td>\n",
              "      <td>去年，联合国环境规划署发布了一份引人注目的奥贡尼兰报告，奥贡尼兰是一个曾经曾处于本地社区与跨...</td>\n",
              "      <td>1</td>\n",
              "    </tr>\n",
              "  </tbody>\n",
              "</table>\n",
              "</div>"
            ],
            "text/plain": [
              "      from         ...                                          sentences     \n",
              "     count unique  ...                                                top freq\n",
              "lang               ...                                                        \n",
              "ar    1000      3  ...  وهناك أيضاً الخطر المتزايد من الإرهابيين ممن ن...    1\n",
              "cs    1000      3  ...  Srdeční a cévní nemoci zabíjejí stále více lid...    1\n",
              "de    1000      3  ...                    Sein Oratorium Vor langer Zeit.    1\n",
              "en    1000      3  ...  In the Arab world, in particular, Islam is dom...    1\n",
              "es    1000      3  ...  «¿Es imposible traducir dos veces (exactamente...    1\n",
              "fr    1000      3  ...                   “Was the Great War a Watershed ?    1\n",
              "hi    1000      2  ...     हर बार इसे दिखाने से पहले मैं इसे सुधारता हूँ.    1\n",
              "it    1000      3  ...  La seconda è che i problemi insiti in una sing...    1\n",
              "ja    1000      3  ...                                     また曹操は一旦許に帰還した。    1\n",
              "nl    1000      3  ...  Hulp aan regeringen die toestaan dat specifiek...    1\n",
              "pl    1000      2  ...                                    Znamy symptomy.    1\n",
              "pt    1000      3  ...  Para começar, os governos devem desenhar polít...    1\n",
              "ru    1000      3  ...  Распределение властных полномочий в Европе дол...    1\n",
              "tr    1000      2  ...  İçeri girer, yüzünüzü duvara döner, testi çöze...    1\n",
              "zh    1000      3  ...  去年，联合国环境规划署发布了一份引人注目的奥贡尼兰报告，奥贡尼兰是一个曾经曾处于本地社区与跨...    1\n",
              "\n",
              "[15 rows x 8 columns]"
            ]
          },
          "metadata": {
            "tags": []
          },
          "execution_count": 58
        }
      ]
    },
    {
      "cell_type": "markdown",
      "metadata": {
        "id": "0K4Bg2FbZ55n"
      },
      "source": [
        "# Visuazation"
      ]
    },
    {
      "cell_type": "code",
      "metadata": {
        "colab": {
          "base_uri": "https://localhost:8080/",
          "height": 55
        },
        "id": "yvupGcZtZ9eA",
        "outputId": "822a41e6-1e98-4fa7-8f54-3ce5772a38fa"
      },
      "source": [
        "!pip install -U -q plotly\r\n",
        "import plotly\r\n",
        "\r\n",
        "\r\n",
        "import matplotlib.pyplot as plt\r\n",
        "# %matplotlib inline \r\n",
        "import plotly.express as px\r\n",
        "import plotly.graph_objects as go\r\n",
        "\r\n",
        "plotly.__version__"
      ],
      "execution_count": 59,
      "outputs": [
        {
          "output_type": "stream",
          "text": [
            "\u001b[K     |████████████████████████████████| 13.2MB 276kB/s \n",
            "\u001b[?25h"
          ],
          "name": "stdout"
        },
        {
          "output_type": "execute_result",
          "data": {
            "application/vnd.google.colaboratory.intrinsic+json": {
              "type": "string"
            },
            "text/plain": [
              "'4.14.1'"
            ]
          },
          "metadata": {
            "tags": []
          },
          "execution_count": 59
        }
      ]
    },
    {
      "cell_type": "code",
      "metadata": {
        "id": "U2EpBUCcaLwy"
      },
      "source": [
        "df_multi_PCA_train_1000 = pd.read_pickle(\"/content/df_multi_PCA_train_1000.pkl\")\r\n",
        "sentences_train = df_multi_PCA_train_1000.sentences.to_list()"
      ],
      "execution_count": 62,
      "outputs": []
    },
    {
      "cell_type": "code",
      "metadata": {
        "colab": {
          "base_uri": "https://localhost:8080/",
          "height": 417
        },
        "id": "BLMggzswaQJi",
        "outputId": "68751fcd-d8da-4ce3-d5db-898831e64c64"
      },
      "source": [
        "import matplotlib.pyplot as plt\r\n",
        "# %matplotlib inline \r\n",
        "import plotly.express as px\r\n",
        "import plotly.graph_objects as go\r\n",
        "px.colors.n_colors\r\n",
        "\r\n",
        "fig_1 = go.Figure([go.Bar(\r\n",
        "                        x = df_multi_PCA_train_1000.groupby(\"lang\").describe().index, \r\n",
        "                        y= df_multi_PCA_train_1000.groupby(\"lang\").describe()[\"from\"][\"count\"],\r\n",
        "                        hovertemplate= \"Language: %{x} <br>Nº sentences: %{y}\",\r\n",
        "                        marker_color =\"rgb(253,180,98)\",\r\n",
        "                        name = \"\"\r\n",
        "                        ),\r\n",
        "                 ],\r\n",
        "                )\r\n",
        "fig_1.update_layout(\r\n",
        "      hoverlabel=dict(\r\n",
        "          font_size=14,\r\n",
        "          font_family=\"Arial\",\r\n",
        "          bgcolor = \"white\"),\r\n",
        "\r\n",
        "      height=400, \r\n",
        "      width = 900, \r\n",
        "      title=\"Training PCA Multilingual Data - Number of sentences per language\",\r\n",
        "      title_font = {\"size\": 20},)\r\n",
        "\r\n",
        "fig_1.update_xaxes(\r\n",
        "          tickangle = 0,\r\n",
        "          tickfont = {\"size\": 16},\r\n",
        "          title_text = \"Languagues\",\r\n",
        "          title_font = {\"size\": 18},\r\n",
        "          title_standoff = 10)\r\n",
        "\r\n",
        "fig_1.update_yaxes(\r\n",
        "          tickfont = {\"size\": 16},\r\n",
        "          title_font = {\"size\": 18},\r\n",
        "          title_text = \"Number of sentences\",\r\n",
        "          title_standoff = 10)\r\n",
        "\r\n",
        "\r\n",
        "fig_1.show()"
      ],
      "execution_count": 63,
      "outputs": [
        {
          "output_type": "display_data",
          "data": {
            "text/html": [
              "<html>\n",
              "<head><meta charset=\"utf-8\" /></head>\n",
              "<body>\n",
              "    <div>            <script src=\"https://cdnjs.cloudflare.com/ajax/libs/mathjax/2.7.5/MathJax.js?config=TeX-AMS-MML_SVG\"></script><script type=\"text/javascript\">if (window.MathJax) {MathJax.Hub.Config({SVG: {font: \"STIX-Web\"}});}</script>                <script type=\"text/javascript\">window.PlotlyConfig = {MathJaxConfig: 'local'};</script>\n",
              "        <script src=\"https://cdn.plot.ly/plotly-latest.min.js\"></script>                <div id=\"3cc01883-88c2-4e18-ba8c-9d8ac0f41c39\" class=\"plotly-graph-div\" style=\"height:400px; width:900px;\"></div>            <script type=\"text/javascript\">                                    window.PLOTLYENV=window.PLOTLYENV || {};                                    if (document.getElementById(\"3cc01883-88c2-4e18-ba8c-9d8ac0f41c39\")) {                    Plotly.newPlot(                        \"3cc01883-88c2-4e18-ba8c-9d8ac0f41c39\",                        [{\"hovertemplate\": \"Language: %{x} <br>N\\u00ba sentences: %{y}\", \"marker\": {\"color\": \"rgb(253,180,98)\"}, \"name\": \"\", \"type\": \"bar\", \"x\": [\"ar\", \"cs\", \"de\", \"en\", \"es\", \"fr\", \"hi\", \"it\", \"ja\", \"nl\", \"pl\", \"pt\", \"ru\", \"tr\", \"zh\"], \"y\": [1000, 1000, 1000, 1000, 1000, 1000, 1000, 1000, 1000, 1000, 1000, 1000, 1000, 1000, 1000]}],                        {\"height\": 400, \"hoverlabel\": {\"bgcolor\": \"white\", \"font\": {\"family\": \"Arial\", \"size\": 14}}, \"template\": {\"data\": {\"bar\": [{\"error_x\": {\"color\": \"#2a3f5f\"}, \"error_y\": {\"color\": \"#2a3f5f\"}, \"marker\": {\"line\": {\"color\": \"#E5ECF6\", \"width\": 0.5}}, \"type\": \"bar\"}], \"barpolar\": [{\"marker\": {\"line\": {\"color\": \"#E5ECF6\", \"width\": 0.5}}, \"type\": \"barpolar\"}], \"carpet\": [{\"aaxis\": {\"endlinecolor\": \"#2a3f5f\", \"gridcolor\": \"white\", \"linecolor\": \"white\", \"minorgridcolor\": \"white\", \"startlinecolor\": \"#2a3f5f\"}, \"baxis\": {\"endlinecolor\": \"#2a3f5f\", \"gridcolor\": \"white\", \"linecolor\": \"white\", \"minorgridcolor\": \"white\", \"startlinecolor\": \"#2a3f5f\"}, \"type\": \"carpet\"}], \"choropleth\": [{\"colorbar\": {\"outlinewidth\": 0, \"ticks\": \"\"}, \"type\": \"choropleth\"}], \"contour\": [{\"colorbar\": {\"outlinewidth\": 0, \"ticks\": \"\"}, \"colorscale\": [[0.0, \"#0d0887\"], [0.1111111111111111, \"#46039f\"], [0.2222222222222222, \"#7201a8\"], [0.3333333333333333, \"#9c179e\"], [0.4444444444444444, \"#bd3786\"], [0.5555555555555556, \"#d8576b\"], [0.6666666666666666, \"#ed7953\"], [0.7777777777777778, \"#fb9f3a\"], [0.8888888888888888, \"#fdca26\"], [1.0, \"#f0f921\"]], \"type\": \"contour\"}], \"contourcarpet\": [{\"colorbar\": {\"outlinewidth\": 0, \"ticks\": \"\"}, \"type\": \"contourcarpet\"}], \"heatmap\": [{\"colorbar\": {\"outlinewidth\": 0, \"ticks\": \"\"}, \"colorscale\": [[0.0, \"#0d0887\"], [0.1111111111111111, \"#46039f\"], [0.2222222222222222, \"#7201a8\"], [0.3333333333333333, \"#9c179e\"], [0.4444444444444444, \"#bd3786\"], [0.5555555555555556, \"#d8576b\"], [0.6666666666666666, \"#ed7953\"], [0.7777777777777778, \"#fb9f3a\"], [0.8888888888888888, \"#fdca26\"], [1.0, \"#f0f921\"]], \"type\": \"heatmap\"}], \"heatmapgl\": [{\"colorbar\": {\"outlinewidth\": 0, \"ticks\": \"\"}, \"colorscale\": [[0.0, \"#0d0887\"], [0.1111111111111111, \"#46039f\"], [0.2222222222222222, \"#7201a8\"], [0.3333333333333333, \"#9c179e\"], [0.4444444444444444, \"#bd3786\"], [0.5555555555555556, \"#d8576b\"], [0.6666666666666666, \"#ed7953\"], [0.7777777777777778, \"#fb9f3a\"], [0.8888888888888888, \"#fdca26\"], [1.0, \"#f0f921\"]], \"type\": \"heatmapgl\"}], \"histogram\": [{\"marker\": {\"colorbar\": {\"outlinewidth\": 0, \"ticks\": \"\"}}, \"type\": \"histogram\"}], \"histogram2d\": [{\"colorbar\": {\"outlinewidth\": 0, \"ticks\": \"\"}, \"colorscale\": [[0.0, \"#0d0887\"], [0.1111111111111111, \"#46039f\"], [0.2222222222222222, \"#7201a8\"], [0.3333333333333333, \"#9c179e\"], [0.4444444444444444, \"#bd3786\"], [0.5555555555555556, \"#d8576b\"], [0.6666666666666666, \"#ed7953\"], [0.7777777777777778, \"#fb9f3a\"], [0.8888888888888888, \"#fdca26\"], [1.0, \"#f0f921\"]], \"type\": \"histogram2d\"}], \"histogram2dcontour\": [{\"colorbar\": {\"outlinewidth\": 0, \"ticks\": \"\"}, \"colorscale\": [[0.0, \"#0d0887\"], [0.1111111111111111, \"#46039f\"], [0.2222222222222222, \"#7201a8\"], [0.3333333333333333, \"#9c179e\"], [0.4444444444444444, \"#bd3786\"], [0.5555555555555556, \"#d8576b\"], [0.6666666666666666, \"#ed7953\"], [0.7777777777777778, \"#fb9f3a\"], [0.8888888888888888, \"#fdca26\"], [1.0, \"#f0f921\"]], \"type\": \"histogram2dcontour\"}], \"mesh3d\": [{\"colorbar\": {\"outlinewidth\": 0, \"ticks\": \"\"}, \"type\": \"mesh3d\"}], \"parcoords\": [{\"line\": {\"colorbar\": {\"outlinewidth\": 0, \"ticks\": \"\"}}, \"type\": \"parcoords\"}], \"pie\": [{\"automargin\": true, \"type\": \"pie\"}], \"scatter\": [{\"marker\": {\"colorbar\": {\"outlinewidth\": 0, \"ticks\": \"\"}}, \"type\": \"scatter\"}], \"scatter3d\": [{\"line\": {\"colorbar\": {\"outlinewidth\": 0, \"ticks\": \"\"}}, \"marker\": {\"colorbar\": {\"outlinewidth\": 0, \"ticks\": \"\"}}, \"type\": \"scatter3d\"}], \"scattercarpet\": [{\"marker\": {\"colorbar\": {\"outlinewidth\": 0, \"ticks\": \"\"}}, \"type\": \"scattercarpet\"}], \"scattergeo\": [{\"marker\": {\"colorbar\": {\"outlinewidth\": 0, \"ticks\": \"\"}}, \"type\": \"scattergeo\"}], \"scattergl\": [{\"marker\": {\"colorbar\": {\"outlinewidth\": 0, \"ticks\": \"\"}}, \"type\": \"scattergl\"}], \"scattermapbox\": [{\"marker\": {\"colorbar\": {\"outlinewidth\": 0, \"ticks\": \"\"}}, \"type\": \"scattermapbox\"}], \"scatterpolar\": [{\"marker\": {\"colorbar\": {\"outlinewidth\": 0, \"ticks\": \"\"}}, \"type\": \"scatterpolar\"}], \"scatterpolargl\": [{\"marker\": {\"colorbar\": {\"outlinewidth\": 0, \"ticks\": \"\"}}, \"type\": \"scatterpolargl\"}], \"scatterternary\": [{\"marker\": {\"colorbar\": {\"outlinewidth\": 0, \"ticks\": \"\"}}, \"type\": \"scatterternary\"}], \"surface\": [{\"colorbar\": {\"outlinewidth\": 0, \"ticks\": \"\"}, \"colorscale\": [[0.0, \"#0d0887\"], [0.1111111111111111, \"#46039f\"], [0.2222222222222222, \"#7201a8\"], [0.3333333333333333, \"#9c179e\"], [0.4444444444444444, \"#bd3786\"], [0.5555555555555556, \"#d8576b\"], [0.6666666666666666, \"#ed7953\"], [0.7777777777777778, \"#fb9f3a\"], [0.8888888888888888, \"#fdca26\"], [1.0, \"#f0f921\"]], \"type\": \"surface\"}], \"table\": [{\"cells\": {\"fill\": {\"color\": \"#EBF0F8\"}, \"line\": {\"color\": \"white\"}}, \"header\": {\"fill\": {\"color\": \"#C8D4E3\"}, \"line\": {\"color\": \"white\"}}, \"type\": \"table\"}]}, \"layout\": {\"annotationdefaults\": {\"arrowcolor\": \"#2a3f5f\", \"arrowhead\": 0, \"arrowwidth\": 1}, \"autotypenumbers\": \"strict\", \"coloraxis\": {\"colorbar\": {\"outlinewidth\": 0, \"ticks\": \"\"}}, \"colorscale\": {\"diverging\": [[0, \"#8e0152\"], [0.1, \"#c51b7d\"], [0.2, \"#de77ae\"], [0.3, \"#f1b6da\"], [0.4, \"#fde0ef\"], [0.5, \"#f7f7f7\"], [0.6, \"#e6f5d0\"], [0.7, \"#b8e186\"], [0.8, \"#7fbc41\"], [0.9, \"#4d9221\"], [1, \"#276419\"]], \"sequential\": [[0.0, \"#0d0887\"], [0.1111111111111111, \"#46039f\"], [0.2222222222222222, \"#7201a8\"], [0.3333333333333333, \"#9c179e\"], [0.4444444444444444, \"#bd3786\"], [0.5555555555555556, \"#d8576b\"], [0.6666666666666666, \"#ed7953\"], [0.7777777777777778, \"#fb9f3a\"], [0.8888888888888888, \"#fdca26\"], [1.0, \"#f0f921\"]], \"sequentialminus\": [[0.0, \"#0d0887\"], [0.1111111111111111, \"#46039f\"], [0.2222222222222222, \"#7201a8\"], [0.3333333333333333, \"#9c179e\"], [0.4444444444444444, \"#bd3786\"], [0.5555555555555556, \"#d8576b\"], [0.6666666666666666, \"#ed7953\"], [0.7777777777777778, \"#fb9f3a\"], [0.8888888888888888, \"#fdca26\"], [1.0, \"#f0f921\"]]}, \"colorway\": [\"#636efa\", \"#EF553B\", \"#00cc96\", \"#ab63fa\", \"#FFA15A\", \"#19d3f3\", \"#FF6692\", \"#B6E880\", \"#FF97FF\", \"#FECB52\"], \"font\": {\"color\": \"#2a3f5f\"}, \"geo\": {\"bgcolor\": \"white\", \"lakecolor\": \"white\", \"landcolor\": \"#E5ECF6\", \"showlakes\": true, \"showland\": true, \"subunitcolor\": \"white\"}, \"hoverlabel\": {\"align\": \"left\"}, \"hovermode\": \"closest\", \"mapbox\": {\"style\": \"light\"}, \"paper_bgcolor\": \"white\", \"plot_bgcolor\": \"#E5ECF6\", \"polar\": {\"angularaxis\": {\"gridcolor\": \"white\", \"linecolor\": \"white\", \"ticks\": \"\"}, \"bgcolor\": \"#E5ECF6\", \"radialaxis\": {\"gridcolor\": \"white\", \"linecolor\": \"white\", \"ticks\": \"\"}}, \"scene\": {\"xaxis\": {\"backgroundcolor\": \"#E5ECF6\", \"gridcolor\": \"white\", \"gridwidth\": 2, \"linecolor\": \"white\", \"showbackground\": true, \"ticks\": \"\", \"zerolinecolor\": \"white\"}, \"yaxis\": {\"backgroundcolor\": \"#E5ECF6\", \"gridcolor\": \"white\", \"gridwidth\": 2, \"linecolor\": \"white\", \"showbackground\": true, \"ticks\": \"\", \"zerolinecolor\": \"white\"}, \"zaxis\": {\"backgroundcolor\": \"#E5ECF6\", \"gridcolor\": \"white\", \"gridwidth\": 2, \"linecolor\": \"white\", \"showbackground\": true, \"ticks\": \"\", \"zerolinecolor\": \"white\"}}, \"shapedefaults\": {\"line\": {\"color\": \"#2a3f5f\"}}, \"ternary\": {\"aaxis\": {\"gridcolor\": \"white\", \"linecolor\": \"white\", \"ticks\": \"\"}, \"baxis\": {\"gridcolor\": \"white\", \"linecolor\": \"white\", \"ticks\": \"\"}, \"bgcolor\": \"#E5ECF6\", \"caxis\": {\"gridcolor\": \"white\", \"linecolor\": \"white\", \"ticks\": \"\"}}, \"title\": {\"x\": 0.05}, \"xaxis\": {\"automargin\": true, \"gridcolor\": \"white\", \"linecolor\": \"white\", \"ticks\": \"\", \"title\": {\"standoff\": 15}, \"zerolinecolor\": \"white\", \"zerolinewidth\": 2}, \"yaxis\": {\"automargin\": true, \"gridcolor\": \"white\", \"linecolor\": \"white\", \"ticks\": \"\", \"title\": {\"standoff\": 15}, \"zerolinecolor\": \"white\", \"zerolinewidth\": 2}}}, \"title\": {\"font\": {\"size\": 20}, \"text\": \"Training PCA Multilingual Data - Number of sentences per language\"}, \"width\": 900, \"xaxis\": {\"tickangle\": 0, \"tickfont\": {\"size\": 16}, \"title\": {\"font\": {\"size\": 18}, \"standoff\": 10, \"text\": \"Languagues\"}}, \"yaxis\": {\"tickfont\": {\"size\": 16}, \"title\": {\"font\": {\"size\": 18}, \"standoff\": 10, \"text\": \"Number of sentences\"}}},                        {\"responsive\": true}                    ).then(function(){\n",
              "                            \n",
              "var gd = document.getElementById('3cc01883-88c2-4e18-ba8c-9d8ac0f41c39');\n",
              "var x = new MutationObserver(function (mutations, observer) {{\n",
              "        var display = window.getComputedStyle(gd).display;\n",
              "        if (!display || display === 'none') {{\n",
              "            console.log([gd, 'removed!']);\n",
              "            Plotly.purge(gd);\n",
              "            observer.disconnect();\n",
              "        }}\n",
              "}});\n",
              "\n",
              "// Listen for the removal of the full notebook cells\n",
              "var notebookContainer = gd.closest('#notebook-container');\n",
              "if (notebookContainer) {{\n",
              "    x.observe(notebookContainer, {childList: true});\n",
              "}}\n",
              "\n",
              "// Listen for the clearing of the current output cell\n",
              "var outputEl = gd.closest('.output');\n",
              "if (outputEl) {{\n",
              "    x.observe(outputEl, {childList: true});\n",
              "}}\n",
              "\n",
              "                        })                };                            </script>        </div>\n",
              "</body>\n",
              "</html>"
            ]
          },
          "metadata": {
            "tags": []
          }
        }
      ]
    },
    {
      "cell_type": "code",
      "metadata": {
        "colab": {
          "base_uri": "https://localhost:8080/",
          "height": 417
        },
        "id": "Paq0k98PaT63",
        "outputId": "10ec25d6-fda5-42e6-d255-3cd9dc61ad26"
      },
      "source": [
        "fig_2 = go.Figure()\r\n",
        "for source, group in df_multi_PCA_train_1000.groupby([\"from\"]):\r\n",
        "  data = group.groupby([\"lang\"], as_index = False).agg({'sentences':'count'})\r\n",
        "  source_data = [source]\r\n",
        "  trace = go.Bar(\r\n",
        "                  x = data[\"lang\"], \r\n",
        "                  y= data[\"sentences\"],\r\n",
        "                  customdata = [source_data] * len(data[\"sentences\"].to_list()),\r\n",
        "                  hovertemplate= \"Data source: %{customdata} <br> Language: %{x} <br>Nº sentences: %{y}\",\r\n",
        "                  # marker_color =\"rgb(253,180,98)\",\r\n",
        "                  name = source\r\n",
        "                )\r\n",
        "  fig_2.add_trace(trace)\r\n",
        "\r\n",
        "fig_2.update_layout(\r\n",
        "      hoverlabel=dict(\r\n",
        "          font_size=14,\r\n",
        "          font_family=\"Arial\",\r\n",
        "          bgcolor = \"white\"),\r\n",
        "\r\n",
        "      height = 400, \r\n",
        "      width = 1000, \r\n",
        "      title = \"Training PCA Multilingual Data - Number of sentences per data source\",\r\n",
        "      title_font={\"size\": 20},\r\n",
        "      legend_font = {\"size\": 16})\r\n",
        "\r\n",
        "fig_2.update_xaxes(\r\n",
        "          tickangle = 0,\r\n",
        "          tickfont = {\"size\": 16},\r\n",
        "          title_text = \"Languagues\",\r\n",
        "          title_font = {\"size\": 18},\r\n",
        "          title_standoff = 10)\r\n",
        "\r\n",
        "fig_2.update_yaxes(\r\n",
        "          tickfont = {\"size\": 16},\r\n",
        "          title_font = {\"size\": 18},\r\n",
        "          title_text = \"Number of sentences\",\r\n",
        "          title_standoff = 10)\r\n",
        "\r\n",
        "fig_2.show()"
      ],
      "execution_count": 64,
      "outputs": [
        {
          "output_type": "display_data",
          "data": {
            "text/html": [
              "<html>\n",
              "<head><meta charset=\"utf-8\" /></head>\n",
              "<body>\n",
              "    <div>            <script src=\"https://cdnjs.cloudflare.com/ajax/libs/mathjax/2.7.5/MathJax.js?config=TeX-AMS-MML_SVG\"></script><script type=\"text/javascript\">if (window.MathJax) {MathJax.Hub.Config({SVG: {font: \"STIX-Web\"}});}</script>                <script type=\"text/javascript\">window.PlotlyConfig = {MathJaxConfig: 'local'};</script>\n",
              "        <script src=\"https://cdn.plot.ly/plotly-latest.min.js\"></script>                <div id=\"03053288-80e2-483b-b9a7-34ebda163a1b\" class=\"plotly-graph-div\" style=\"height:400px; width:1000px;\"></div>            <script type=\"text/javascript\">                                    window.PLOTLYENV=window.PLOTLYENV || {};                                    if (document.getElementById(\"03053288-80e2-483b-b9a7-34ebda163a1b\")) {                    Plotly.newPlot(                        \"03053288-80e2-483b-b9a7-34ebda163a1b\",                        [{\"customdata\": [[\"OPUS_News_Commentary\"], [\"OPUS_News_Commentary\"], [\"OPUS_News_Commentary\"], [\"OPUS_News_Commentary\"], [\"OPUS_News_Commentary\"], [\"OPUS_News_Commentary\"], [\"OPUS_News_Commentary\"], [\"OPUS_News_Commentary\"], [\"OPUS_News_Commentary\"], [\"OPUS_News_Commentary\"], [\"OPUS_News_Commentary\"], [\"OPUS_News_Commentary\"]], \"hovertemplate\": \"Data source: %{customdata} <br> Language: %{x} <br>N\\u00ba sentences: %{y}\", \"name\": \"OPUS_News_Commentary\", \"type\": \"bar\", \"x\": [\"ar\", \"cs\", \"de\", \"en\", \"es\", \"fr\", \"it\", \"ja\", \"nl\", \"pt\", \"ru\", \"zh\"], \"y\": [500, 500, 500, 500, 500, 500, 500, 500, 500, 500, 500, 500]}, {\"customdata\": [[\"TED2020\"], [\"TED2020\"], [\"TED2020\"], [\"TED2020\"], [\"TED2020\"], [\"TED2020\"], [\"TED2020\"], [\"TED2020\"], [\"TED2020\"], [\"TED2020\"], [\"TED2020\"], [\"TED2020\"], [\"TED2020\"], [\"TED2020\"], [\"TED2020\"]], \"hovertemplate\": \"Data source: %{customdata} <br> Language: %{x} <br>N\\u00ba sentences: %{y}\", \"name\": \"TED2020\", \"type\": \"bar\", \"x\": [\"ar\", \"cs\", \"de\", \"en\", \"es\", \"fr\", \"hi\", \"it\", \"ja\", \"nl\", \"pl\", \"pt\", \"ru\", \"tr\", \"zh\"], \"y\": [250, 250, 250, 250, 250, 250, 500, 250, 250, 250, 500, 250, 250, 500, 250]}, {\"customdata\": [[\"WikiMatrix\"], [\"WikiMatrix\"], [\"WikiMatrix\"], [\"WikiMatrix\"], [\"WikiMatrix\"], [\"WikiMatrix\"], [\"WikiMatrix\"], [\"WikiMatrix\"], [\"WikiMatrix\"], [\"WikiMatrix\"], [\"WikiMatrix\"], [\"WikiMatrix\"], [\"WikiMatrix\"], [\"WikiMatrix\"], [\"WikiMatrix\"]], \"hovertemplate\": \"Data source: %{customdata} <br> Language: %{x} <br>N\\u00ba sentences: %{y}\", \"name\": \"WikiMatrix\", \"type\": \"bar\", \"x\": [\"ar\", \"cs\", \"de\", \"en\", \"es\", \"fr\", \"hi\", \"it\", \"ja\", \"nl\", \"pl\", \"pt\", \"ru\", \"tr\", \"zh\"], \"y\": [250, 250, 250, 250, 250, 250, 500, 250, 250, 250, 500, 250, 250, 500, 250]}],                        {\"height\": 400, \"hoverlabel\": {\"bgcolor\": \"white\", \"font\": {\"family\": \"Arial\", \"size\": 14}}, \"legend\": {\"font\": {\"size\": 16}}, \"template\": {\"data\": {\"bar\": [{\"error_x\": {\"color\": \"#2a3f5f\"}, \"error_y\": {\"color\": \"#2a3f5f\"}, \"marker\": {\"line\": {\"color\": \"#E5ECF6\", \"width\": 0.5}}, \"type\": \"bar\"}], \"barpolar\": [{\"marker\": {\"line\": {\"color\": \"#E5ECF6\", \"width\": 0.5}}, \"type\": \"barpolar\"}], \"carpet\": [{\"aaxis\": {\"endlinecolor\": \"#2a3f5f\", \"gridcolor\": \"white\", \"linecolor\": \"white\", \"minorgridcolor\": \"white\", \"startlinecolor\": \"#2a3f5f\"}, \"baxis\": {\"endlinecolor\": \"#2a3f5f\", \"gridcolor\": \"white\", \"linecolor\": \"white\", \"minorgridcolor\": \"white\", \"startlinecolor\": \"#2a3f5f\"}, \"type\": \"carpet\"}], \"choropleth\": [{\"colorbar\": {\"outlinewidth\": 0, \"ticks\": \"\"}, \"type\": \"choropleth\"}], \"contour\": [{\"colorbar\": {\"outlinewidth\": 0, \"ticks\": \"\"}, \"colorscale\": [[0.0, \"#0d0887\"], [0.1111111111111111, \"#46039f\"], [0.2222222222222222, \"#7201a8\"], [0.3333333333333333, \"#9c179e\"], [0.4444444444444444, \"#bd3786\"], [0.5555555555555556, \"#d8576b\"], [0.6666666666666666, \"#ed7953\"], [0.7777777777777778, \"#fb9f3a\"], [0.8888888888888888, \"#fdca26\"], [1.0, \"#f0f921\"]], \"type\": \"contour\"}], \"contourcarpet\": [{\"colorbar\": {\"outlinewidth\": 0, \"ticks\": \"\"}, \"type\": \"contourcarpet\"}], \"heatmap\": [{\"colorbar\": {\"outlinewidth\": 0, \"ticks\": \"\"}, \"colorscale\": [[0.0, \"#0d0887\"], [0.1111111111111111, \"#46039f\"], [0.2222222222222222, \"#7201a8\"], [0.3333333333333333, \"#9c179e\"], [0.4444444444444444, \"#bd3786\"], [0.5555555555555556, \"#d8576b\"], [0.6666666666666666, \"#ed7953\"], [0.7777777777777778, \"#fb9f3a\"], [0.8888888888888888, \"#fdca26\"], [1.0, \"#f0f921\"]], \"type\": \"heatmap\"}], \"heatmapgl\": [{\"colorbar\": {\"outlinewidth\": 0, \"ticks\": \"\"}, \"colorscale\": [[0.0, \"#0d0887\"], [0.1111111111111111, \"#46039f\"], [0.2222222222222222, \"#7201a8\"], [0.3333333333333333, \"#9c179e\"], [0.4444444444444444, \"#bd3786\"], [0.5555555555555556, \"#d8576b\"], [0.6666666666666666, \"#ed7953\"], [0.7777777777777778, \"#fb9f3a\"], [0.8888888888888888, \"#fdca26\"], [1.0, \"#f0f921\"]], \"type\": \"heatmapgl\"}], \"histogram\": [{\"marker\": {\"colorbar\": {\"outlinewidth\": 0, \"ticks\": \"\"}}, \"type\": \"histogram\"}], \"histogram2d\": [{\"colorbar\": {\"outlinewidth\": 0, \"ticks\": \"\"}, \"colorscale\": [[0.0, \"#0d0887\"], [0.1111111111111111, \"#46039f\"], [0.2222222222222222, \"#7201a8\"], [0.3333333333333333, \"#9c179e\"], [0.4444444444444444, \"#bd3786\"], [0.5555555555555556, \"#d8576b\"], [0.6666666666666666, \"#ed7953\"], [0.7777777777777778, \"#fb9f3a\"], [0.8888888888888888, \"#fdca26\"], [1.0, \"#f0f921\"]], \"type\": \"histogram2d\"}], \"histogram2dcontour\": [{\"colorbar\": {\"outlinewidth\": 0, \"ticks\": \"\"}, \"colorscale\": [[0.0, \"#0d0887\"], [0.1111111111111111, \"#46039f\"], [0.2222222222222222, \"#7201a8\"], [0.3333333333333333, \"#9c179e\"], [0.4444444444444444, \"#bd3786\"], [0.5555555555555556, \"#d8576b\"], [0.6666666666666666, \"#ed7953\"], [0.7777777777777778, \"#fb9f3a\"], [0.8888888888888888, \"#fdca26\"], [1.0, \"#f0f921\"]], \"type\": \"histogram2dcontour\"}], \"mesh3d\": [{\"colorbar\": {\"outlinewidth\": 0, \"ticks\": \"\"}, \"type\": \"mesh3d\"}], \"parcoords\": [{\"line\": {\"colorbar\": {\"outlinewidth\": 0, \"ticks\": \"\"}}, \"type\": \"parcoords\"}], \"pie\": [{\"automargin\": true, \"type\": \"pie\"}], \"scatter\": [{\"marker\": {\"colorbar\": {\"outlinewidth\": 0, \"ticks\": \"\"}}, \"type\": \"scatter\"}], \"scatter3d\": [{\"line\": {\"colorbar\": {\"outlinewidth\": 0, \"ticks\": \"\"}}, \"marker\": {\"colorbar\": {\"outlinewidth\": 0, \"ticks\": \"\"}}, \"type\": \"scatter3d\"}], \"scattercarpet\": [{\"marker\": {\"colorbar\": {\"outlinewidth\": 0, \"ticks\": \"\"}}, \"type\": \"scattercarpet\"}], \"scattergeo\": [{\"marker\": {\"colorbar\": {\"outlinewidth\": 0, \"ticks\": \"\"}}, \"type\": \"scattergeo\"}], \"scattergl\": [{\"marker\": {\"colorbar\": {\"outlinewidth\": 0, \"ticks\": \"\"}}, \"type\": \"scattergl\"}], \"scattermapbox\": [{\"marker\": {\"colorbar\": {\"outlinewidth\": 0, \"ticks\": \"\"}}, \"type\": \"scattermapbox\"}], \"scatterpolar\": [{\"marker\": {\"colorbar\": {\"outlinewidth\": 0, \"ticks\": \"\"}}, \"type\": \"scatterpolar\"}], \"scatterpolargl\": [{\"marker\": {\"colorbar\": {\"outlinewidth\": 0, \"ticks\": \"\"}}, \"type\": \"scatterpolargl\"}], \"scatterternary\": [{\"marker\": {\"colorbar\": {\"outlinewidth\": 0, \"ticks\": \"\"}}, \"type\": \"scatterternary\"}], \"surface\": [{\"colorbar\": {\"outlinewidth\": 0, \"ticks\": \"\"}, \"colorscale\": [[0.0, \"#0d0887\"], [0.1111111111111111, \"#46039f\"], [0.2222222222222222, \"#7201a8\"], [0.3333333333333333, \"#9c179e\"], [0.4444444444444444, \"#bd3786\"], [0.5555555555555556, \"#d8576b\"], [0.6666666666666666, \"#ed7953\"], [0.7777777777777778, \"#fb9f3a\"], [0.8888888888888888, \"#fdca26\"], [1.0, \"#f0f921\"]], \"type\": \"surface\"}], \"table\": [{\"cells\": {\"fill\": {\"color\": \"#EBF0F8\"}, \"line\": {\"color\": \"white\"}}, \"header\": {\"fill\": {\"color\": \"#C8D4E3\"}, \"line\": {\"color\": \"white\"}}, \"type\": \"table\"}]}, \"layout\": {\"annotationdefaults\": {\"arrowcolor\": \"#2a3f5f\", \"arrowhead\": 0, \"arrowwidth\": 1}, \"autotypenumbers\": \"strict\", \"coloraxis\": {\"colorbar\": {\"outlinewidth\": 0, \"ticks\": \"\"}}, \"colorscale\": {\"diverging\": [[0, \"#8e0152\"], [0.1, \"#c51b7d\"], [0.2, \"#de77ae\"], [0.3, \"#f1b6da\"], [0.4, \"#fde0ef\"], [0.5, \"#f7f7f7\"], [0.6, \"#e6f5d0\"], [0.7, \"#b8e186\"], [0.8, \"#7fbc41\"], [0.9, \"#4d9221\"], [1, \"#276419\"]], \"sequential\": [[0.0, \"#0d0887\"], [0.1111111111111111, \"#46039f\"], [0.2222222222222222, \"#7201a8\"], [0.3333333333333333, \"#9c179e\"], [0.4444444444444444, \"#bd3786\"], [0.5555555555555556, \"#d8576b\"], [0.6666666666666666, \"#ed7953\"], [0.7777777777777778, \"#fb9f3a\"], [0.8888888888888888, \"#fdca26\"], [1.0, \"#f0f921\"]], \"sequentialminus\": [[0.0, \"#0d0887\"], [0.1111111111111111, \"#46039f\"], [0.2222222222222222, \"#7201a8\"], [0.3333333333333333, \"#9c179e\"], [0.4444444444444444, \"#bd3786\"], [0.5555555555555556, \"#d8576b\"], [0.6666666666666666, \"#ed7953\"], [0.7777777777777778, \"#fb9f3a\"], [0.8888888888888888, \"#fdca26\"], [1.0, \"#f0f921\"]]}, \"colorway\": [\"#636efa\", \"#EF553B\", \"#00cc96\", \"#ab63fa\", \"#FFA15A\", \"#19d3f3\", \"#FF6692\", \"#B6E880\", \"#FF97FF\", \"#FECB52\"], \"font\": {\"color\": \"#2a3f5f\"}, \"geo\": {\"bgcolor\": \"white\", \"lakecolor\": \"white\", \"landcolor\": \"#E5ECF6\", \"showlakes\": true, \"showland\": true, \"subunitcolor\": \"white\"}, \"hoverlabel\": {\"align\": \"left\"}, \"hovermode\": \"closest\", \"mapbox\": {\"style\": \"light\"}, \"paper_bgcolor\": \"white\", \"plot_bgcolor\": \"#E5ECF6\", \"polar\": {\"angularaxis\": {\"gridcolor\": \"white\", \"linecolor\": \"white\", \"ticks\": \"\"}, \"bgcolor\": \"#E5ECF6\", \"radialaxis\": {\"gridcolor\": \"white\", \"linecolor\": \"white\", \"ticks\": \"\"}}, \"scene\": {\"xaxis\": {\"backgroundcolor\": \"#E5ECF6\", \"gridcolor\": \"white\", \"gridwidth\": 2, \"linecolor\": \"white\", \"showbackground\": true, \"ticks\": \"\", \"zerolinecolor\": \"white\"}, \"yaxis\": {\"backgroundcolor\": \"#E5ECF6\", \"gridcolor\": \"white\", \"gridwidth\": 2, \"linecolor\": \"white\", \"showbackground\": true, \"ticks\": \"\", \"zerolinecolor\": \"white\"}, \"zaxis\": {\"backgroundcolor\": \"#E5ECF6\", \"gridcolor\": \"white\", \"gridwidth\": 2, \"linecolor\": \"white\", \"showbackground\": true, \"ticks\": \"\", \"zerolinecolor\": \"white\"}}, \"shapedefaults\": {\"line\": {\"color\": \"#2a3f5f\"}}, \"ternary\": {\"aaxis\": {\"gridcolor\": \"white\", \"linecolor\": \"white\", \"ticks\": \"\"}, \"baxis\": {\"gridcolor\": \"white\", \"linecolor\": \"white\", \"ticks\": \"\"}, \"bgcolor\": \"#E5ECF6\", \"caxis\": {\"gridcolor\": \"white\", \"linecolor\": \"white\", \"ticks\": \"\"}}, \"title\": {\"x\": 0.05}, \"xaxis\": {\"automargin\": true, \"gridcolor\": \"white\", \"linecolor\": \"white\", \"ticks\": \"\", \"title\": {\"standoff\": 15}, \"zerolinecolor\": \"white\", \"zerolinewidth\": 2}, \"yaxis\": {\"automargin\": true, \"gridcolor\": \"white\", \"linecolor\": \"white\", \"ticks\": \"\", \"title\": {\"standoff\": 15}, \"zerolinecolor\": \"white\", \"zerolinewidth\": 2}}}, \"title\": {\"font\": {\"size\": 20}, \"text\": \"Training PCA Multilingual Data - Number of sentences per data source\"}, \"width\": 1000, \"xaxis\": {\"tickangle\": 0, \"tickfont\": {\"size\": 16}, \"title\": {\"font\": {\"size\": 18}, \"standoff\": 10, \"text\": \"Languagues\"}}, \"yaxis\": {\"tickfont\": {\"size\": 16}, \"title\": {\"font\": {\"size\": 18}, \"standoff\": 10, \"text\": \"Number of sentences\"}}},                        {\"responsive\": true}                    ).then(function(){\n",
              "                            \n",
              "var gd = document.getElementById('03053288-80e2-483b-b9a7-34ebda163a1b');\n",
              "var x = new MutationObserver(function (mutations, observer) {{\n",
              "        var display = window.getComputedStyle(gd).display;\n",
              "        if (!display || display === 'none') {{\n",
              "            console.log([gd, 'removed!']);\n",
              "            Plotly.purge(gd);\n",
              "            observer.disconnect();\n",
              "        }}\n",
              "}});\n",
              "\n",
              "// Listen for the removal of the full notebook cells\n",
              "var notebookContainer = gd.closest('#notebook-container');\n",
              "if (notebookContainer) {{\n",
              "    x.observe(notebookContainer, {childList: true});\n",
              "}}\n",
              "\n",
              "// Listen for the clearing of the current output cell\n",
              "var outputEl = gd.closest('.output');\n",
              "if (outputEl) {{\n",
              "    x.observe(outputEl, {childList: true});\n",
              "}}\n",
              "\n",
              "                        })                };                            </script>        </div>\n",
              "</body>\n",
              "</html>"
            ]
          },
          "metadata": {
            "tags": []
          }
        }
      ]
    },
    {
      "cell_type": "markdown",
      "metadata": {
        "id": "gT7gD_aHWAVp"
      },
      "source": [
        "The following code allows us to create a HTML file (not as heavy as save the figure directly to HTML) with both figures to interact with them. "
      ]
    },
    {
      "cell_type": "code",
      "metadata": {
        "id": "3UKtHec-aXAB"
      },
      "source": [
        "with open('multi_pca_barplot_sentences_per_language.html', 'w') as f:\r\n",
        "  \r\n",
        "  f.write(\"\"\"\r\n",
        "<body>\r\n",
        "    <div style=\"width:800px; margin:0 auto;\">\r\n",
        "    <br>\r\n",
        "    <br>\r\n",
        "    \"\"\")\r\n",
        "  f.write(fig_1.to_html(full_html=False, include_plotlyjs='cdn'))\r\n",
        "  f.write(fig_2.to_html(full_html=False, include_plotlyjs='cdn'))"
      ],
      "execution_count": null,
      "outputs": []
    }
  ]
}