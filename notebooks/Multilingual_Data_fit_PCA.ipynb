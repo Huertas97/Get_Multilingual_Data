{
  "nbformat": 4,
  "nbformat_minor": 0,
  "metadata": {
    "colab": {
      "name": "Multilingual_Data_fit_PCA.ipynb",
      "provenance": [],
      "collapsed_sections": [],
      "authorship_tag": "ABX9TyOgvXRJNxj7O+ToqUzkllt+",
      "include_colab_link": true
    },
    "kernelspec": {
      "name": "python3",
      "display_name": "Python 3"
    }
  },
  "cells": [
    {
      "cell_type": "markdown",
      "metadata": {
        "id": "view-in-github",
        "colab_type": "text"
      },
      "source": [
        "<a href=\"https://colab.research.google.com/github/Huertas97/Get_Multilingual_Data/blob/main/notebooks/Multilingual_Data_fit_PCA.ipynb\" target=\"_parent\"><img src=\"https://colab.research.google.com/assets/colab-badge.svg\" alt=\"Open In Colab\"/></a>"
      ]
    },
    {
      "cell_type": "markdown",
      "metadata": {
        "id": "DVHyCVzusmyJ"
      },
      "source": [
        "# Introducction\n",
        "\n",
        "In this notebooks we show how to use the scripts available in https://github.com/Huertas97/Get_Multilingual_Data.git to extract Multilingual sentences. \n",
        "\n",
        "The final result from the notebook is a data frame with 1000 sentences per language from three different resources: TED2020, WikiMatrix and OPUS-NewsCommentary. \n",
        "\n",
        "A visualization of the multilingual data extracted is shown at the end of the notebook. "
      ]
    },
    {
      "cell_type": "markdown",
      "metadata": {
        "id": "uGB5O573UHuy"
      },
      "source": [
        "# Loading Trial Data\n"
      ]
    },
    {
      "cell_type": "code",
      "metadata": {
        "id": "WdoBQv1uhT6l"
      },
      "source": [
        "!pip install -U -q sentence-transformers\r\n",
        "import pandas as pd"
      ],
      "execution_count": 1,
      "outputs": []
    },
    {
      "cell_type": "markdown",
      "metadata": {
        "id": "kLJpBQub5JCT"
      },
      "source": [
        "# Languages for the PCA"
      ]
    },
    {
      "cell_type": "code",
      "metadata": {
        "id": "kxChIWRu5IiR",
        "colab": {
          "base_uri": "https://localhost:8080/"
        },
        "outputId": "94814137-40ea-41f6-e332-b2adce8998e2"
      },
      "source": [
        "languages = \"ar, cs, de, en, es, fr, hi, it, ja, nl, pl, pt, ru, tr, zh\".split(\", \")\n",
        "print(\",\".join(languages))\n",
        "print(len(languages))"
      ],
      "execution_count": 2,
      "outputs": [
        {
          "output_type": "stream",
          "text": [
            "ar,cs,de,en,es,fr,hi,it,ja,nl,pl,pt,ru,tr,zh\n",
            "15\n"
          ],
          "name": "stdout"
        }
      ]
    },
    {
      "cell_type": "markdown",
      "metadata": {
        "id": "qo4Qc980dcT0"
      },
      "source": [
        "# Clone the github repository"
      ]
    },
    {
      "cell_type": "code",
      "metadata": {
        "colab": {
          "base_uri": "https://localhost:8080/"
        },
        "id": "1hKCBqajdeny",
        "outputId": "a6ff61e3-a502-4dd9-cf19-60ce94c5e87c"
      },
      "source": [
        "!git clone https://github.com/Huertas97/Get_Multilingual_Data.git"
      ],
      "execution_count": 3,
      "outputs": [
        {
          "output_type": "stream",
          "text": [
            "fatal: destination path 'Get_Multilingual_Data' already exists and is not an empty directory.\n"
          ],
          "name": "stdout"
        }
      ]
    },
    {
      "cell_type": "code",
      "metadata": {
        "colab": {
          "base_uri": "https://localhost:8080/"
        },
        "id": "-UfWCoLyduow",
        "outputId": "ff8c085a-efff-4131-b081-55865755cfd2"
      },
      "source": [
        "%cd Get_Multilingual_Data/"
      ],
      "execution_count": 4,
      "outputs": [
        {
          "output_type": "stream",
          "text": [
            "/content/Get_Multilingual_Data\n"
          ],
          "name": "stdout"
        }
      ]
    },
    {
      "cell_type": "markdown",
      "metadata": {
        "id": "GJpCy99m5ZDW"
      },
      "source": [
        "# Sentences from TED 2020"
      ]
    },
    {
      "cell_type": "code",
      "metadata": {
        "colab": {
          "base_uri": "https://localhost:8080/"
        },
        "id": "iqrA0n_pit4W",
        "outputId": "cf8989b1-382c-47e2-e295-dd6a84cd8598"
      },
      "source": [
        "!python ./scripts/get_TED2020_sentences.py --help"
      ],
      "execution_count": 5,
      "outputs": [
        {
          "output_type": "stream",
          "text": [
            "2020-12-16 12:19:21.447146: I tensorflow/stream_executor/platform/default/dso_loader.cc:48] Successfully opened dynamic library libcudart.so.10.1\n",
            "\n",
            "This script downloads the TED2020 corpus and create parallel sentences tsv files\n",
            "\n",
            "The TED2020 corpus is a crawl of transcripts from TED and TEDx talks, which \n",
            "are translated to 100+ languages. With this script the user can select the \n",
            "amount of sentences and the languages desired. \n",
            "\n",
            "The TED2020 corpus is downloaded automatically only for the languages selected.\n",
            "          \n",
            "Usage:\n",
            "\n",
            "    python get_TED2020_sentences [options] \n",
            "\n",
            "Options:\n",
            "    -n, --n_sentences            Number of sentences to collect\n",
            "    -l, --languages              Languages ​​from which we extract sentences\n",
            "    -h, --help                   Help documentation\n",
            "\n",
            "\n",
            "Example. Extract TED 2020  arabic and italian sentences:\n",
            "    python get_TED2020_sentences.py --n_sentences 500 --languages ar,it\n"
          ],
          "name": "stdout"
        }
      ]
    },
    {
      "cell_type": "code",
      "metadata": {
        "id": "1zrvrAhwRHCP",
        "colab": {
          "base_uri": "https://localhost:8080/"
        },
        "outputId": "d1813411-d093-407c-c542-6414d4ad29c8"
      },
      "source": [
        "!python ./scripts/get_TED2020_sentences.py --n_sentences 500 --languages pl,tr,hi"
      ],
      "execution_count": 6,
      "outputs": [
        {
          "output_type": "stream",
          "text": [
            "2020-12-16 12:19:25.474236: I tensorflow/stream_executor/platform/default/dso_loader.cc:48] Successfully opened dynamic library libcudart.so.10.1\n",
            "Recovering TED2020 talks for languages: pl tr hi\n",
            "ted2020.tsv.gz does not exists. Try to download from server\n",
            "100% 581M/581M [00:29<00:00, 19.7MB/s]\n",
            "Parallel sentences files en-hi, en-pl, en-tr do not exist. Create these files now\n",
            "Creating data frame for TED2020 languages: pl-tr-hi\n",
            "TED2020-en-tr-train_pca.tsv.gz\n",
            "TED2020-en-pl-train_pca.tsv.gz\n",
            "TED2020-en-hi-train_pca.tsv.gz\n",
            "---Saving results in parallel-sentences/TED2020/df_TED_pl-tr-hi.pkl ---\n",
            "--- Removing downloaded files ---\n",
            "--- Finish ---\n"
          ],
          "name": "stdout"
        }
      ]
    },
    {
      "cell_type": "code",
      "metadata": {
        "colab": {
          "base_uri": "https://localhost:8080/",
          "height": 206
        },
        "id": "VQ3Vm_i4iMp7",
        "outputId": "3abd4248-c92e-485e-b4de-5d36650633c7"
      },
      "source": [
        "df_TED_pl_tr_hi = pd.read_pickle(\"./parallel-sentences/TED2020/df_TED_pl-tr-hi.pkl\")\r\n",
        "df_TED_pl_tr_hi.groupby(\"lang\").describe()"
      ],
      "execution_count": 7,
      "outputs": [
        {
          "output_type": "execute_result",
          "data": {
            "text/html": [
              "<div>\n",
              "<style scoped>\n",
              "    .dataframe tbody tr th:only-of-type {\n",
              "        vertical-align: middle;\n",
              "    }\n",
              "\n",
              "    .dataframe tbody tr th {\n",
              "        vertical-align: top;\n",
              "    }\n",
              "\n",
              "    .dataframe thead tr th {\n",
              "        text-align: left;\n",
              "    }\n",
              "\n",
              "    .dataframe thead tr:last-of-type th {\n",
              "        text-align: right;\n",
              "    }\n",
              "</style>\n",
              "<table border=\"1\" class=\"dataframe\">\n",
              "  <thead>\n",
              "    <tr>\n",
              "      <th></th>\n",
              "      <th colspan=\"4\" halign=\"left\">from</th>\n",
              "      <th colspan=\"4\" halign=\"left\">sentences</th>\n",
              "    </tr>\n",
              "    <tr>\n",
              "      <th></th>\n",
              "      <th>count</th>\n",
              "      <th>unique</th>\n",
              "      <th>top</th>\n",
              "      <th>freq</th>\n",
              "      <th>count</th>\n",
              "      <th>unique</th>\n",
              "      <th>top</th>\n",
              "      <th>freq</th>\n",
              "    </tr>\n",
              "    <tr>\n",
              "      <th>lang</th>\n",
              "      <th></th>\n",
              "      <th></th>\n",
              "      <th></th>\n",
              "      <th></th>\n",
              "      <th></th>\n",
              "      <th></th>\n",
              "      <th></th>\n",
              "      <th></th>\n",
              "    </tr>\n",
              "  </thead>\n",
              "  <tbody>\n",
              "    <tr>\n",
              "      <th>hi</th>\n",
              "      <td>500</td>\n",
              "      <td>1</td>\n",
              "      <td>TED2020</td>\n",
              "      <td>500</td>\n",
              "      <td>500</td>\n",
              "      <td>500</td>\n",
              "      <td>यह एक कीमत नहीं, एक लाभ है.</td>\n",
              "      <td>1</td>\n",
              "    </tr>\n",
              "    <tr>\n",
              "      <th>pl</th>\n",
              "      <td>500</td>\n",
              "      <td>1</td>\n",
              "      <td>TED2020</td>\n",
              "      <td>500</td>\n",
              "      <td>500</td>\n",
              "      <td>500</td>\n",
              "      <td>Chciałem dziś zrobić coś specjalnego.</td>\n",
              "      <td>1</td>\n",
              "    </tr>\n",
              "    <tr>\n",
              "      <th>tr</th>\n",
              "      <td>500</td>\n",
              "      <td>1</td>\n",
              "      <td>TED2020</td>\n",
              "      <td>500</td>\n",
              "      <td>500</td>\n",
              "      <td>500</td>\n",
              "      <td>Son beş veya altı aydır üzerinde çalıştığım bi...</td>\n",
              "      <td>1</td>\n",
              "    </tr>\n",
              "  </tbody>\n",
              "</table>\n",
              "</div>"
            ],
            "text/plain": [
              "      from         ...                                          sentences     \n",
              "     count unique  ...                                                top freq\n",
              "lang               ...                                                        \n",
              "hi     500      1  ...                        यह एक कीमत नहीं, एक लाभ है.    1\n",
              "pl     500      1  ...              Chciałem dziś zrobić coś specjalnego.    1\n",
              "tr     500      1  ...  Son beş veya altı aydır üzerinde çalıştığım bi...    1\n",
              "\n",
              "[3 rows x 8 columns]"
            ]
          },
          "metadata": {
            "tags": []
          },
          "execution_count": 7
        }
      ]
    },
    {
      "cell_type": "code",
      "metadata": {
        "id": "LnNwzkulUhS-",
        "colab": {
          "base_uri": "https://localhost:8080/"
        },
        "outputId": "726bdb7d-3730-4dc7-d449-2b95a06b0f79"
      },
      "source": [
        "!python ./scripts/get_TED2020_sentences.py --n_sentences 250 --languages ar,cs,de,en,es,fr,it,ja,nl,pt,ru,zh"
      ],
      "execution_count": 8,
      "outputs": [
        {
          "output_type": "stream",
          "text": [
            "2020-12-16 12:20:00.720766: I tensorflow/stream_executor/platform/default/dso_loader.cc:48] Successfully opened dynamic library libcudart.so.10.1\n",
            "Recovering TED2020 talks for languages: ar cs de en es fr it ja nl pt ru zh\n",
            "Parallel sentences files en-it, en-ja, en-fr, en-zh, en-en, en-es, en-ar, en-nl, en-pt, en-ru, en-cs, en-de do not exist. Create these files now\n",
            "Creating data frame for TED2020 languages: ar-cs-de-en-es-fr-it-ja-nl-pt-ru-zh\n",
            "TED2020-en-fr-train_pca.tsv.gz\n",
            "TED2020-en-cs-train_pca.tsv.gz\n",
            "TED2020-en-ru-train_pca.tsv.gz\n",
            "TED2020-en-ja-train_pca.tsv.gz\n",
            "TED2020-en-es-train_pca.tsv.gz\n",
            "TED2020-en-pt-train_pca.tsv.gz\n",
            "TED2020-en-nl-train_pca.tsv.gz\n",
            "TED2020-en-zh-train_pca.tsv.gz\n",
            "TED2020-en-en-train_pca.tsv.gz\n",
            "TED2020-en-ar-train_pca.tsv.gz\n",
            "TED2020-en-de-train_pca.tsv.gz\n",
            "TED2020-en-it-train_pca.tsv.gz\n",
            "---Saving results in parallel-sentences/TED2020/df_TED_ar-cs-de-en-es-fr-it-ja-nl-pt-ru-zh.pkl ---\n",
            "--- Removing downloaded files ---\n",
            "--- Finish ---\n"
          ],
          "name": "stdout"
        }
      ]
    },
    {
      "cell_type": "code",
      "metadata": {
        "colab": {
          "base_uri": "https://localhost:8080/",
          "height": 488
        },
        "id": "YF3p4yBTjiss",
        "outputId": "4fff5e04-2a25-4033-b351-f37110edead0"
      },
      "source": [
        "df_TED_langs = pd.read_pickle(\"./parallel-sentences/TED2020/df_TED_ar-cs-de-en-es-fr-it-ja-nl-pt-ru-zh.pkl\")\r\n",
        "df_TED_langs.groupby(\"lang\").describe()"
      ],
      "execution_count": 9,
      "outputs": [
        {
          "output_type": "execute_result",
          "data": {
            "text/html": [
              "<div>\n",
              "<style scoped>\n",
              "    .dataframe tbody tr th:only-of-type {\n",
              "        vertical-align: middle;\n",
              "    }\n",
              "\n",
              "    .dataframe tbody tr th {\n",
              "        vertical-align: top;\n",
              "    }\n",
              "\n",
              "    .dataframe thead tr th {\n",
              "        text-align: left;\n",
              "    }\n",
              "\n",
              "    .dataframe thead tr:last-of-type th {\n",
              "        text-align: right;\n",
              "    }\n",
              "</style>\n",
              "<table border=\"1\" class=\"dataframe\">\n",
              "  <thead>\n",
              "    <tr>\n",
              "      <th></th>\n",
              "      <th colspan=\"4\" halign=\"left\">from</th>\n",
              "      <th colspan=\"4\" halign=\"left\">sentences</th>\n",
              "    </tr>\n",
              "    <tr>\n",
              "      <th></th>\n",
              "      <th>count</th>\n",
              "      <th>unique</th>\n",
              "      <th>top</th>\n",
              "      <th>freq</th>\n",
              "      <th>count</th>\n",
              "      <th>unique</th>\n",
              "      <th>top</th>\n",
              "      <th>freq</th>\n",
              "    </tr>\n",
              "    <tr>\n",
              "      <th>lang</th>\n",
              "      <th></th>\n",
              "      <th></th>\n",
              "      <th></th>\n",
              "      <th></th>\n",
              "      <th></th>\n",
              "      <th></th>\n",
              "      <th></th>\n",
              "      <th></th>\n",
              "    </tr>\n",
              "  </thead>\n",
              "  <tbody>\n",
              "    <tr>\n",
              "      <th>ar</th>\n",
              "      <td>250</td>\n",
              "      <td>1</td>\n",
              "      <td>TED2020</td>\n",
              "      <td>250</td>\n",
              "      <td>250</td>\n",
              "      <td>250</td>\n",
              "      <td>ليس هناك أدوات تكنولوجية هنا ؛ مجرد علوم الأحي...</td>\n",
              "      <td>1</td>\n",
              "    </tr>\n",
              "    <tr>\n",
              "      <th>cs</th>\n",
              "      <td>250</td>\n",
              "      <td>1</td>\n",
              "      <td>TED2020</td>\n",
              "      <td>250</td>\n",
              "      <td>250</td>\n",
              "      <td>250</td>\n",
              "      <td>Za prvé, toto je očekávaný podíl USA na globál...</td>\n",
              "      <td>1</td>\n",
              "    </tr>\n",
              "    <tr>\n",
              "      <th>de</th>\n",
              "      <td>250</td>\n",
              "      <td>1</td>\n",
              "      <td>TED2020</td>\n",
              "      <td>250</td>\n",
              "      <td>250</td>\n",
              "      <td>250</td>\n",
              "      <td>Zu Beginn der Rede erzählte ich, was mir am Vo...</td>\n",
              "      <td>1</td>\n",
              "    </tr>\n",
              "    <tr>\n",
              "      <th>en</th>\n",
              "      <td>250</td>\n",
              "      <td>1</td>\n",
              "      <td>TED2020</td>\n",
              "      <td>250</td>\n",
              "      <td>250</td>\n",
              "      <td>250</td>\n",
              "      <td>Help with the mass persuasion campaign that wi...</td>\n",
              "      <td>1</td>\n",
              "    </tr>\n",
              "    <tr>\n",
              "      <th>es</th>\n",
              "      <td>250</td>\n",
              "      <td>1</td>\n",
              "      <td>TED2020</td>\n",
              "      <td>250</td>\n",
              "      <td>250</td>\n",
              "      <td>250</td>\n",
              "      <td>Si podíamos usar nuestro control remoto óptico...</td>\n",
              "      <td>1</td>\n",
              "    </tr>\n",
              "    <tr>\n",
              "      <th>fr</th>\n",
              "      <td>250</td>\n",
              "      <td>1</td>\n",
              "      <td>TED2020</td>\n",
              "      <td>250</td>\n",
              "      <td>250</td>\n",
              "      <td>250</td>\n",
              "      <td>nous devons réarranger le tracé.</td>\n",
              "      <td>1</td>\n",
              "    </tr>\n",
              "    <tr>\n",
              "      <th>it</th>\n",
              "      <td>250</td>\n",
              "      <td>1</td>\n",
              "      <td>TED2020</td>\n",
              "      <td>250</td>\n",
              "      <td>250</td>\n",
              "      <td>250</td>\n",
              "      <td>Prima di tutto, questo é dove si prevede che a...</td>\n",
              "      <td>1</td>\n",
              "    </tr>\n",
              "    <tr>\n",
              "      <th>ja</th>\n",
              "      <td>250</td>\n",
              "      <td>1</td>\n",
              "      <td>TED2020</td>\n",
              "      <td>250</td>\n",
              "      <td>250</td>\n",
              "      <td>250</td>\n",
              "      <td>例を２つ紹介します ２系統のハエを比べています いずれも 光で制御できる細胞が およそ１００...</td>\n",
              "      <td>1</td>\n",
              "    </tr>\n",
              "    <tr>\n",
              "      <th>nl</th>\n",
              "      <td>250</td>\n",
              "      <td>1</td>\n",
              "      <td>TED2020</td>\n",
              "      <td>250</td>\n",
              "      <td>250</td>\n",
              "      <td>250</td>\n",
              "      <td>Als de Criticus bij de optisch-geactiveerde ce...</td>\n",
              "      <td>1</td>\n",
              "    </tr>\n",
              "    <tr>\n",
              "      <th>pt</th>\n",
              "      <td>250</td>\n",
              "      <td>1</td>\n",
              "      <td>TED2020</td>\n",
              "      <td>250</td>\n",
              "      <td>250</td>\n",
              "      <td>250</td>\n",
              "      <td>E coloco novas imagens porque assim aprendo ma...</td>\n",
              "      <td>1</td>\n",
              "    </tr>\n",
              "    <tr>\n",
              "      <th>ru</th>\n",
              "      <td>250</td>\n",
              "      <td>1</td>\n",
              "      <td>TED2020</td>\n",
              "      <td>250</td>\n",
              "      <td>250</td>\n",
              "      <td>250</td>\n",
              "      <td>Мы подумали, что если-бы мы могли использовать...</td>\n",
              "      <td>1</td>\n",
              "    </tr>\n",
              "    <tr>\n",
              "      <th>zh</th>\n",
              "      <td>250</td>\n",
              "      <td>1</td>\n",
              "      <td>TED2020</td>\n",
              "      <td>250</td>\n",
              "      <td>250</td>\n",
              "      <td>250</td>\n",
              "      <td>佢地以為咁樣喺代表 佢哋喺難以置信嘅繁忙同有效率， 但事實上佢哋唔喺咁， 因為我哋依家， 有...</td>\n",
              "      <td>1</td>\n",
              "    </tr>\n",
              "  </tbody>\n",
              "</table>\n",
              "</div>"
            ],
            "text/plain": [
              "      from         ...                                          sentences     \n",
              "     count unique  ...                                                top freq\n",
              "lang               ...                                                        \n",
              "ar     250      1  ...  ليس هناك أدوات تكنولوجية هنا ؛ مجرد علوم الأحي...    1\n",
              "cs     250      1  ...  Za prvé, toto je očekávaný podíl USA na globál...    1\n",
              "de     250      1  ...  Zu Beginn der Rede erzählte ich, was mir am Vo...    1\n",
              "en     250      1  ...  Help with the mass persuasion campaign that wi...    1\n",
              "es     250      1  ...  Si podíamos usar nuestro control remoto óptico...    1\n",
              "fr     250      1  ...                   nous devons réarranger le tracé.    1\n",
              "it     250      1  ...  Prima di tutto, questo é dove si prevede che a...    1\n",
              "ja     250      1  ...  例を２つ紹介します ２系統のハエを比べています いずれも 光で制御できる細胞が およそ１００...    1\n",
              "nl     250      1  ...  Als de Criticus bij de optisch-geactiveerde ce...    1\n",
              "pt     250      1  ...  E coloco novas imagens porque assim aprendo ma...    1\n",
              "ru     250      1  ...  Мы подумали, что если-бы мы могли использовать...    1\n",
              "zh     250      1  ...  佢地以為咁樣喺代表 佢哋喺難以置信嘅繁忙同有效率， 但事實上佢哋唔喺咁， 因為我哋依家， 有...    1\n",
              "\n",
              "[12 rows x 8 columns]"
            ]
          },
          "metadata": {
            "tags": []
          },
          "execution_count": 9
        }
      ]
    },
    {
      "cell_type": "markdown",
      "metadata": {
        "id": "qN4_2ttfJFz8"
      },
      "source": [
        "## Check TED2020 is parallel data. \r\n",
        "\r\n",
        "The same sentence in different languages should theorically have the same vectorization. However, there might be some variability among languages. Including this variability in the data to fit the PCA is highly recommended. Parallel data from TED2020 is used for this purpose. "
      ]
    },
    {
      "cell_type": "code",
      "metadata": {
        "colab": {
          "base_uri": "https://localhost:8080/",
          "height": 206
        },
        "id": "zGooV5UmI7Wy",
        "outputId": "064ad8d4-6d02-465c-e90e-8d2a08c99166"
      },
      "source": [
        "df_TED_langs[df_TED_langs[\"lang\"] == \"pt\"].head()"
      ],
      "execution_count": 10,
      "outputs": [
        {
          "output_type": "execute_result",
          "data": {
            "text/html": [
              "<div>\n",
              "<style scoped>\n",
              "    .dataframe tbody tr th:only-of-type {\n",
              "        vertical-align: middle;\n",
              "    }\n",
              "\n",
              "    .dataframe tbody tr th {\n",
              "        vertical-align: top;\n",
              "    }\n",
              "\n",
              "    .dataframe thead th {\n",
              "        text-align: right;\n",
              "    }\n",
              "</style>\n",
              "<table border=\"1\" class=\"dataframe\">\n",
              "  <thead>\n",
              "    <tr style=\"text-align: right;\">\n",
              "      <th></th>\n",
              "      <th>from</th>\n",
              "      <th>lang</th>\n",
              "      <th>sentences</th>\n",
              "    </tr>\n",
              "  </thead>\n",
              "  <tbody>\n",
              "    <tr>\n",
              "      <th>1250</th>\n",
              "      <td>TED2020</td>\n",
              "      <td>pt</td>\n",
              "      <td>Muito obrigado, Chris.</td>\n",
              "    </tr>\n",
              "    <tr>\n",
              "      <th>1251</th>\n",
              "      <td>TED2020</td>\n",
              "      <td>pt</td>\n",
              "      <td>É realmente uma grande honra ter a oportunidad...</td>\n",
              "    </tr>\n",
              "    <tr>\n",
              "      <th>1252</th>\n",
              "      <td>TED2020</td>\n",
              "      <td>pt</td>\n",
              "      <td>Fiquei muito impressionado com esta conferênci...</td>\n",
              "    </tr>\n",
              "    <tr>\n",
              "      <th>1253</th>\n",
              "      <td>TED2020</td>\n",
              "      <td>pt</td>\n",
              "      <td>Digo-o sinceramente, em parte, porque... preci...</td>\n",
              "    </tr>\n",
              "    <tr>\n",
              "      <th>1254</th>\n",
              "      <td>TED2020</td>\n",
              "      <td>pt</td>\n",
              "      <td>(Risos) Coloquem-se no meu lugar!</td>\n",
              "    </tr>\n",
              "  </tbody>\n",
              "</table>\n",
              "</div>"
            ],
            "text/plain": [
              "         from lang                                          sentences\n",
              "1250  TED2020   pt                             Muito obrigado, Chris.\n",
              "1251  TED2020   pt  É realmente uma grande honra ter a oportunidad...\n",
              "1252  TED2020   pt  Fiquei muito impressionado com esta conferênci...\n",
              "1253  TED2020   pt  Digo-o sinceramente, em parte, porque... preci...\n",
              "1254  TED2020   pt                  (Risos) Coloquem-se no meu lugar!"
            ]
          },
          "metadata": {
            "tags": []
          },
          "execution_count": 10
        }
      ]
    },
    {
      "cell_type": "code",
      "metadata": {
        "colab": {
          "base_uri": "https://localhost:8080/",
          "height": 206
        },
        "id": "C4ifDrwxJBtU",
        "outputId": "c62cd95c-0d59-46b8-bdbe-64dd6d6deb44"
      },
      "source": [
        "df_TED_langs[df_TED_langs[\"lang\"] == \"es\"].head()"
      ],
      "execution_count": 11,
      "outputs": [
        {
          "output_type": "execute_result",
          "data": {
            "text/html": [
              "<div>\n",
              "<style scoped>\n",
              "    .dataframe tbody tr th:only-of-type {\n",
              "        vertical-align: middle;\n",
              "    }\n",
              "\n",
              "    .dataframe tbody tr th {\n",
              "        vertical-align: top;\n",
              "    }\n",
              "\n",
              "    .dataframe thead th {\n",
              "        text-align: right;\n",
              "    }\n",
              "</style>\n",
              "<table border=\"1\" class=\"dataframe\">\n",
              "  <thead>\n",
              "    <tr style=\"text-align: right;\">\n",
              "      <th></th>\n",
              "      <th>from</th>\n",
              "      <th>lang</th>\n",
              "      <th>sentences</th>\n",
              "    </tr>\n",
              "  </thead>\n",
              "  <tbody>\n",
              "    <tr>\n",
              "      <th>1000</th>\n",
              "      <td>TED2020</td>\n",
              "      <td>es</td>\n",
              "      <td>Muchas gracias Chris.</td>\n",
              "    </tr>\n",
              "    <tr>\n",
              "      <th>1001</th>\n",
              "      <td>TED2020</td>\n",
              "      <td>es</td>\n",
              "      <td>Y es en verdad un gran honor tener la oportuni...</td>\n",
              "    </tr>\n",
              "    <tr>\n",
              "      <th>1002</th>\n",
              "      <td>TED2020</td>\n",
              "      <td>es</td>\n",
              "      <td>He quedado conmovido por esta conferencia, y d...</td>\n",
              "    </tr>\n",
              "    <tr>\n",
              "      <th>1003</th>\n",
              "      <td>TED2020</td>\n",
              "      <td>es</td>\n",
              "      <td>Y digo eso sinceramente, en parte porque -- (S...</td>\n",
              "    </tr>\n",
              "    <tr>\n",
              "      <th>1004</th>\n",
              "      <td>TED2020</td>\n",
              "      <td>es</td>\n",
              "      <td>(Risas) ¡Pónganse en mi posición!</td>\n",
              "    </tr>\n",
              "  </tbody>\n",
              "</table>\n",
              "</div>"
            ],
            "text/plain": [
              "         from lang                                          sentences\n",
              "1000  TED2020   es                              Muchas gracias Chris.\n",
              "1001  TED2020   es  Y es en verdad un gran honor tener la oportuni...\n",
              "1002  TED2020   es  He quedado conmovido por esta conferencia, y d...\n",
              "1003  TED2020   es  Y digo eso sinceramente, en parte porque -- (S...\n",
              "1004  TED2020   es                  (Risas) ¡Pónganse en mi posición!"
            ]
          },
          "metadata": {
            "tags": []
          },
          "execution_count": 11
        }
      ]
    },
    {
      "cell_type": "markdown",
      "metadata": {
        "id": "VOffEVKw0xqB"
      },
      "source": [
        "# Sentences from Wiki Matrix\n"
      ]
    },
    {
      "cell_type": "code",
      "metadata": {
        "colab": {
          "base_uri": "https://localhost:8080/"
        },
        "id": "XJhEkCILE6-d",
        "outputId": "a1ffa03e-caff-4bb1-e3b9-55f5eeded4b5"
      },
      "source": [
        "!python ./scripts/get_wikimatrix_sentences.py --help"
      ],
      "execution_count": 12,
      "outputs": [
        {
          "output_type": "stream",
          "text": [
            "2020-12-16 12:20:06.275426: I tensorflow/stream_executor/platform/default/dso_loader.cc:48] Successfully opened dynamic library libcudart.so.10.1\n",
            "\n",
            "This script automatically downloads WikiMatrix corpus for the languages selected.   \n",
            "The WikiMatrix corpus is a crawl of mined sentences from Wikipedia in \n",
            "different languages. With this script the user can select the amount of \n",
            "sentences and the languages desired. We only used pairs with scores\n",
            "above 1.075, as pairs below this threshold were often of bad quality.\n",
            "       \n",
            "          \n",
            "Usage:\n",
            "\n",
            "    python get_wikimatrix_sentences.py [options] \n",
            "\n",
            "Options:\n",
            "    -n, --n_sentences            Number of sentences to collect\n",
            "    -l, --languages              Languages ​​from which we extract sentences\n",
            "    -h, --help                   Help documentation\n",
            "\n",
            "\n",
            "Example. Extract Wikimatrix arabic and italian sentences:\n",
            "    python get_wikimatrix_sentences.py --n_sentences 500 --languages ar,it\n"
          ],
          "name": "stdout"
        }
      ]
    },
    {
      "cell_type": "code",
      "metadata": {
        "id": "3zHOIfk12_Q3",
        "colab": {
          "base_uri": "https://localhost:8080/"
        },
        "outputId": "66d120a3-9030-47db-c84c-19d8748112ab"
      },
      "source": [
        "!python ./scripts/get_wikimatrix_sentences.py --n_sentences 500 --languages pl,tr,hi"
      ],
      "execution_count": 13,
      "outputs": [
        {
          "output_type": "stream",
          "text": [
            "2020-12-16 12:20:10.377882: I tensorflow/stream_executor/platform/default/dso_loader.cc:48] Successfully opened dynamic library libcudart.so.10.1\n",
            "Recovering WikiMatrix data for for languages: pl tr hi\n",
            "Download https://dl.fbaipublicfiles.com/laser/WikiMatrix/v1/WikiMatrix.en-tr.tsv.gz\n",
            "100% 156M/156M [00:06<00:00, 22.4MB/s]\n",
            "Write 500 PCA train sentences parallel-sentences/Wikimatrix/WikiMatrix-en-tr-train_pca.tsv.gz\n",
            "Download https://dl.fbaipublicfiles.com/laser/WikiMatrix/v1/WikiMatrix.en-pl.tsv.gz\n",
            "100% 312M/312M [00:14<00:00, 22.0MB/s]\n",
            "Write 500 PCA train sentences parallel-sentences/Wikimatrix/WikiMatrix-en-pl-train_pca.tsv.gz\n",
            "Download https://dl.fbaipublicfiles.com/laser/WikiMatrix/v1/WikiMatrix.en-hi.tsv.gz\n",
            "100% 93.5M/93.5M [00:04<00:00, 20.8MB/s]\n",
            "Write 500 PCA train sentences parallel-sentences/Wikimatrix/WikiMatrix-en-hi-train_pca.tsv.gz\n",
            "Creating data frame for Wikimatrix languages: pl-tr-hi\n",
            "WikiMatrix-en-tr-train_pca.tsv.gz\n",
            "WikiMatrix-en-pl-train_pca.tsv.gz\n",
            "WikiMatrix-en-hi-train_pca.tsv.gz\n",
            "---Saving results in parallel-sentences/Wikimatrix/df_wikimatrix_pl-tr-hi.pkl ---\n",
            "--- Removing downloaded files ---\n",
            "--- Finish ---\n"
          ],
          "name": "stdout"
        }
      ]
    },
    {
      "cell_type": "code",
      "metadata": {
        "colab": {
          "base_uri": "https://localhost:8080/",
          "height": 206
        },
        "id": "lzp5QuPKFGmV",
        "outputId": "bc1d7e6f-39cb-45a0-fa47-6f2d352c71a0"
      },
      "source": [
        "df_Wiki_pl_tr_hi = pd.read_pickle(\"./parallel-sentences/Wikimatrix/df_wikimatrix_pl-tr-hi.pkl\")\r\n",
        "df_Wiki_pl_tr_hi.groupby(\"lang\").describe()"
      ],
      "execution_count": 14,
      "outputs": [
        {
          "output_type": "execute_result",
          "data": {
            "text/html": [
              "<div>\n",
              "<style scoped>\n",
              "    .dataframe tbody tr th:only-of-type {\n",
              "        vertical-align: middle;\n",
              "    }\n",
              "\n",
              "    .dataframe tbody tr th {\n",
              "        vertical-align: top;\n",
              "    }\n",
              "\n",
              "    .dataframe thead tr th {\n",
              "        text-align: left;\n",
              "    }\n",
              "\n",
              "    .dataframe thead tr:last-of-type th {\n",
              "        text-align: right;\n",
              "    }\n",
              "</style>\n",
              "<table border=\"1\" class=\"dataframe\">\n",
              "  <thead>\n",
              "    <tr>\n",
              "      <th></th>\n",
              "      <th colspan=\"4\" halign=\"left\">from</th>\n",
              "      <th colspan=\"4\" halign=\"left\">sentences</th>\n",
              "    </tr>\n",
              "    <tr>\n",
              "      <th></th>\n",
              "      <th>count</th>\n",
              "      <th>unique</th>\n",
              "      <th>top</th>\n",
              "      <th>freq</th>\n",
              "      <th>count</th>\n",
              "      <th>unique</th>\n",
              "      <th>top</th>\n",
              "      <th>freq</th>\n",
              "    </tr>\n",
              "    <tr>\n",
              "      <th>lang</th>\n",
              "      <th></th>\n",
              "      <th></th>\n",
              "      <th></th>\n",
              "      <th></th>\n",
              "      <th></th>\n",
              "      <th></th>\n",
              "      <th></th>\n",
              "      <th></th>\n",
              "    </tr>\n",
              "  </thead>\n",
              "  <tbody>\n",
              "    <tr>\n",
              "      <th>hi</th>\n",
              "      <td>500</td>\n",
              "      <td>1</td>\n",
              "      <td>WikiMatrix</td>\n",
              "      <td>500</td>\n",
              "      <td>500</td>\n",
              "      <td>500</td>\n",
              "      <td>यह PAL-M (ब्राजील में उपयोग होने वाला) के बहुत...</td>\n",
              "      <td>1</td>\n",
              "    </tr>\n",
              "    <tr>\n",
              "      <th>pl</th>\n",
              "      <td>500</td>\n",
              "      <td>1</td>\n",
              "      <td>WikiMatrix</td>\n",
              "      <td>500</td>\n",
              "      <td>500</td>\n",
              "      <td>500</td>\n",
              "      <td>Mówimy im dzisiaj: chcemy demokracji od zaraz!</td>\n",
              "      <td>1</td>\n",
              "    </tr>\n",
              "    <tr>\n",
              "      <th>tr</th>\n",
              "      <td>500</td>\n",
              "      <td>1</td>\n",
              "      <td>WikiMatrix</td>\n",
              "      <td>500</td>\n",
              "      <td>500</td>\n",
              "      <td>500</td>\n",
              "      <td>\"İngiltere Savour Finest Tour\".</td>\n",
              "      <td>1</td>\n",
              "    </tr>\n",
              "  </tbody>\n",
              "</table>\n",
              "</div>"
            ],
            "text/plain": [
              "      from         ...                                          sentences     \n",
              "     count unique  ...                                                top freq\n",
              "lang               ...                                                        \n",
              "hi     500      1  ...  यह PAL-M (ब्राजील में उपयोग होने वाला) के बहुत...    1\n",
              "pl     500      1  ...     Mówimy im dzisiaj: chcemy demokracji od zaraz!    1\n",
              "tr     500      1  ...                    \"İngiltere Savour Finest Tour\".    1\n",
              "\n",
              "[3 rows x 8 columns]"
            ]
          },
          "metadata": {
            "tags": []
          },
          "execution_count": 14
        }
      ]
    },
    {
      "cell_type": "code",
      "metadata": {
        "id": "OGZsWqZpV1s0",
        "colab": {
          "base_uri": "https://localhost:8080/"
        },
        "outputId": "ffc016c3-c30f-440a-ff86-8329b96bbf30"
      },
      "source": [
        "!python ./scripts/get_wikimatrix_sentences.py --n_sentences 250 --languages ar,cs,de,en,es,fr,it,ja,nl,pt,ru,zh"
      ],
      "execution_count": 15,
      "outputs": [
        {
          "output_type": "stream",
          "text": [
            "2020-12-16 12:20:42.041737: I tensorflow/stream_executor/platform/default/dso_loader.cc:48] Successfully opened dynamic library libcudart.so.10.1\n",
            "Recovering WikiMatrix data for for languages: ar cs de en es fr it ja nl pt ru zh\n",
            "Download https://dl.fbaipublicfiles.com/laser/WikiMatrix/v1/WikiMatrix.ar-en.tsv.gz\n",
            "100% 273M/273M [00:11<00:00, 23.1MB/s]\n",
            "Write 250 PCA train sentences parallel-sentences/Wikimatrix/WikiMatrix-en-ar-train_pca.tsv.gz\n",
            "Download https://dl.fbaipublicfiles.com/laser/WikiMatrix/v1/WikiMatrix.en-nl.tsv.gz\n",
            "100% 327M/327M [00:23<00:00, 13.9MB/s]\n",
            "Write 250 PCA train sentences parallel-sentences/Wikimatrix/WikiMatrix-en-nl-train_pca.tsv.gz\n",
            "Download https://dl.fbaipublicfiles.com/laser/WikiMatrix/v1/WikiMatrix.en-ru.tsv.gz\n",
            "100% 658M/658M [00:27<00:00, 23.6MB/s]\n",
            "Write 250 PCA train sentences parallel-sentences/Wikimatrix/WikiMatrix-en-ru-train_pca.tsv.gz\n",
            "Download https://dl.fbaipublicfiles.com/laser/WikiMatrix/v1/WikiMatrix.en-fr.tsv.gz\n",
            "100% 755M/755M [00:30<00:00, 24.6MB/s]\n",
            "Write 250 PCA train sentences parallel-sentences/Wikimatrix/WikiMatrix-en-fr-train_pca.tsv.gz\n",
            "Download https://dl.fbaipublicfiles.com/laser/WikiMatrix/v1/WikiMatrix.de-en.tsv.gz\n",
            "100% 650M/650M [00:26<00:00, 24.4MB/s]\n",
            "Write 250 PCA train sentences parallel-sentences/Wikimatrix/WikiMatrix-en-de-train_pca.tsv.gz\n",
            "Download https://dl.fbaipublicfiles.com/laser/WikiMatrix/v1/WikiMatrix.en-ja.tsv.gz\n",
            "100% 441M/441M [00:18<00:00, 23.9MB/s]\n",
            "Write 250 PCA train sentences parallel-sentences/Wikimatrix/WikiMatrix-en-ja-train_pca.tsv.gz\n",
            "Download https://dl.fbaipublicfiles.com/laser/WikiMatrix/v1/WikiMatrix.en-zh.tsv.gz\n",
            "100% 340M/340M [00:14<00:00, 23.7MB/s]\n",
            "Write 250 PCA train sentences parallel-sentences/Wikimatrix/WikiMatrix-en-zh-train_pca.tsv.gz\n",
            "Download https://dl.fbaipublicfiles.com/laser/WikiMatrix/v1/WikiMatrix.cs-en.tsv.gz\n",
            "100% 220M/220M [00:09<00:00, 22.9MB/s]\n",
            "Write 250 PCA train sentences parallel-sentences/Wikimatrix/WikiMatrix-en-cs-train_pca.tsv.gz\n",
            "Download https://dl.fbaipublicfiles.com/laser/WikiMatrix/v1/WikiMatrix.en-pt.tsv.gz\n",
            "100% 527M/527M [00:22<00:00, 23.8MB/s]\n",
            "Write 250 PCA train sentences parallel-sentences/Wikimatrix/WikiMatrix-en-pt-train_pca.tsv.gz\n",
            "Download https://dl.fbaipublicfiles.com/laser/WikiMatrix/v1/WikiMatrix.en-es.tsv.gz\n",
            "100% 757M/757M [00:31<00:00, 23.9MB/s]\n",
            "Write 250 PCA train sentences parallel-sentences/Wikimatrix/WikiMatrix-en-es-train_pca.tsv.gz\n",
            "Download https://dl.fbaipublicfiles.com/laser/WikiMatrix/v1/WikiMatrix.en-it.tsv.gz\n",
            "100% 566M/566M [00:23<00:00, 24.1MB/s]\n",
            "Write 250 PCA train sentences parallel-sentences/Wikimatrix/WikiMatrix-en-it-train_pca.tsv.gz\n",
            "Download https://dl.fbaipublicfiles.com/laser/WikiMatrix/v1/WikiMatrix.en-en.tsv.gz\n",
            "Exception when trying to download https://dl.fbaipublicfiles.com/laser/WikiMatrix/v1/WikiMatrix.en-en.tsv.gz. Response 403\n",
            "Was not able to download https://dl.fbaipublicfiles.com/laser/WikiMatrix/v1/WikiMatrix.en-en.tsv.gz\n",
            "Creating data frame for Wikimatrix languages: ar-cs-de-en-es-fr-it-ja-nl-pt-ru-zh\n",
            "WikiMatrix-en-nl-train_pca.tsv.gz\n",
            "WikiMatrix-en-ja-train_pca.tsv.gz\n",
            "WikiMatrix-en-it-train_pca.tsv.gz\n",
            "WikiMatrix-en-ru-train_pca.tsv.gz\n",
            "WikiMatrix-en-zh-train_pca.tsv.gz\n",
            "WikiMatrix-en-fr-train_pca.tsv.gz\n",
            "WikiMatrix-en-de-train_pca.tsv.gz\n",
            "WikiMatrix-en-ar-train_pca.tsv.gz\n",
            "WikiMatrix-en-cs-train_pca.tsv.gz\n",
            "WikiMatrix-en-pt-train_pca.tsv.gz\n",
            "WikiMatrix-en-es-train_pca.tsv.gz\n",
            "---Saving results in parallel-sentences/Wikimatrix/df_wikimatrix_ar-cs-de-en-es-fr-it-ja-nl-pt-ru-zh.pkl ---\n",
            "--- Removing downloaded files ---\n",
            "--- Finish ---\n"
          ],
          "name": "stdout"
        }
      ]
    },
    {
      "cell_type": "code",
      "metadata": {
        "colab": {
          "base_uri": "https://localhost:8080/",
          "height": 488
        },
        "id": "HoXjEAzGGtD-",
        "outputId": "39a564e5-9391-49f7-8d75-2b987d68b416"
      },
      "source": [
        "df_Wiki_langs = pd.read_pickle(\"./parallel-sentences/Wikimatrix/df_wikimatrix_ar-cs-de-en-es-fr-it-ja-nl-pt-ru-zh.pkl\")\r\n",
        "df_Wiki_langs.groupby(\"lang\").describe()"
      ],
      "execution_count": 16,
      "outputs": [
        {
          "output_type": "execute_result",
          "data": {
            "text/html": [
              "<div>\n",
              "<style scoped>\n",
              "    .dataframe tbody tr th:only-of-type {\n",
              "        vertical-align: middle;\n",
              "    }\n",
              "\n",
              "    .dataframe tbody tr th {\n",
              "        vertical-align: top;\n",
              "    }\n",
              "\n",
              "    .dataframe thead tr th {\n",
              "        text-align: left;\n",
              "    }\n",
              "\n",
              "    .dataframe thead tr:last-of-type th {\n",
              "        text-align: right;\n",
              "    }\n",
              "</style>\n",
              "<table border=\"1\" class=\"dataframe\">\n",
              "  <thead>\n",
              "    <tr>\n",
              "      <th></th>\n",
              "      <th colspan=\"4\" halign=\"left\">from</th>\n",
              "      <th colspan=\"4\" halign=\"left\">sentences</th>\n",
              "    </tr>\n",
              "    <tr>\n",
              "      <th></th>\n",
              "      <th>count</th>\n",
              "      <th>unique</th>\n",
              "      <th>top</th>\n",
              "      <th>freq</th>\n",
              "      <th>count</th>\n",
              "      <th>unique</th>\n",
              "      <th>top</th>\n",
              "      <th>freq</th>\n",
              "    </tr>\n",
              "    <tr>\n",
              "      <th>lang</th>\n",
              "      <th></th>\n",
              "      <th></th>\n",
              "      <th></th>\n",
              "      <th></th>\n",
              "      <th></th>\n",
              "      <th></th>\n",
              "      <th></th>\n",
              "      <th></th>\n",
              "    </tr>\n",
              "  </thead>\n",
              "  <tbody>\n",
              "    <tr>\n",
              "      <th>ar</th>\n",
              "      <td>250</td>\n",
              "      <td>1</td>\n",
              "      <td>WikiMatrix</td>\n",
              "      <td>250</td>\n",
              "      <td>250</td>\n",
              "      <td>250</td>\n",
              "      <td>كما أنه لم يستخدم في نهاية الرقم.</td>\n",
              "      <td>1</td>\n",
              "    </tr>\n",
              "    <tr>\n",
              "      <th>cs</th>\n",
              "      <td>250</td>\n",
              "      <td>1</td>\n",
              "      <td>WikiMatrix</td>\n",
              "      <td>250</td>\n",
              "      <td>250</td>\n",
              "      <td>250</td>\n",
              "      <td>V roce 2010 zavtipkovala: \"Teď pracuju s ženam...</td>\n",
              "      <td>1</td>\n",
              "    </tr>\n",
              "    <tr>\n",
              "      <th>de</th>\n",
              "      <td>250</td>\n",
              "      <td>1</td>\n",
              "      <td>WikiMatrix</td>\n",
              "      <td>250</td>\n",
              "      <td>250</td>\n",
              "      <td>250</td>\n",
              "      <td>Da ist dein Onkel Gilbert.</td>\n",
              "      <td>1</td>\n",
              "    </tr>\n",
              "    <tr>\n",
              "      <th>en</th>\n",
              "      <td>250</td>\n",
              "      <td>1</td>\n",
              "      <td>WikiMatrix</td>\n",
              "      <td>250</td>\n",
              "      <td>250</td>\n",
              "      <td>250</td>\n",
              "      <td>Tripoli, I prefer you to myself.</td>\n",
              "      <td>1</td>\n",
              "    </tr>\n",
              "    <tr>\n",
              "      <th>es</th>\n",
              "      <td>250</td>\n",
              "      <td>1</td>\n",
              "      <td>WikiMatrix</td>\n",
              "      <td>250</td>\n",
              "      <td>250</td>\n",
              "      <td>250</td>\n",
              "      <td>Era el momento de abrir el séptimo libro negro.</td>\n",
              "      <td>1</td>\n",
              "    </tr>\n",
              "    <tr>\n",
              "      <th>fr</th>\n",
              "      <td>250</td>\n",
              "      <td>1</td>\n",
              "      <td>WikiMatrix</td>\n",
              "      <td>250</td>\n",
              "      <td>250</td>\n",
              "      <td>250</td>\n",
              "      <td>La volonté de Dieu me demandait de pratiquer l...</td>\n",
              "      <td>1</td>\n",
              "    </tr>\n",
              "    <tr>\n",
              "      <th>it</th>\n",
              "      <td>250</td>\n",
              "      <td>1</td>\n",
              "      <td>WikiMatrix</td>\n",
              "      <td>250</td>\n",
              "      <td>250</td>\n",
              "      <td>250</td>\n",
              "      <td>In un primo tempo, tutto va come Oliver aveva ...</td>\n",
              "      <td>1</td>\n",
              "    </tr>\n",
              "    <tr>\n",
              "      <th>ja</th>\n",
              "      <td>250</td>\n",
              "      <td>1</td>\n",
              "      <td>WikiMatrix</td>\n",
              "      <td>250</td>\n",
              "      <td>250</td>\n",
              "      <td>250</td>\n",
              "      <td>主の「לאהבי」（愛人）であることに対する見返りが、主の「חסד」（慈悲）である。</td>\n",
              "      <td>1</td>\n",
              "    </tr>\n",
              "    <tr>\n",
              "      <th>nl</th>\n",
              "      <td>250</td>\n",
              "      <td>1</td>\n",
              "      <td>WikiMatrix</td>\n",
              "      <td>250</td>\n",
              "      <td>250</td>\n",
              "      <td>250</td>\n",
              "      <td>Geef terug wat je hebt gestolen\".</td>\n",
              "      <td>1</td>\n",
              "    </tr>\n",
              "    <tr>\n",
              "      <th>pt</th>\n",
              "      <td>250</td>\n",
              "      <td>1</td>\n",
              "      <td>WikiMatrix</td>\n",
              "      <td>250</td>\n",
              "      <td>250</td>\n",
              "      <td>250</td>\n",
              "      <td>Então, ele pode ter tantos anfitriões ao seu r...</td>\n",
              "      <td>1</td>\n",
              "    </tr>\n",
              "    <tr>\n",
              "      <th>ru</th>\n",
              "      <td>250</td>\n",
              "      <td>1</td>\n",
              "      <td>WikiMatrix</td>\n",
              "      <td>250</td>\n",
              "      <td>250</td>\n",
              "      <td>250</td>\n",
              "      <td>Canada's Cup Victory May End Up Half Empty (ан...</td>\n",
              "      <td>1</td>\n",
              "    </tr>\n",
              "    <tr>\n",
              "      <th>zh</th>\n",
              "      <td>250</td>\n",
              "      <td>1</td>\n",
              "      <td>WikiMatrix</td>\n",
              "      <td>250</td>\n",
              "      <td>250</td>\n",
              "      <td>250</td>\n",
              "      <td>“我从没想过要当一名政治家，但今天我作为一个市长在你们面前发言，”她说。</td>\n",
              "      <td>1</td>\n",
              "    </tr>\n",
              "  </tbody>\n",
              "</table>\n",
              "</div>"
            ],
            "text/plain": [
              "      from         ...                                          sentences     \n",
              "     count unique  ...                                                top freq\n",
              "lang               ...                                                        \n",
              "ar     250      1  ...                  كما أنه لم يستخدم في نهاية الرقم.    1\n",
              "cs     250      1  ...  V roce 2010 zavtipkovala: \"Teď pracuju s ženam...    1\n",
              "de     250      1  ...                         Da ist dein Onkel Gilbert.    1\n",
              "en     250      1  ...                   Tripoli, I prefer you to myself.    1\n",
              "es     250      1  ...    Era el momento de abrir el séptimo libro negro.    1\n",
              "fr     250      1  ...  La volonté de Dieu me demandait de pratiquer l...    1\n",
              "it     250      1  ...  In un primo tempo, tutto va come Oliver aveva ...    1\n",
              "ja     250      1  ...         主の「לאהבי」（愛人）であることに対する見返りが、主の「חסד」（慈悲）である。    1\n",
              "nl     250      1  ...                  Geef terug wat je hebt gestolen\".    1\n",
              "pt     250      1  ...  Então, ele pode ter tantos anfitriões ao seu r...    1\n",
              "ru     250      1  ...  Canada's Cup Victory May End Up Half Empty (ан...    1\n",
              "zh     250      1  ...               “我从没想过要当一名政治家，但今天我作为一个市长在你们面前发言，”她说。    1\n",
              "\n",
              "[12 rows x 8 columns]"
            ]
          },
          "metadata": {
            "tags": []
          },
          "execution_count": 16
        }
      ]
    },
    {
      "cell_type": "markdown",
      "metadata": {
        "id": "EMmPdPgyKjZA"
      },
      "source": [
        "## Check WikiMatrix data is not parallel data\r\n",
        "\r\n",
        "As mentioned above, parallel data is extremely useful for including the language embedding representation variability in the PCA. However, introducing a specific set of sentences for each language is also required. This strategy ensures that PCA includes the specific representation for each language.  "
      ]
    },
    {
      "cell_type": "code",
      "metadata": {
        "colab": {
          "base_uri": "https://localhost:8080/",
          "height": 206
        },
        "id": "zRl4BTFiIJIK",
        "outputId": "0b374f53-7f39-4fe2-cec9-3887d6c4a403"
      },
      "source": [
        "df_Wiki_langs[df_Wiki_langs[\"lang\"] == \"pt\"].head()"
      ],
      "execution_count": 17,
      "outputs": [
        {
          "output_type": "execute_result",
          "data": {
            "text/html": [
              "<div>\n",
              "<style scoped>\n",
              "    .dataframe tbody tr th:only-of-type {\n",
              "        vertical-align: middle;\n",
              "    }\n",
              "\n",
              "    .dataframe tbody tr th {\n",
              "        vertical-align: top;\n",
              "    }\n",
              "\n",
              "    .dataframe thead th {\n",
              "        text-align: right;\n",
              "    }\n",
              "</style>\n",
              "<table border=\"1\" class=\"dataframe\">\n",
              "  <thead>\n",
              "    <tr style=\"text-align: right;\">\n",
              "      <th></th>\n",
              "      <th>from</th>\n",
              "      <th>lang</th>\n",
              "      <th>sentences</th>\n",
              "    </tr>\n",
              "  </thead>\n",
              "  <tbody>\n",
              "    <tr>\n",
              "      <th>2500</th>\n",
              "      <td>WikiMatrix</td>\n",
              "      <td>pt</td>\n",
              "      <td>O rabino Johanan disse: \"Há montanhas, planíci...</td>\n",
              "    </tr>\n",
              "    <tr>\n",
              "      <th>2501</th>\n",
              "      <td>WikiMatrix</td>\n",
              "      <td>pt</td>\n",
              "      <td>O intercâmbio final (saída 27) fornece acesso ...</td>\n",
              "    </tr>\n",
              "    <tr>\n",
              "      <th>2502</th>\n",
              "      <td>WikiMatrix</td>\n",
              "      <td>pt</td>\n",
              "      <td>Ele é o Clemente, o Misericordioso!</td>\n",
              "    </tr>\n",
              "    <tr>\n",
              "      <th>2503</th>\n",
              "      <td>WikiMatrix</td>\n",
              "      <td>pt</td>\n",
              "      <td>Mas como você luta contra uma sombra do inferno?</td>\n",
              "    </tr>\n",
              "    <tr>\n",
              "      <th>2504</th>\n",
              "      <td>WikiMatrix</td>\n",
              "      <td>pt</td>\n",
              "      <td>Ele é um dos The Evil Dead.”</td>\n",
              "    </tr>\n",
              "  </tbody>\n",
              "</table>\n",
              "</div>"
            ],
            "text/plain": [
              "            from lang                                          sentences\n",
              "2500  WikiMatrix   pt  O rabino Johanan disse: \"Há montanhas, planíci...\n",
              "2501  WikiMatrix   pt  O intercâmbio final (saída 27) fornece acesso ...\n",
              "2502  WikiMatrix   pt                Ele é o Clemente, o Misericordioso!\n",
              "2503  WikiMatrix   pt   Mas como você luta contra uma sombra do inferno?\n",
              "2504  WikiMatrix   pt                       Ele é um dos The Evil Dead.”"
            ]
          },
          "metadata": {
            "tags": []
          },
          "execution_count": 17
        }
      ]
    },
    {
      "cell_type": "code",
      "metadata": {
        "colab": {
          "base_uri": "https://localhost:8080/",
          "height": 206
        },
        "id": "RMNbhvakH9Ej",
        "outputId": "2af25e86-f0b4-4dd1-f640-17387d95b599"
      },
      "source": [
        "df_Wiki_langs[df_Wiki_langs[\"lang\"] == \"es\"].head()"
      ],
      "execution_count": 18,
      "outputs": [
        {
          "output_type": "execute_result",
          "data": {
            "text/html": [
              "<div>\n",
              "<style scoped>\n",
              "    .dataframe tbody tr th:only-of-type {\n",
              "        vertical-align: middle;\n",
              "    }\n",
              "\n",
              "    .dataframe tbody tr th {\n",
              "        vertical-align: top;\n",
              "    }\n",
              "\n",
              "    .dataframe thead th {\n",
              "        text-align: right;\n",
              "    }\n",
              "</style>\n",
              "<table border=\"1\" class=\"dataframe\">\n",
              "  <thead>\n",
              "    <tr style=\"text-align: right;\">\n",
              "      <th></th>\n",
              "      <th>from</th>\n",
              "      <th>lang</th>\n",
              "      <th>sentences</th>\n",
              "    </tr>\n",
              "  </thead>\n",
              "  <tbody>\n",
              "    <tr>\n",
              "      <th>2750</th>\n",
              "      <td>WikiMatrix</td>\n",
              "      <td>es</td>\n",
              "      <td>Nunca combate al lado o en contra de Gordon Fr...</td>\n",
              "    </tr>\n",
              "    <tr>\n",
              "      <th>2751</th>\n",
              "      <td>WikiMatrix</td>\n",
              "      <td>es</td>\n",
              "      <td>Vivimos entre ellos y notamos raramente esa gr...</td>\n",
              "    </tr>\n",
              "    <tr>\n",
              "      <th>2752</th>\n",
              "      <td>WikiMatrix</td>\n",
              "      <td>es</td>\n",
              "      <td>Dijo: «Serán mis últimos cuatro años».</td>\n",
              "    </tr>\n",
              "    <tr>\n",
              "      <th>2753</th>\n",
              "      <td>WikiMatrix</td>\n",
              "      <td>es</td>\n",
              "      <td>Él es el Poderoso, el Misericordioso.</td>\n",
              "    </tr>\n",
              "    <tr>\n",
              "      <th>2754</th>\n",
              "      <td>WikiMatrix</td>\n",
              "      <td>es</td>\n",
              "      <td>Dijo: \"Me gusta ese contenido oscuro.</td>\n",
              "    </tr>\n",
              "  </tbody>\n",
              "</table>\n",
              "</div>"
            ],
            "text/plain": [
              "            from lang                                          sentences\n",
              "2750  WikiMatrix   es  Nunca combate al lado o en contra de Gordon Fr...\n",
              "2751  WikiMatrix   es  Vivimos entre ellos y notamos raramente esa gr...\n",
              "2752  WikiMatrix   es             Dijo: «Serán mis últimos cuatro años».\n",
              "2753  WikiMatrix   es              Él es el Poderoso, el Misericordioso.\n",
              "2754  WikiMatrix   es              Dijo: \"Me gusta ese contenido oscuro."
            ]
          },
          "metadata": {
            "tags": []
          },
          "execution_count": 18
        }
      ]
    },
    {
      "cell_type": "markdown",
      "metadata": {
        "id": "GToIcbRaLltf"
      },
      "source": [
        "# OPUS - News Commentary"
      ]
    },
    {
      "cell_type": "code",
      "metadata": {
        "id": "gWdsUCbT2BQt",
        "colab": {
          "base_uri": "https://localhost:8080/"
        },
        "outputId": "9764f765-4817-42fa-aed6-f816b67cc456"
      },
      "source": [
        "!pip install opustools"
      ],
      "execution_count": 19,
      "outputs": [
        {
          "output_type": "stream",
          "text": [
            "Collecting opustools\n",
            "\u001b[?25l  Downloading https://files.pythonhosted.org/packages/9d/5e/f2f0fdbb17a0d348ac1974965168c12157e9090df2a5348a4b35ae5d9b71/opustools-1.2.1-py3-none-any.whl (108kB)\n",
            "\r\u001b[K     |███                             | 10kB 15.9MB/s eta 0:00:01\r\u001b[K     |██████                          | 20kB 21.0MB/s eta 0:00:01\r\u001b[K     |█████████                       | 30kB 10.8MB/s eta 0:00:01\r\u001b[K     |████████████                    | 40kB 8.3MB/s eta 0:00:01\r\u001b[K     |███████████████▏                | 51kB 4.5MB/s eta 0:00:01\r\u001b[K     |██████████████████▏             | 61kB 5.0MB/s eta 0:00:01\r\u001b[K     |█████████████████████▏          | 71kB 5.0MB/s eta 0:00:01\r\u001b[K     |████████████████████████▏       | 81kB 5.6MB/s eta 0:00:01\r\u001b[K     |███████████████████████████▏    | 92kB 5.4MB/s eta 0:00:01\r\u001b[K     |██████████████████████████████▎ | 102kB 4.3MB/s eta 0:00:01\r\u001b[K     |████████████████████████████████| 112kB 4.3MB/s \n",
            "\u001b[?25hInstalling collected packages: opustools\n",
            "Successfully installed opustools-1.2.1\n"
          ],
          "name": "stdout"
        }
      ]
    },
    {
      "cell_type": "code",
      "metadata": {
        "colab": {
          "base_uri": "https://localhost:8080/"
        },
        "id": "bJbyIAHvOWsV",
        "outputId": "569115a6-6f31-4ad6-c241-eaf7080195b4"
      },
      "source": [
        "!python ./scripts/get_news_opus.py --help"
      ],
      "execution_count": 20,
      "outputs": [
        {
          "output_type": "stream",
          "text": [
            "       \n",
            "OPUS-NewsCommentary is one of the different dataset available in OPUS. It consists of\n",
            "a parallel corpus of News Commentaries provided by Workshop on Statistical Machine \n",
            "Translation (WMT). This type of data is the most related to fact-check news we \n",
            "hope to face up. \n",
            "\n",
            "\n",
            "Requirements: \n",
            "    This scripts requiers opustools. You can install it with the following command:\n",
            "        $ pip install opustools\n",
            "        \n",
            "Usage:\n",
            "\n",
            "    python get_news_opus.py [options] \n",
            "\n",
            "Options:\n",
            "    -n, --n_sentences            Number of sentences to collect\n",
            "    -l, --languages              Languages ​​from which we extract sentences\n",
            "    -h, --help                   Help documentation\n",
            "\n",
            "Example. Extract OPUS-NewsCommentary arabic and italian sentences:\n",
            "    !python get_news_opus.py --n_sentences 500 --languages ar,it\n"
          ],
          "name": "stdout"
        }
      ]
    },
    {
      "cell_type": "code",
      "metadata": {
        "id": "FypuKJ4LCsun",
        "colab": {
          "base_uri": "https://localhost:8080/"
        },
        "outputId": "22645567-47da-4ec1-e216-ca3b84b1c365"
      },
      "source": [
        "!python ./scripts/get_news_opus.py --n_sentences 500 --languages ar,cs,de,en,es,fr,it,ja,nl,pt,ru,zh"
      ],
      "execution_count": 21,
      "outputs": [
        {
          "output_type": "stream",
          "text": [
            "Recovering OPUS-NewsCommentary sentences for languages: ar cs de en es fr it ja nl pt ru zh\n",
            "Create: parallel-sentences/News/News-Commentary-en-ar.tsv.gz\n",
            "No alignment file \"/projappl/nlpl/data/OPUS/News-Commentary/latest/xml/ar-en.xml.gz\" or \"./opus/News-Commentary_latest_xml_ar-en.xml.gz\" found\n",
            "The following files are available for downloading:\n",
            "\n",
            "  37 MB https://object.pouta.csc.fi/OPUS-News-Commentary/v14/raw/ar.zip\n",
            "  40 MB https://object.pouta.csc.fi/OPUS-News-Commentary/v14/raw/en.zip\n",
            " 416 KB https://object.pouta.csc.fi/OPUS-News-Commentary/v14/xml/ar-en.xml.gz\n",
            "\n",
            "  78 MB Total size\n",
            "./opus/News-Commentary_latest_raw_ar.zip ... 100% of 37 MB\n",
            "./opus/News-Commentary_latest_raw_en.zip ... 100% of 40 MB\n",
            "./opus/News-Commentary_latest_xml_ar-en.xml.gz ... 100% of 416 KB\n",
            "Create: parallel-sentences/News/News-Commentary-en-cs.tsv.gz\n",
            "No alignment file \"/projappl/nlpl/data/OPUS/News-Commentary/latest/xml/cs-en.xml.gz\" or \"./opus/News-Commentary_latest_xml_cs-en.xml.gz\" found\n",
            "The following files are available for downloading:\n",
            "\n",
            "        ./opus/News-Commentary_latest_raw_en.zip already exists\n",
            "  22 MB https://object.pouta.csc.fi/OPUS-News-Commentary/v14/raw/cs.zip\n",
            " 272 KB https://object.pouta.csc.fi/OPUS-News-Commentary/v14/xml/cs-en.xml.gz\n",
            "\n",
            "  23 MB Total size\n",
            "./opus/News-Commentary_latest_raw_cs.zip ... 100% of 22 MB\n",
            "./opus/News-Commentary_latest_xml_cs-en.xml.gz ... 100% of 272 KB\n",
            "\n",
            "There is no item named 'cs/the-war-for-oil.xml.gz' in the archive '/projappl/nlpl/data/OPUS/News-Commentary/latest/raw/cs.zip'\n",
            "Continuing from next sentence file pair.\n",
            "Create: parallel-sentences/News/News-Commentary-en-de.tsv.gz\n",
            "No alignment file \"/projappl/nlpl/data/OPUS/News-Commentary/latest/xml/de-en.xml.gz\" or \"./opus/News-Commentary_latest_xml_de-en.xml.gz\" found\n",
            "The following files are available for downloading:\n",
            "\n",
            "        ./opus/News-Commentary_latest_raw_en.zip already exists\n",
            "  33 MB https://object.pouta.csc.fi/OPUS-News-Commentary/v14/raw/de.zip\n",
            " 396 KB https://object.pouta.csc.fi/OPUS-News-Commentary/v14/xml/de-en.xml.gz\n",
            "\n",
            "  33 MB Total size\n",
            "./opus/News-Commentary_latest_raw_de.zip ... 100% of 33 MB\n",
            "./opus/News-Commentary_latest_xml_de-en.xml.gz ... 100% of 396 KB\n",
            "\n",
            "There is no item named 'de/the-war-for-oil.xml.gz' in the archive '/projappl/nlpl/data/OPUS/News-Commentary/latest/raw/de.zip'\n",
            "Continuing from next sentence file pair.\n",
            "Create: parallel-sentences/News/News-Commentary-en-en.tsv.gz\n",
            "No alignment file \"/projappl/nlpl/data/OPUS/News-Commentary/latest/xml/en-en.xml.gz\" or \"./opus/News-Commentary_latest_xml_en-en.xml.gz\" found\n",
            "The following files are available for downloading:\n",
            "\n",
            "\n",
            "   0 KB Total size\n",
            "An error occured during the creation of parallel-sentences/News/News-Commentary-en-en.tsv.gz\n",
            "Create: parallel-sentences/News/News-Commentary-en-es.tsv.gz\n",
            "No alignment file \"/projappl/nlpl/data/OPUS/News-Commentary/latest/xml/en-es.xml.gz\" or \"./opus/News-Commentary_latest_xml_en-es.xml.gz\" found\n",
            "The following files are available for downloading:\n",
            "\n",
            "        ./opus/News-Commentary_latest_raw_en.zip already exists\n",
            "  35 MB https://object.pouta.csc.fi/OPUS-News-Commentary/v14/raw/es.zip\n",
            " 420 KB https://object.pouta.csc.fi/OPUS-News-Commentary/v14/xml/en-es.xml.gz\n",
            "\n",
            "  36 MB Total size\n",
            "./opus/News-Commentary_latest_raw_es.zip ... 100% of 35 MB\n",
            "./opus/News-Commentary_latest_xml_en-es.xml.gz ... 100% of 420 KB\n",
            "\n",
            "There is no item named 'en/can-we-increase-gross-national-happiness-.xml.gz' in the archive './opus/News-Commentary_latest_raw_en.zip'\n",
            "Continuing from next sentence file pair.\n",
            "\n",
            "There is no item named 'en/the-war-for-oil.xml.gz' in the archive './opus/News-Commentary_latest_raw_en.zip'\n",
            "Continuing from next sentence file pair.\n",
            "Create: parallel-sentences/News/News-Commentary-en-fr.tsv.gz\n",
            "No alignment file \"/projappl/nlpl/data/OPUS/News-Commentary/latest/xml/en-fr.xml.gz\" or \"./opus/News-Commentary_latest_xml_en-fr.xml.gz\" found\n",
            "The following files are available for downloading:\n",
            "\n",
            "        ./opus/News-Commentary_latest_raw_en.zip already exists\n",
            "  33 MB https://object.pouta.csc.fi/OPUS-News-Commentary/v14/raw/fr.zip\n",
            " 384 KB https://object.pouta.csc.fi/OPUS-News-Commentary/v14/xml/en-fr.xml.gz\n",
            "\n",
            "  33 MB Total size\n",
            "./opus/News-Commentary_latest_raw_fr.zip ... 100% of 33 MB\n",
            "./opus/News-Commentary_latest_xml_en-fr.xml.gz ... 100% of 384 KB\n",
            "\n",
            "There is no item named 'en/kidneys-for-sale-.xml.gz' in the archive './opus/News-Commentary_latest_raw_en.zip'\n",
            "Continuing from next sentence file pair.\n",
            "\n",
            "There is no item named 'en/the-war-for-oil.xml.gz' in the archive './opus/News-Commentary_latest_raw_en.zip'\n",
            "Continuing from next sentence file pair.\n",
            "\n",
            "There is no item named 'en/what-s-in-a-bric-.xml.gz' in the archive './opus/News-Commentary_latest_raw_en.zip'\n",
            "Continuing from next sentence file pair.\n",
            "Create: parallel-sentences/News/News-Commentary-en-it.tsv.gz\n",
            "No alignment file \"/projappl/nlpl/data/OPUS/News-Commentary/latest/xml/en-it.xml.gz\" or \"./opus/News-Commentary_latest_xml_en-it.xml.gz\" found\n",
            "The following files are available for downloading:\n",
            "\n",
            "        ./opus/News-Commentary_latest_raw_en.zip already exists\n",
            "   7 MB https://object.pouta.csc.fi/OPUS-News-Commentary/v14/raw/it.zip\n",
            "  92 KB https://object.pouta.csc.fi/OPUS-News-Commentary/v14/xml/en-it.xml.gz\n",
            "\n",
            "   7 MB Total size\n",
            "./opus/News-Commentary_latest_raw_it.zip ... 100% of 7 MB\n",
            "./opus/News-Commentary_latest_xml_en-it.xml.gz ... 100% of 92 KB\n",
            "Create: parallel-sentences/News/News-Commentary-en-ja.tsv.gz\n",
            "No alignment file \"/projappl/nlpl/data/OPUS/News-Commentary/latest/xml/en-ja.xml.gz\" or \"./opus/News-Commentary_latest_xml_en-ja.xml.gz\" found\n",
            "The following files are available for downloading:\n",
            "\n",
            "        ./opus/News-Commentary_latest_raw_en.zip already exists\n",
            " 236 KB https://object.pouta.csc.fi/OPUS-News-Commentary/v14/raw/ja.zip\n",
            "   4 KB https://object.pouta.csc.fi/OPUS-News-Commentary/v14/xml/en-ja.xml.gz\n",
            "\n",
            " 240 KB Total size\n",
            "./opus/News-Commentary_latest_raw_ja.zip ... 100% of 236 KB\n",
            "./opus/News-Commentary_latest_xml_en-ja.xml.gz ... 100% of 4 KB\n",
            "Create: parallel-sentences/News/News-Commentary-en-nl.tsv.gz\n",
            "No alignment file \"/projappl/nlpl/data/OPUS/News-Commentary/latest/xml/en-nl.xml.gz\" or \"./opus/News-Commentary_latest_xml_en-nl.xml.gz\" found\n",
            "The following files are available for downloading:\n",
            "\n",
            "        ./opus/News-Commentary_latest_raw_en.zip already exists\n",
            "   5 MB https://object.pouta.csc.fi/OPUS-News-Commentary/v14/raw/nl.zip\n",
            "  56 KB https://object.pouta.csc.fi/OPUS-News-Commentary/v14/xml/en-nl.xml.gz\n",
            "\n",
            "   5 MB Total size\n",
            "./opus/News-Commentary_latest_raw_nl.zip ... 100% of 5 MB\n",
            "./opus/News-Commentary_latest_xml_en-nl.xml.gz ... 100% of 56 KB\n",
            "Create: parallel-sentences/News/News-Commentary-en-pt.tsv.gz\n",
            "No alignment file \"/projappl/nlpl/data/OPUS/News-Commentary/latest/xml/en-pt.xml.gz\" or \"./opus/News-Commentary_latest_xml_en-pt.xml.gz\" found\n",
            "The following files are available for downloading:\n",
            "\n",
            "        ./opus/News-Commentary_latest_raw_en.zip already exists\n",
            "   5 MB https://object.pouta.csc.fi/OPUS-News-Commentary/v14/raw/pt.zip\n",
            "  56 KB https://object.pouta.csc.fi/OPUS-News-Commentary/v14/xml/en-pt.xml.gz\n",
            "\n",
            "   5 MB Total size\n",
            "./opus/News-Commentary_latest_raw_pt.zip ... 100% of 5 MB\n",
            "./opus/News-Commentary_latest_xml_en-pt.xml.gz ... 100% of 56 KB\n",
            "Create: parallel-sentences/News/News-Commentary-en-ru.tsv.gz\n",
            "No alignment file \"/projappl/nlpl/data/OPUS/News-Commentary/latest/xml/en-ru.xml.gz\" or \"./opus/News-Commentary_latest_xml_en-ru.xml.gz\" found\n",
            "The following files are available for downloading:\n",
            "\n",
            "        ./opus/News-Commentary_latest_raw_en.zip already exists\n",
            "  34 MB https://object.pouta.csc.fi/OPUS-News-Commentary/v14/raw/ru.zip\n",
            " 300 KB https://object.pouta.csc.fi/OPUS-News-Commentary/v14/xml/en-ru.xml.gz\n",
            "\n",
            "  34 MB Total size\n",
            "./opus/News-Commentary_latest_raw_ru.zip ... 100% of 34 MB\n",
            "./opus/News-Commentary_latest_xml_en-ru.xml.gz ... 100% of 300 KB\n",
            "\n",
            "There is no item named 'en/the-war-for-oil.xml.gz' in the archive './opus/News-Commentary_latest_raw_en.zip'\n",
            "Continuing from next sentence file pair.\n",
            "Create: parallel-sentences/News/News-Commentary-en-zh.tsv.gz\n",
            "No alignment file \"/projappl/nlpl/data/OPUS/News-Commentary/latest/xml/en-zh.xml.gz\" or \"./opus/News-Commentary_latest_xml_en-zh.xml.gz\" found\n",
            "The following files are available for downloading:\n",
            "\n",
            "        ./opus/News-Commentary_latest_raw_en.zip already exists\n",
            "  30 MB https://object.pouta.csc.fi/OPUS-News-Commentary/v14/raw/zh.zip\n",
            " 384 KB https://object.pouta.csc.fi/OPUS-News-Commentary/v14/xml/en-zh.xml.gz\n",
            "\n",
            "  31 MB Total size\n",
            "./opus/News-Commentary_latest_raw_zh.zip ... 100% of 30 MB\n",
            "./opus/News-Commentary_latest_xml_en-zh.xml.gz ... 100% of 384 KB\n",
            "Creating data frame for News Commentarys OPUS languages: ar-cs-de-en-es-fr-it-ja-nl-pt-ru-zh\n",
            "News-Commentary-en-ja.tsv.gz\n",
            "Creating english sentences parallel to ja\n",
            "News-Commentary-en-it.tsv.gz\n",
            "News-Commentary-en-nl.tsv.gz\n",
            "News-Commentary-en-ar.tsv.gz\n",
            "News-Commentary-en-fr.tsv.gz\n",
            "News-Commentary-en-pt.tsv.gz\n",
            "News-Commentary-en-cs.tsv.gz\n",
            "News-Commentary-en-es.tsv.gz\n",
            "News-Commentary-en-ru.tsv.gz\n",
            "News-Commentary-en-zh.tsv.gz\n",
            "News-Commentary-en-de.tsv.gz\n",
            "---Saving results in parallel-sentences/News/df_News_ar-cs-de-en-es-fr-it-ja-nl-pt-ru-zh.pkl ---\n",
            "--- Removing downloaded files ---\n",
            "--- Finish ---\n"
          ],
          "name": "stdout"
        }
      ]
    },
    {
      "cell_type": "code",
      "metadata": {
        "id": "5FdKnEV4E0_D",
        "colab": {
          "base_uri": "https://localhost:8080/",
          "height": 488
        },
        "outputId": "05e1ae50-042c-45f1-a251-ebdb78fee2d1"
      },
      "source": [
        "df_news = pd.read_pickle(\"./parallel-sentences/News/df_News_ar-cs-de-en-es-fr-it-ja-nl-pt-ru-zh.pkl\")\n",
        "df_news.groupby(\"lang\").describe()"
      ],
      "execution_count": 22,
      "outputs": [
        {
          "output_type": "execute_result",
          "data": {
            "text/html": [
              "<div>\n",
              "<style scoped>\n",
              "    .dataframe tbody tr th:only-of-type {\n",
              "        vertical-align: middle;\n",
              "    }\n",
              "\n",
              "    .dataframe tbody tr th {\n",
              "        vertical-align: top;\n",
              "    }\n",
              "\n",
              "    .dataframe thead tr th {\n",
              "        text-align: left;\n",
              "    }\n",
              "\n",
              "    .dataframe thead tr:last-of-type th {\n",
              "        text-align: right;\n",
              "    }\n",
              "</style>\n",
              "<table border=\"1\" class=\"dataframe\">\n",
              "  <thead>\n",
              "    <tr>\n",
              "      <th></th>\n",
              "      <th colspan=\"4\" halign=\"left\">from</th>\n",
              "      <th colspan=\"4\" halign=\"left\">sentences</th>\n",
              "    </tr>\n",
              "    <tr>\n",
              "      <th></th>\n",
              "      <th>count</th>\n",
              "      <th>unique</th>\n",
              "      <th>top</th>\n",
              "      <th>freq</th>\n",
              "      <th>count</th>\n",
              "      <th>unique</th>\n",
              "      <th>top</th>\n",
              "      <th>freq</th>\n",
              "    </tr>\n",
              "    <tr>\n",
              "      <th>lang</th>\n",
              "      <th></th>\n",
              "      <th></th>\n",
              "      <th></th>\n",
              "      <th></th>\n",
              "      <th></th>\n",
              "      <th></th>\n",
              "      <th></th>\n",
              "      <th></th>\n",
              "    </tr>\n",
              "  </thead>\n",
              "  <tbody>\n",
              "    <tr>\n",
              "      <th>ar</th>\n",
              "      <td>500</td>\n",
              "      <td>1</td>\n",
              "      <td>OPUS_News_Commentary</td>\n",
              "      <td>500</td>\n",
              "      <td>500</td>\n",
              "      <td>500</td>\n",
              "      <td>ونظراً لميل الأجهزة الإشرافية الوطنية المتوقع ...</td>\n",
              "      <td>1</td>\n",
              "    </tr>\n",
              "    <tr>\n",
              "      <th>cs</th>\n",
              "      <td>500</td>\n",
              "      <td>1</td>\n",
              "      <td>OPUS_News_Commentary</td>\n",
              "      <td>500</td>\n",
              "      <td>500</td>\n",
              "      <td>500</td>\n",
              "      <td>Tvořil součást konsensu roku 1945.</td>\n",
              "      <td>1</td>\n",
              "    </tr>\n",
              "    <tr>\n",
              "      <th>de</th>\n",
              "      <td>500</td>\n",
              "      <td>1</td>\n",
              "      <td>OPUS_News_Commentary</td>\n",
              "      <td>500</td>\n",
              "      <td>500</td>\n",
              "      <td>500</td>\n",
              "      <td>NEW YORK: Mehr als die Hälfte der asiatischen ...</td>\n",
              "      <td>1</td>\n",
              "    </tr>\n",
              "    <tr>\n",
              "      <th>en</th>\n",
              "      <td>500</td>\n",
              "      <td>1</td>\n",
              "      <td>OPUS_News_Commentary</td>\n",
              "      <td>500</td>\n",
              "      <td>500</td>\n",
              "      <td>500</td>\n",
              "      <td>Elections can lead to illiberal democracies an...</td>\n",
              "      <td>1</td>\n",
              "    </tr>\n",
              "    <tr>\n",
              "      <th>es</th>\n",
              "      <td>500</td>\n",
              "      <td>1</td>\n",
              "      <td>OPUS_News_Commentary</td>\n",
              "      <td>500</td>\n",
              "      <td>500</td>\n",
              "      <td>500</td>\n",
              "      <td>De ser así, el Congreso se limitaría a aprobar...</td>\n",
              "      <td>1</td>\n",
              "    </tr>\n",
              "    <tr>\n",
              "      <th>fr</th>\n",
              "      <td>500</td>\n",
              "      <td>1</td>\n",
              "      <td>OPUS_News_Commentary</td>\n",
              "      <td>500</td>\n",
              "      <td>500</td>\n",
              "      <td>500</td>\n",
              "      <td>Se sentir trop confiant serait une grave erreu...</td>\n",
              "      <td>1</td>\n",
              "    </tr>\n",
              "    <tr>\n",
              "      <th>it</th>\n",
              "      <td>500</td>\n",
              "      <td>1</td>\n",
              "      <td>OPUS_News_Commentary</td>\n",
              "      <td>500</td>\n",
              "      <td>500</td>\n",
              "      <td>500</td>\n",
              "      <td>Accontentarsi della ricchezza</td>\n",
              "      <td>1</td>\n",
              "    </tr>\n",
              "    <tr>\n",
              "      <th>ja</th>\n",
              "      <td>500</td>\n",
              "      <td>1</td>\n",
              "      <td>OPUS_News_Commentary</td>\n",
              "      <td>500</td>\n",
              "      <td>500</td>\n",
              "      <td>500</td>\n",
              "      <td>大半のドイツ国民が望���でいるのは後者であろうが、最も実現しそうなのは前者の方である｡しか...</td>\n",
              "      <td>1</td>\n",
              "    </tr>\n",
              "    <tr>\n",
              "      <th>nl</th>\n",
              "      <td>500</td>\n",
              "      <td>1</td>\n",
              "      <td>OPUS_News_Commentary</td>\n",
              "      <td>500</td>\n",
              "      <td>500</td>\n",
              "      <td>500</td>\n",
              "      <td>Het ESI identificeert vier gebieden van wederz...</td>\n",
              "      <td>1</td>\n",
              "    </tr>\n",
              "    <tr>\n",
              "      <th>pt</th>\n",
              "      <td>500</td>\n",
              "      <td>1</td>\n",
              "      <td>OPUS_News_Commentary</td>\n",
              "      <td>500</td>\n",
              "      <td>500</td>\n",
              "      <td>500</td>\n",
              "      <td>Se as barreiras de segurança forem fortes, ou ...</td>\n",
              "      <td>1</td>\n",
              "    </tr>\n",
              "    <tr>\n",
              "      <th>ru</th>\n",
              "      <td>500</td>\n",
              "      <td>1</td>\n",
              "      <td>OPUS_News_Commentary</td>\n",
              "      <td>500</td>\n",
              "      <td>500</td>\n",
              "      <td>500</td>\n",
              "      <td>Рост, прежде всего, самый лучший способ сокращ...</td>\n",
              "      <td>1</td>\n",
              "    </tr>\n",
              "    <tr>\n",
              "      <th>zh</th>\n",
              "      <td>500</td>\n",
              "      <td>1</td>\n",
              "      <td>OPUS_News_Commentary</td>\n",
              "      <td>500</td>\n",
              "      <td>500</td>\n",
              "      <td>500</td>\n",
              "      <td>美国的阶级和种族问题错综复杂。 在这个案件中，不可能将它们区分清楚。 盖茨非常了解美国糟糕的...</td>\n",
              "      <td>1</td>\n",
              "    </tr>\n",
              "  </tbody>\n",
              "</table>\n",
              "</div>"
            ],
            "text/plain": [
              "      from         ...                                          sentences     \n",
              "     count unique  ...                                                top freq\n",
              "lang               ...                                                        \n",
              "ar     500      1  ...  ونظراً لميل الأجهزة الإشرافية الوطنية المتوقع ...    1\n",
              "cs     500      1  ...                 Tvořil součást konsensu roku 1945.    1\n",
              "de     500      1  ...  NEW YORK: Mehr als die Hälfte der asiatischen ...    1\n",
              "en     500      1  ...  Elections can lead to illiberal democracies an...    1\n",
              "es     500      1  ...  De ser así, el Congreso se limitaría a aprobar...    1\n",
              "fr     500      1  ...  Se sentir trop confiant serait une grave erreu...    1\n",
              "it     500      1  ...                      Accontentarsi della ricchezza    1\n",
              "ja     500      1  ...  大半のドイツ国民が望���でいるのは後者であろうが、最も実現しそうなのは前者の方である｡しか...    1\n",
              "nl     500      1  ...  Het ESI identificeert vier gebieden van wederz...    1\n",
              "pt     500      1  ...  Se as barreiras de segurança forem fortes, ou ...    1\n",
              "ru     500      1  ...  Рост, прежде всего, самый лучший способ сокращ...    1\n",
              "zh     500      1  ...  美国的阶级和种族问题错综复杂。 在这个案件中，不可能将它们区分清楚。 盖茨非常了解美国糟糕的...    1\n",
              "\n",
              "[12 rows x 8 columns]"
            ]
          },
          "metadata": {
            "tags": []
          },
          "execution_count": 22
        }
      ]
    },
    {
      "cell_type": "markdown",
      "metadata": {
        "id": "BCCZGaHQUVNs"
      },
      "source": [
        "## Check OPUS-NewsCommentary is parallel data"
      ]
    },
    {
      "cell_type": "code",
      "metadata": {
        "colab": {
          "base_uri": "https://localhost:8080/",
          "height": 206
        },
        "id": "5t2jxBwCUZlU",
        "outputId": "f9589f8d-0a42-459e-bfcf-a98839fe361d"
      },
      "source": [
        "df_news[df_news[\"lang\"] == \"fr\"].head()"
      ],
      "execution_count": 23,
      "outputs": [
        {
          "output_type": "execute_result",
          "data": {
            "text/html": [
              "<div>\n",
              "<style scoped>\n",
              "    .dataframe tbody tr th:only-of-type {\n",
              "        vertical-align: middle;\n",
              "    }\n",
              "\n",
              "    .dataframe tbody tr th {\n",
              "        vertical-align: top;\n",
              "    }\n",
              "\n",
              "    .dataframe thead th {\n",
              "        text-align: right;\n",
              "    }\n",
              "</style>\n",
              "<table border=\"1\" class=\"dataframe\">\n",
              "  <thead>\n",
              "    <tr style=\"text-align: right;\">\n",
              "      <th></th>\n",
              "      <th>from</th>\n",
              "      <th>lang</th>\n",
              "      <th>sentences</th>\n",
              "    </tr>\n",
              "  </thead>\n",
              "  <tbody>\n",
              "    <tr>\n",
              "      <th>2500</th>\n",
              "      <td>OPUS_News_Commentary</td>\n",
              "      <td>fr</td>\n",
              "      <td>L’or à 10.000 dollars l’once ?</td>\n",
              "    </tr>\n",
              "    <tr>\n",
              "      <th>2501</th>\n",
              "      <td>OPUS_News_Commentary</td>\n",
              "      <td>fr</td>\n",
              "      <td>SAN FRANCISCO – Il n’a jamais été facile d’avo...</td>\n",
              "    </tr>\n",
              "    <tr>\n",
              "      <th>2502</th>\n",
              "      <td>OPUS_News_Commentary</td>\n",
              "      <td>fr</td>\n",
              "      <td>Et aujourd’hui, alors que le cours de l’or a a...</td>\n",
              "    </tr>\n",
              "    <tr>\n",
              "      <th>2503</th>\n",
              "      <td>OPUS_News_Commentary</td>\n",
              "      <td>fr</td>\n",
              "      <td>En décembre dernier, mes collègues économistes...</td>\n",
              "    </tr>\n",
              "    <tr>\n",
              "      <th>2504</th>\n",
              "      <td>OPUS_News_Commentary</td>\n",
              "      <td>fr</td>\n",
              "      <td>Mais devinez ce qui s’est passé ?</td>\n",
              "    </tr>\n",
              "  </tbody>\n",
              "</table>\n",
              "</div>"
            ],
            "text/plain": [
              "                      from  ...                                          sentences\n",
              "2500  OPUS_News_Commentary  ...                     L’or à 10.000 dollars l’once ?\n",
              "2501  OPUS_News_Commentary  ...  SAN FRANCISCO – Il n’a jamais été facile d’avo...\n",
              "2502  OPUS_News_Commentary  ...  Et aujourd’hui, alors que le cours de l’or a a...\n",
              "2503  OPUS_News_Commentary  ...  En décembre dernier, mes collègues économistes...\n",
              "2504  OPUS_News_Commentary  ...                  Mais devinez ce qui s’est passé ?\n",
              "\n",
              "[5 rows x 3 columns]"
            ]
          },
          "metadata": {
            "tags": []
          },
          "execution_count": 23
        }
      ]
    },
    {
      "cell_type": "code",
      "metadata": {
        "colab": {
          "base_uri": "https://localhost:8080/",
          "height": 206
        },
        "id": "BHWksVyiUfrH",
        "outputId": "c50d6856-4c0f-40bb-d2ac-b854cf5dcb4e"
      },
      "source": [
        "df_news[df_news[\"lang\"] == \"es\"].head()"
      ],
      "execution_count": 24,
      "outputs": [
        {
          "output_type": "execute_result",
          "data": {
            "text/html": [
              "<div>\n",
              "<style scoped>\n",
              "    .dataframe tbody tr th:only-of-type {\n",
              "        vertical-align: middle;\n",
              "    }\n",
              "\n",
              "    .dataframe tbody tr th {\n",
              "        vertical-align: top;\n",
              "    }\n",
              "\n",
              "    .dataframe thead th {\n",
              "        text-align: right;\n",
              "    }\n",
              "</style>\n",
              "<table border=\"1\" class=\"dataframe\">\n",
              "  <thead>\n",
              "    <tr style=\"text-align: right;\">\n",
              "      <th></th>\n",
              "      <th>from</th>\n",
              "      <th>lang</th>\n",
              "      <th>sentences</th>\n",
              "    </tr>\n",
              "  </thead>\n",
              "  <tbody>\n",
              "    <tr>\n",
              "      <th>4000</th>\n",
              "      <td>OPUS_News_Commentary</td>\n",
              "      <td>es</td>\n",
              "      <td>¿El oro a 10.000 dólares?</td>\n",
              "    </tr>\n",
              "    <tr>\n",
              "      <th>4001</th>\n",
              "      <td>OPUS_News_Commentary</td>\n",
              "      <td>es</td>\n",
              "      <td>SAN FRANCISCO – Nunca ha resultado fácil soste...</td>\n",
              "    </tr>\n",
              "    <tr>\n",
              "      <th>4002</th>\n",
              "      <td>OPUS_News_Commentary</td>\n",
              "      <td>es</td>\n",
              "      <td>Últimamente, con los precios del oro más de un...</td>\n",
              "    </tr>\n",
              "    <tr>\n",
              "      <th>4003</th>\n",
              "      <td>OPUS_News_Commentary</td>\n",
              "      <td>es</td>\n",
              "      <td>Apenas en el pasado mes de diciembre, mis cole...</td>\n",
              "    </tr>\n",
              "    <tr>\n",
              "      <th>4004</th>\n",
              "      <td>OPUS_News_Commentary</td>\n",
              "      <td>es</td>\n",
              "      <td>¿Y saben qué?</td>\n",
              "    </tr>\n",
              "  </tbody>\n",
              "</table>\n",
              "</div>"
            ],
            "text/plain": [
              "                      from  ...                                          sentences\n",
              "4000  OPUS_News_Commentary  ...                          ¿El oro a 10.000 dólares?\n",
              "4001  OPUS_News_Commentary  ...  SAN FRANCISCO – Nunca ha resultado fácil soste...\n",
              "4002  OPUS_News_Commentary  ...  Últimamente, con los precios del oro más de un...\n",
              "4003  OPUS_News_Commentary  ...  Apenas en el pasado mes de diciembre, mis cole...\n",
              "4004  OPUS_News_Commentary  ...                                      ¿Y saben qué?\n",
              "\n",
              "[5 rows x 3 columns]"
            ]
          },
          "metadata": {
            "tags": []
          },
          "execution_count": 24
        }
      ]
    },
    {
      "cell_type": "markdown",
      "metadata": {
        "id": "GeHApxnsHXYq"
      },
      "source": [
        "# ALL DATA"
      ]
    },
    {
      "cell_type": "code",
      "metadata": {
        "id": "AAy8LLmobgea",
        "colab": {
          "base_uri": "https://localhost:8080/",
          "height": 583
        },
        "outputId": "a78d2c4e-349c-487c-ac58-8e62f97dee7f"
      },
      "source": [
        "df_multi_PCA_train = pd.concat([df_TED_pl_tr_hi, df_TED_langs, \n",
        "                                df_Wiki_pl_tr_hi, df_Wiki_langs, \n",
        "                                df_news])\n",
        "df_multi_PCA_train.to_pickle(\"df_multi_PCA_train_1000.pkl\")\n",
        "df_multi_PCA_train.groupby(\"lang\").describe()"
      ],
      "execution_count": 25,
      "outputs": [
        {
          "output_type": "execute_result",
          "data": {
            "text/html": [
              "<div>\n",
              "<style scoped>\n",
              "    .dataframe tbody tr th:only-of-type {\n",
              "        vertical-align: middle;\n",
              "    }\n",
              "\n",
              "    .dataframe tbody tr th {\n",
              "        vertical-align: top;\n",
              "    }\n",
              "\n",
              "    .dataframe thead tr th {\n",
              "        text-align: left;\n",
              "    }\n",
              "\n",
              "    .dataframe thead tr:last-of-type th {\n",
              "        text-align: right;\n",
              "    }\n",
              "</style>\n",
              "<table border=\"1\" class=\"dataframe\">\n",
              "  <thead>\n",
              "    <tr>\n",
              "      <th></th>\n",
              "      <th colspan=\"4\" halign=\"left\">from</th>\n",
              "      <th colspan=\"4\" halign=\"left\">sentences</th>\n",
              "    </tr>\n",
              "    <tr>\n",
              "      <th></th>\n",
              "      <th>count</th>\n",
              "      <th>unique</th>\n",
              "      <th>top</th>\n",
              "      <th>freq</th>\n",
              "      <th>count</th>\n",
              "      <th>unique</th>\n",
              "      <th>top</th>\n",
              "      <th>freq</th>\n",
              "    </tr>\n",
              "    <tr>\n",
              "      <th>lang</th>\n",
              "      <th></th>\n",
              "      <th></th>\n",
              "      <th></th>\n",
              "      <th></th>\n",
              "      <th></th>\n",
              "      <th></th>\n",
              "      <th></th>\n",
              "      <th></th>\n",
              "    </tr>\n",
              "  </thead>\n",
              "  <tbody>\n",
              "    <tr>\n",
              "      <th>ar</th>\n",
              "      <td>1000</td>\n",
              "      <td>3</td>\n",
              "      <td>OPUS_News_Commentary</td>\n",
              "      <td>500</td>\n",
              "      <td>1000</td>\n",
              "      <td>1000</td>\n",
              "      <td>ليس هناك أدوات تكنولوجية هنا ؛ مجرد علوم الأحي...</td>\n",
              "      <td>1</td>\n",
              "    </tr>\n",
              "    <tr>\n",
              "      <th>cs</th>\n",
              "      <td>1000</td>\n",
              "      <td>3</td>\n",
              "      <td>OPUS_News_Commentary</td>\n",
              "      <td>500</td>\n",
              "      <td>1000</td>\n",
              "      <td>1000</td>\n",
              "      <td>V roce 2010 zavtipkovala: \"Teď pracuju s ženam...</td>\n",
              "      <td>1</td>\n",
              "    </tr>\n",
              "    <tr>\n",
              "      <th>de</th>\n",
              "      <td>1000</td>\n",
              "      <td>3</td>\n",
              "      <td>OPUS_News_Commentary</td>\n",
              "      <td>500</td>\n",
              "      <td>1000</td>\n",
              "      <td>1000</td>\n",
              "      <td>NEW YORK: Mehr als die Hälfte der asiatischen ...</td>\n",
              "      <td>1</td>\n",
              "    </tr>\n",
              "    <tr>\n",
              "      <th>en</th>\n",
              "      <td>1000</td>\n",
              "      <td>3</td>\n",
              "      <td>OPUS_News_Commentary</td>\n",
              "      <td>500</td>\n",
              "      <td>1000</td>\n",
              "      <td>1000</td>\n",
              "      <td>The name Community and Development disappeared.</td>\n",
              "      <td>1</td>\n",
              "    </tr>\n",
              "    <tr>\n",
              "      <th>es</th>\n",
              "      <td>1000</td>\n",
              "      <td>3</td>\n",
              "      <td>OPUS_News_Commentary</td>\n",
              "      <td>500</td>\n",
              "      <td>1000</td>\n",
              "      <td>1000</td>\n",
              "      <td>Y lo que ocurra en 2009 pondrá en riesgo algun...</td>\n",
              "      <td>1</td>\n",
              "    </tr>\n",
              "    <tr>\n",
              "      <th>fr</th>\n",
              "      <td>1000</td>\n",
              "      <td>3</td>\n",
              "      <td>OPUS_News_Commentary</td>\n",
              "      <td>500</td>\n",
              "      <td>1000</td>\n",
              "      <td>1000</td>\n",
              "      <td>Et chaque fois qu'elles ont fait un des deux c...</td>\n",
              "      <td>1</td>\n",
              "    </tr>\n",
              "    <tr>\n",
              "      <th>hi</th>\n",
              "      <td>1000</td>\n",
              "      <td>2</td>\n",
              "      <td>TED2020</td>\n",
              "      <td>500</td>\n",
              "      <td>1000</td>\n",
              "      <td>1000</td>\n",
              "      <td>वहाँ एक परिकलित्र (कैलकुलेटर) है.</td>\n",
              "      <td>1</td>\n",
              "    </tr>\n",
              "    <tr>\n",
              "      <th>it</th>\n",
              "      <td>1000</td>\n",
              "      <td>3</td>\n",
              "      <td>OPUS_News_Commentary</td>\n",
              "      <td>500</td>\n",
              "      <td>1000</td>\n",
              "      <td>1000</td>\n",
              "      <td>Ad esempio, nel 2010 solo l’8% dei 409 miliard...</td>\n",
              "      <td>1</td>\n",
              "    </tr>\n",
              "    <tr>\n",
              "      <th>ja</th>\n",
              "      <td>1000</td>\n",
              "      <td>3</td>\n",
              "      <td>OPUS_News_Commentary</td>\n",
              "      <td>500</td>\n",
              "      <td>1000</td>\n",
              "      <td>1000</td>\n",
              "      <td>これを実際に示したのがアメリカと世界のテロリズムに対する反応であった。アル・カイーダに出入り...</td>\n",
              "      <td>1</td>\n",
              "    </tr>\n",
              "    <tr>\n",
              "      <th>nl</th>\n",
              "      <td>1000</td>\n",
              "      <td>3</td>\n",
              "      <td>OPUS_News_Commentary</td>\n",
              "      <td>500</td>\n",
              "      <td>1000</td>\n",
              "      <td>1000</td>\n",
              "      <td>Het ESI identificeert vier gebieden van wederz...</td>\n",
              "      <td>1</td>\n",
              "    </tr>\n",
              "    <tr>\n",
              "      <th>pl</th>\n",
              "      <td>1000</td>\n",
              "      <td>2</td>\n",
              "      <td>TED2020</td>\n",
              "      <td>500</td>\n",
              "      <td>1000</td>\n",
              "      <td>1000</td>\n",
              "      <td>Mówimy im dzisiaj: chcemy demokracji od zaraz!</td>\n",
              "      <td>1</td>\n",
              "    </tr>\n",
              "    <tr>\n",
              "      <th>pt</th>\n",
              "      <td>1000</td>\n",
              "      <td>3</td>\n",
              "      <td>OPUS_News_Commentary</td>\n",
              "      <td>500</td>\n",
              "      <td>1000</td>\n",
              "      <td>1000</td>\n",
              "      <td>Então, ele pode ter tantos anfitriões ao seu r...</td>\n",
              "      <td>1</td>\n",
              "    </tr>\n",
              "    <tr>\n",
              "      <th>ru</th>\n",
              "      <td>1000</td>\n",
              "      <td>3</td>\n",
              "      <td>OPUS_News_Commentary</td>\n",
              "      <td>500</td>\n",
              "      <td>1000</td>\n",
              "      <td>1000</td>\n",
              "      <td>Это же телега впереди лошади!\"</td>\n",
              "      <td>1</td>\n",
              "    </tr>\n",
              "    <tr>\n",
              "      <th>tr</th>\n",
              "      <td>1000</td>\n",
              "      <td>2</td>\n",
              "      <td>TED2020</td>\n",
              "      <td>500</td>\n",
              "      <td>1000</td>\n",
              "      <td>1000</td>\n",
              "      <td>\"İngiltere Savour Finest Tour\".</td>\n",
              "      <td>1</td>\n",
              "    </tr>\n",
              "    <tr>\n",
              "      <th>zh</th>\n",
              "      <td>1000</td>\n",
              "      <td>3</td>\n",
              "      <td>OPUS_News_Commentary</td>\n",
              "      <td>500</td>\n",
              "      <td>1000</td>\n",
              "      <td>1000</td>\n",
              "      <td>如果f ∈ Γ，則f−1 ∈ Γ。</td>\n",
              "      <td>1</td>\n",
              "    </tr>\n",
              "  </tbody>\n",
              "</table>\n",
              "</div>"
            ],
            "text/plain": [
              "      from         ...                                          sentences     \n",
              "     count unique  ...                                                top freq\n",
              "lang               ...                                                        \n",
              "ar    1000      3  ...  ليس هناك أدوات تكنولوجية هنا ؛ مجرد علوم الأحي...    1\n",
              "cs    1000      3  ...  V roce 2010 zavtipkovala: \"Teď pracuju s ženam...    1\n",
              "de    1000      3  ...  NEW YORK: Mehr als die Hälfte der asiatischen ...    1\n",
              "en    1000      3  ...    The name Community and Development disappeared.    1\n",
              "es    1000      3  ...  Y lo que ocurra en 2009 pondrá en riesgo algun...    1\n",
              "fr    1000      3  ...  Et chaque fois qu'elles ont fait un des deux c...    1\n",
              "hi    1000      2  ...                  वहाँ एक परिकलित्र (कैलकुलेटर) है.    1\n",
              "it    1000      3  ...  Ad esempio, nel 2010 solo l’8% dei 409 miliard...    1\n",
              "ja    1000      3  ...  これを実際に示したのがアメリカと世界のテロリズムに対する反応であった。アル・カイーダに出入り...    1\n",
              "nl    1000      3  ...  Het ESI identificeert vier gebieden van wederz...    1\n",
              "pl    1000      2  ...     Mówimy im dzisiaj: chcemy demokracji od zaraz!    1\n",
              "pt    1000      3  ...  Então, ele pode ter tantos anfitriões ao seu r...    1\n",
              "ru    1000      3  ...                     Это же телега впереди лошади!\"    1\n",
              "tr    1000      2  ...                    \"İngiltere Savour Finest Tour\".    1\n",
              "zh    1000      3  ...                                  如果f ∈ Γ，則f−1 ∈ Γ。    1\n",
              "\n",
              "[15 rows x 8 columns]"
            ]
          },
          "metadata": {
            "tags": []
          },
          "execution_count": 25
        }
      ]
    },
    {
      "cell_type": "markdown",
      "metadata": {
        "id": "0K4Bg2FbZ55n"
      },
      "source": [
        "# Visualization"
      ]
    },
    {
      "cell_type": "code",
      "metadata": {
        "colab": {
          "base_uri": "https://localhost:8080/",
          "height": 55
        },
        "id": "yvupGcZtZ9eA",
        "outputId": "2457a140-0194-4974-86cf-45c98424983b"
      },
      "source": [
        "!pip install -U -q plotly\r\n",
        "import plotly\r\n",
        "\r\n",
        "\r\n",
        "import matplotlib.pyplot as plt\r\n",
        "# %matplotlib inline \r\n",
        "import plotly.express as px\r\n",
        "import plotly.graph_objects as go\r\n",
        "\r\n",
        "plotly.__version__"
      ],
      "execution_count": 26,
      "outputs": [
        {
          "output_type": "stream",
          "text": [
            "\u001b[K     |████████████████████████████████| 13.2MB 269kB/s \n",
            "\u001b[?25h"
          ],
          "name": "stdout"
        },
        {
          "output_type": "execute_result",
          "data": {
            "application/vnd.google.colaboratory.intrinsic+json": {
              "type": "string"
            },
            "text/plain": [
              "'4.14.1'"
            ]
          },
          "metadata": {
            "tags": []
          },
          "execution_count": 26
        }
      ]
    },
    {
      "cell_type": "code",
      "metadata": {
        "id": "U2EpBUCcaLwy"
      },
      "source": [
        "df_multi_PCA_train_1000 = pd.read_pickle(\"./df_multi_PCA_train_1000.pkl\")\r\n",
        "sentences_train = df_multi_PCA_train_1000.sentences.to_list()"
      ],
      "execution_count": 27,
      "outputs": []
    },
    {
      "cell_type": "code",
      "metadata": {
        "colab": {
          "base_uri": "https://localhost:8080/",
          "height": 417
        },
        "id": "BLMggzswaQJi",
        "outputId": "3984af78-13cd-454a-f082-44aa38cdd48d"
      },
      "source": [
        "import matplotlib.pyplot as plt\r\n",
        "# %matplotlib inline \r\n",
        "import plotly.express as px\r\n",
        "import plotly.graph_objects as go\r\n",
        "px.colors.n_colors\r\n",
        "\r\n",
        "fig_1 = go.Figure([go.Bar(\r\n",
        "                        x = df_multi_PCA_train_1000.groupby(\"lang\").describe().index, \r\n",
        "                        y= df_multi_PCA_train_1000.groupby(\"lang\").describe()[\"from\"][\"count\"],\r\n",
        "                        hovertemplate= \"Language: %{x} <br>Nº sentences: %{y}\",\r\n",
        "                        marker_color =\"rgb(253,180,98)\",\r\n",
        "                        name = \"\"\r\n",
        "                        ),\r\n",
        "                 ],\r\n",
        "                )\r\n",
        "fig_1.update_layout(\r\n",
        "      hoverlabel=dict(\r\n",
        "          font_size=14,\r\n",
        "          font_family=\"Arial\",\r\n",
        "          bgcolor = \"white\"),\r\n",
        "\r\n",
        "      height=400, \r\n",
        "      width = 900, \r\n",
        "      title=\"Training PCA Multilingual Data - Number of sentences per language\",\r\n",
        "      title_font = {\"size\": 20},)\r\n",
        "\r\n",
        "fig_1.update_xaxes(\r\n",
        "          tickangle = 0,\r\n",
        "          tickfont = {\"size\": 16},\r\n",
        "          title_text = \"Languagues\",\r\n",
        "          title_font = {\"size\": 18},\r\n",
        "          title_standoff = 10)\r\n",
        "\r\n",
        "fig_1.update_yaxes(\r\n",
        "          tickfont = {\"size\": 16},\r\n",
        "          title_font = {\"size\": 18},\r\n",
        "          title_text = \"Number of sentences\",\r\n",
        "          title_standoff = 10)\r\n",
        "\r\n",
        "\r\n",
        "fig_1.show()"
      ],
      "execution_count": 28,
      "outputs": [
        {
          "output_type": "display_data",
          "data": {
            "text/html": [
              "<html>\n",
              "<head><meta charset=\"utf-8\" /></head>\n",
              "<body>\n",
              "    <div>            <script src=\"https://cdnjs.cloudflare.com/ajax/libs/mathjax/2.7.5/MathJax.js?config=TeX-AMS-MML_SVG\"></script><script type=\"text/javascript\">if (window.MathJax) {MathJax.Hub.Config({SVG: {font: \"STIX-Web\"}});}</script>                <script type=\"text/javascript\">window.PlotlyConfig = {MathJaxConfig: 'local'};</script>\n",
              "        <script src=\"https://cdn.plot.ly/plotly-latest.min.js\"></script>                <div id=\"80725cd2-3999-457c-b02f-45ec48295684\" class=\"plotly-graph-div\" style=\"height:400px; width:900px;\"></div>            <script type=\"text/javascript\">                                    window.PLOTLYENV=window.PLOTLYENV || {};                                    if (document.getElementById(\"80725cd2-3999-457c-b02f-45ec48295684\")) {                    Plotly.newPlot(                        \"80725cd2-3999-457c-b02f-45ec48295684\",                        [{\"hovertemplate\": \"Language: %{x} <br>N\\u00ba sentences: %{y}\", \"marker\": {\"color\": \"rgb(253,180,98)\"}, \"name\": \"\", \"type\": \"bar\", \"x\": [\"ar\", \"cs\", \"de\", \"en\", \"es\", \"fr\", \"hi\", \"it\", \"ja\", \"nl\", \"pl\", \"pt\", \"ru\", \"tr\", \"zh\"], \"y\": [1000, 1000, 1000, 1000, 1000, 1000, 1000, 1000, 1000, 1000, 1000, 1000, 1000, 1000, 1000]}],                        {\"height\": 400, \"hoverlabel\": {\"bgcolor\": \"white\", \"font\": {\"family\": \"Arial\", \"size\": 14}}, \"template\": {\"data\": {\"bar\": [{\"error_x\": {\"color\": \"#2a3f5f\"}, \"error_y\": {\"color\": \"#2a3f5f\"}, \"marker\": {\"line\": {\"color\": \"#E5ECF6\", \"width\": 0.5}}, \"type\": \"bar\"}], \"barpolar\": [{\"marker\": {\"line\": {\"color\": \"#E5ECF6\", \"width\": 0.5}}, \"type\": \"barpolar\"}], \"carpet\": [{\"aaxis\": {\"endlinecolor\": \"#2a3f5f\", \"gridcolor\": \"white\", \"linecolor\": \"white\", \"minorgridcolor\": \"white\", \"startlinecolor\": \"#2a3f5f\"}, \"baxis\": {\"endlinecolor\": \"#2a3f5f\", \"gridcolor\": \"white\", \"linecolor\": \"white\", \"minorgridcolor\": \"white\", \"startlinecolor\": \"#2a3f5f\"}, \"type\": \"carpet\"}], \"choropleth\": [{\"colorbar\": {\"outlinewidth\": 0, \"ticks\": \"\"}, \"type\": \"choropleth\"}], \"contour\": [{\"colorbar\": {\"outlinewidth\": 0, \"ticks\": \"\"}, \"colorscale\": [[0.0, \"#0d0887\"], [0.1111111111111111, \"#46039f\"], [0.2222222222222222, \"#7201a8\"], [0.3333333333333333, \"#9c179e\"], [0.4444444444444444, \"#bd3786\"], [0.5555555555555556, \"#d8576b\"], [0.6666666666666666, \"#ed7953\"], [0.7777777777777778, \"#fb9f3a\"], [0.8888888888888888, \"#fdca26\"], [1.0, \"#f0f921\"]], \"type\": \"contour\"}], \"contourcarpet\": [{\"colorbar\": {\"outlinewidth\": 0, \"ticks\": \"\"}, \"type\": \"contourcarpet\"}], \"heatmap\": [{\"colorbar\": {\"outlinewidth\": 0, \"ticks\": \"\"}, \"colorscale\": [[0.0, \"#0d0887\"], [0.1111111111111111, \"#46039f\"], [0.2222222222222222, \"#7201a8\"], [0.3333333333333333, \"#9c179e\"], [0.4444444444444444, \"#bd3786\"], [0.5555555555555556, \"#d8576b\"], [0.6666666666666666, \"#ed7953\"], [0.7777777777777778, \"#fb9f3a\"], [0.8888888888888888, \"#fdca26\"], [1.0, \"#f0f921\"]], \"type\": \"heatmap\"}], \"heatmapgl\": [{\"colorbar\": {\"outlinewidth\": 0, \"ticks\": \"\"}, \"colorscale\": [[0.0, \"#0d0887\"], [0.1111111111111111, \"#46039f\"], [0.2222222222222222, \"#7201a8\"], [0.3333333333333333, \"#9c179e\"], [0.4444444444444444, \"#bd3786\"], [0.5555555555555556, \"#d8576b\"], [0.6666666666666666, \"#ed7953\"], [0.7777777777777778, \"#fb9f3a\"], [0.8888888888888888, \"#fdca26\"], [1.0, \"#f0f921\"]], \"type\": \"heatmapgl\"}], \"histogram\": [{\"marker\": {\"colorbar\": {\"outlinewidth\": 0, \"ticks\": \"\"}}, \"type\": \"histogram\"}], \"histogram2d\": [{\"colorbar\": {\"outlinewidth\": 0, \"ticks\": \"\"}, \"colorscale\": [[0.0, \"#0d0887\"], [0.1111111111111111, \"#46039f\"], [0.2222222222222222, \"#7201a8\"], [0.3333333333333333, \"#9c179e\"], [0.4444444444444444, \"#bd3786\"], [0.5555555555555556, \"#d8576b\"], [0.6666666666666666, \"#ed7953\"], [0.7777777777777778, \"#fb9f3a\"], [0.8888888888888888, \"#fdca26\"], [1.0, \"#f0f921\"]], \"type\": \"histogram2d\"}], \"histogram2dcontour\": [{\"colorbar\": {\"outlinewidth\": 0, \"ticks\": \"\"}, \"colorscale\": [[0.0, \"#0d0887\"], [0.1111111111111111, \"#46039f\"], [0.2222222222222222, \"#7201a8\"], [0.3333333333333333, \"#9c179e\"], [0.4444444444444444, \"#bd3786\"], [0.5555555555555556, \"#d8576b\"], [0.6666666666666666, \"#ed7953\"], [0.7777777777777778, \"#fb9f3a\"], [0.8888888888888888, \"#fdca26\"], [1.0, \"#f0f921\"]], \"type\": \"histogram2dcontour\"}], \"mesh3d\": [{\"colorbar\": {\"outlinewidth\": 0, \"ticks\": \"\"}, \"type\": \"mesh3d\"}], \"parcoords\": [{\"line\": {\"colorbar\": {\"outlinewidth\": 0, \"ticks\": \"\"}}, \"type\": \"parcoords\"}], \"pie\": [{\"automargin\": true, \"type\": \"pie\"}], \"scatter\": [{\"marker\": {\"colorbar\": {\"outlinewidth\": 0, \"ticks\": \"\"}}, \"type\": \"scatter\"}], \"scatter3d\": [{\"line\": {\"colorbar\": {\"outlinewidth\": 0, \"ticks\": \"\"}}, \"marker\": {\"colorbar\": {\"outlinewidth\": 0, \"ticks\": \"\"}}, \"type\": \"scatter3d\"}], \"scattercarpet\": [{\"marker\": {\"colorbar\": {\"outlinewidth\": 0, \"ticks\": \"\"}}, \"type\": \"scattercarpet\"}], \"scattergeo\": [{\"marker\": {\"colorbar\": {\"outlinewidth\": 0, \"ticks\": \"\"}}, \"type\": \"scattergeo\"}], \"scattergl\": [{\"marker\": {\"colorbar\": {\"outlinewidth\": 0, \"ticks\": \"\"}}, \"type\": \"scattergl\"}], \"scattermapbox\": [{\"marker\": {\"colorbar\": {\"outlinewidth\": 0, \"ticks\": \"\"}}, \"type\": \"scattermapbox\"}], \"scatterpolar\": [{\"marker\": {\"colorbar\": {\"outlinewidth\": 0, \"ticks\": \"\"}}, \"type\": \"scatterpolar\"}], \"scatterpolargl\": [{\"marker\": {\"colorbar\": {\"outlinewidth\": 0, \"ticks\": \"\"}}, \"type\": \"scatterpolargl\"}], \"scatterternary\": [{\"marker\": {\"colorbar\": {\"outlinewidth\": 0, \"ticks\": \"\"}}, \"type\": \"scatterternary\"}], \"surface\": [{\"colorbar\": {\"outlinewidth\": 0, \"ticks\": \"\"}, \"colorscale\": [[0.0, \"#0d0887\"], [0.1111111111111111, \"#46039f\"], [0.2222222222222222, \"#7201a8\"], [0.3333333333333333, \"#9c179e\"], [0.4444444444444444, \"#bd3786\"], [0.5555555555555556, \"#d8576b\"], [0.6666666666666666, \"#ed7953\"], [0.7777777777777778, \"#fb9f3a\"], [0.8888888888888888, \"#fdca26\"], [1.0, \"#f0f921\"]], \"type\": \"surface\"}], \"table\": [{\"cells\": {\"fill\": {\"color\": \"#EBF0F8\"}, \"line\": {\"color\": \"white\"}}, \"header\": {\"fill\": {\"color\": \"#C8D4E3\"}, \"line\": {\"color\": \"white\"}}, \"type\": \"table\"}]}, \"layout\": {\"annotationdefaults\": {\"arrowcolor\": \"#2a3f5f\", \"arrowhead\": 0, \"arrowwidth\": 1}, \"autotypenumbers\": \"strict\", \"coloraxis\": {\"colorbar\": {\"outlinewidth\": 0, \"ticks\": \"\"}}, \"colorscale\": {\"diverging\": [[0, \"#8e0152\"], [0.1, \"#c51b7d\"], [0.2, \"#de77ae\"], [0.3, \"#f1b6da\"], [0.4, \"#fde0ef\"], [0.5, \"#f7f7f7\"], [0.6, \"#e6f5d0\"], [0.7, \"#b8e186\"], [0.8, \"#7fbc41\"], [0.9, \"#4d9221\"], [1, \"#276419\"]], \"sequential\": [[0.0, \"#0d0887\"], [0.1111111111111111, \"#46039f\"], [0.2222222222222222, \"#7201a8\"], [0.3333333333333333, \"#9c179e\"], [0.4444444444444444, \"#bd3786\"], [0.5555555555555556, \"#d8576b\"], [0.6666666666666666, \"#ed7953\"], [0.7777777777777778, \"#fb9f3a\"], [0.8888888888888888, \"#fdca26\"], [1.0, \"#f0f921\"]], \"sequentialminus\": [[0.0, \"#0d0887\"], [0.1111111111111111, \"#46039f\"], [0.2222222222222222, \"#7201a8\"], [0.3333333333333333, \"#9c179e\"], [0.4444444444444444, \"#bd3786\"], [0.5555555555555556, \"#d8576b\"], [0.6666666666666666, \"#ed7953\"], [0.7777777777777778, \"#fb9f3a\"], [0.8888888888888888, \"#fdca26\"], [1.0, \"#f0f921\"]]}, \"colorway\": [\"#636efa\", \"#EF553B\", \"#00cc96\", \"#ab63fa\", \"#FFA15A\", \"#19d3f3\", \"#FF6692\", \"#B6E880\", \"#FF97FF\", \"#FECB52\"], \"font\": {\"color\": \"#2a3f5f\"}, \"geo\": {\"bgcolor\": \"white\", \"lakecolor\": \"white\", \"landcolor\": \"#E5ECF6\", \"showlakes\": true, \"showland\": true, \"subunitcolor\": \"white\"}, \"hoverlabel\": {\"align\": \"left\"}, \"hovermode\": \"closest\", \"mapbox\": {\"style\": \"light\"}, \"paper_bgcolor\": \"white\", \"plot_bgcolor\": \"#E5ECF6\", \"polar\": {\"angularaxis\": {\"gridcolor\": \"white\", \"linecolor\": \"white\", \"ticks\": \"\"}, \"bgcolor\": \"#E5ECF6\", \"radialaxis\": {\"gridcolor\": \"white\", \"linecolor\": \"white\", \"ticks\": \"\"}}, \"scene\": {\"xaxis\": {\"backgroundcolor\": \"#E5ECF6\", \"gridcolor\": \"white\", \"gridwidth\": 2, \"linecolor\": \"white\", \"showbackground\": true, \"ticks\": \"\", \"zerolinecolor\": \"white\"}, \"yaxis\": {\"backgroundcolor\": \"#E5ECF6\", \"gridcolor\": \"white\", \"gridwidth\": 2, \"linecolor\": \"white\", \"showbackground\": true, \"ticks\": \"\", \"zerolinecolor\": \"white\"}, \"zaxis\": {\"backgroundcolor\": \"#E5ECF6\", \"gridcolor\": \"white\", \"gridwidth\": 2, \"linecolor\": \"white\", \"showbackground\": true, \"ticks\": \"\", \"zerolinecolor\": \"white\"}}, \"shapedefaults\": {\"line\": {\"color\": \"#2a3f5f\"}}, \"ternary\": {\"aaxis\": {\"gridcolor\": \"white\", \"linecolor\": \"white\", \"ticks\": \"\"}, \"baxis\": {\"gridcolor\": \"white\", \"linecolor\": \"white\", \"ticks\": \"\"}, \"bgcolor\": \"#E5ECF6\", \"caxis\": {\"gridcolor\": \"white\", \"linecolor\": \"white\", \"ticks\": \"\"}}, \"title\": {\"x\": 0.05}, \"xaxis\": {\"automargin\": true, \"gridcolor\": \"white\", \"linecolor\": \"white\", \"ticks\": \"\", \"title\": {\"standoff\": 15}, \"zerolinecolor\": \"white\", \"zerolinewidth\": 2}, \"yaxis\": {\"automargin\": true, \"gridcolor\": \"white\", \"linecolor\": \"white\", \"ticks\": \"\", \"title\": {\"standoff\": 15}, \"zerolinecolor\": \"white\", \"zerolinewidth\": 2}}}, \"title\": {\"font\": {\"size\": 20}, \"text\": \"Training PCA Multilingual Data - Number of sentences per language\"}, \"width\": 900, \"xaxis\": {\"tickangle\": 0, \"tickfont\": {\"size\": 16}, \"title\": {\"font\": {\"size\": 18}, \"standoff\": 10, \"text\": \"Languagues\"}}, \"yaxis\": {\"tickfont\": {\"size\": 16}, \"title\": {\"font\": {\"size\": 18}, \"standoff\": 10, \"text\": \"Number of sentences\"}}},                        {\"responsive\": true}                    ).then(function(){\n",
              "                            \n",
              "var gd = document.getElementById('80725cd2-3999-457c-b02f-45ec48295684');\n",
              "var x = new MutationObserver(function (mutations, observer) {{\n",
              "        var display = window.getComputedStyle(gd).display;\n",
              "        if (!display || display === 'none') {{\n",
              "            console.log([gd, 'removed!']);\n",
              "            Plotly.purge(gd);\n",
              "            observer.disconnect();\n",
              "        }}\n",
              "}});\n",
              "\n",
              "// Listen for the removal of the full notebook cells\n",
              "var notebookContainer = gd.closest('#notebook-container');\n",
              "if (notebookContainer) {{\n",
              "    x.observe(notebookContainer, {childList: true});\n",
              "}}\n",
              "\n",
              "// Listen for the clearing of the current output cell\n",
              "var outputEl = gd.closest('.output');\n",
              "if (outputEl) {{\n",
              "    x.observe(outputEl, {childList: true});\n",
              "}}\n",
              "\n",
              "                        })                };                            </script>        </div>\n",
              "</body>\n",
              "</html>"
            ]
          },
          "metadata": {
            "tags": []
          }
        }
      ]
    },
    {
      "cell_type": "code",
      "metadata": {
        "colab": {
          "base_uri": "https://localhost:8080/",
          "height": 417
        },
        "id": "Paq0k98PaT63",
        "outputId": "ccd89acc-ba9d-4923-ee04-31325c833661"
      },
      "source": [
        "fig_2 = go.Figure()\r\n",
        "for source, group in df_multi_PCA_train_1000.groupby([\"from\"]):\r\n",
        "  data = group.groupby([\"lang\"], as_index = False).agg({'sentences':'count'})\r\n",
        "  source_data = [source]\r\n",
        "  trace = go.Bar(\r\n",
        "                  x = data[\"lang\"], \r\n",
        "                  y= data[\"sentences\"],\r\n",
        "                  customdata = [source_data] * len(data[\"sentences\"].to_list()),\r\n",
        "                  hovertemplate= \"Data source: %{customdata} <br> Language: %{x} <br>Nº sentences: %{y}\",\r\n",
        "                  # marker_color =\"rgb(253,180,98)\",\r\n",
        "                  name = source\r\n",
        "                )\r\n",
        "  fig_2.add_trace(trace)\r\n",
        "\r\n",
        "fig_2.update_layout(\r\n",
        "      hoverlabel=dict(\r\n",
        "          font_size=14,\r\n",
        "          font_family=\"Arial\",\r\n",
        "          bgcolor = \"white\"),\r\n",
        "\r\n",
        "      height = 400, \r\n",
        "      width = 1000, \r\n",
        "      title = \"Training PCA Multilingual Data - Number of sentences per data source\",\r\n",
        "      title_font={\"size\": 20},\r\n",
        "      legend_font = {\"size\": 16})\r\n",
        "\r\n",
        "fig_2.update_xaxes(\r\n",
        "          tickangle = 0,\r\n",
        "          tickfont = {\"size\": 16},\r\n",
        "          title_text = \"Languagues\",\r\n",
        "          title_font = {\"size\": 18},\r\n",
        "          title_standoff = 10)\r\n",
        "\r\n",
        "fig_2.update_yaxes(\r\n",
        "          tickfont = {\"size\": 16},\r\n",
        "          title_font = {\"size\": 18},\r\n",
        "          title_text = \"Number of sentences\",\r\n",
        "          title_standoff = 10)\r\n",
        "\r\n",
        "fig_2.show()"
      ],
      "execution_count": 31,
      "outputs": [
        {
          "output_type": "display_data",
          "data": {
            "text/html": [
              "<html>\n",
              "<head><meta charset=\"utf-8\" /></head>\n",
              "<body>\n",
              "    <div>            <script src=\"https://cdnjs.cloudflare.com/ajax/libs/mathjax/2.7.5/MathJax.js?config=TeX-AMS-MML_SVG\"></script><script type=\"text/javascript\">if (window.MathJax) {MathJax.Hub.Config({SVG: {font: \"STIX-Web\"}});}</script>                <script type=\"text/javascript\">window.PlotlyConfig = {MathJaxConfig: 'local'};</script>\n",
              "        <script src=\"https://cdn.plot.ly/plotly-latest.min.js\"></script>                <div id=\"99b856d6-d36f-4d01-afbd-b75d86be430a\" class=\"plotly-graph-div\" style=\"height:400px; width:1000px;\"></div>            <script type=\"text/javascript\">                                    window.PLOTLYENV=window.PLOTLYENV || {};                                    if (document.getElementById(\"99b856d6-d36f-4d01-afbd-b75d86be430a\")) {                    Plotly.newPlot(                        \"99b856d6-d36f-4d01-afbd-b75d86be430a\",                        [{\"customdata\": [[\"OPUS_News_Commentary\"], [\"OPUS_News_Commentary\"], [\"OPUS_News_Commentary\"], [\"OPUS_News_Commentary\"], [\"OPUS_News_Commentary\"], [\"OPUS_News_Commentary\"], [\"OPUS_News_Commentary\"], [\"OPUS_News_Commentary\"], [\"OPUS_News_Commentary\"], [\"OPUS_News_Commentary\"], [\"OPUS_News_Commentary\"], [\"OPUS_News_Commentary\"]], \"hovertemplate\": \"Data source: %{customdata} <br> Language: %{x} <br>N\\u00ba sentences: %{y}\", \"name\": \"OPUS_News_Commentary\", \"type\": \"bar\", \"x\": [\"ar\", \"cs\", \"de\", \"en\", \"es\", \"fr\", \"it\", \"ja\", \"nl\", \"pt\", \"ru\", \"zh\"], \"y\": [500, 500, 500, 500, 500, 500, 500, 500, 500, 500, 500, 500]}, {\"customdata\": [[\"TED2020\"], [\"TED2020\"], [\"TED2020\"], [\"TED2020\"], [\"TED2020\"], [\"TED2020\"], [\"TED2020\"], [\"TED2020\"], [\"TED2020\"], [\"TED2020\"], [\"TED2020\"], [\"TED2020\"], [\"TED2020\"], [\"TED2020\"], [\"TED2020\"]], \"hovertemplate\": \"Data source: %{customdata} <br> Language: %{x} <br>N\\u00ba sentences: %{y}\", \"name\": \"TED2020\", \"type\": \"bar\", \"x\": [\"ar\", \"cs\", \"de\", \"en\", \"es\", \"fr\", \"hi\", \"it\", \"ja\", \"nl\", \"pl\", \"pt\", \"ru\", \"tr\", \"zh\"], \"y\": [250, 250, 250, 250, 250, 250, 500, 250, 250, 250, 500, 250, 250, 500, 250]}, {\"customdata\": [[\"WikiMatrix\"], [\"WikiMatrix\"], [\"WikiMatrix\"], [\"WikiMatrix\"], [\"WikiMatrix\"], [\"WikiMatrix\"], [\"WikiMatrix\"], [\"WikiMatrix\"], [\"WikiMatrix\"], [\"WikiMatrix\"], [\"WikiMatrix\"], [\"WikiMatrix\"], [\"WikiMatrix\"], [\"WikiMatrix\"], [\"WikiMatrix\"]], \"hovertemplate\": \"Data source: %{customdata} <br> Language: %{x} <br>N\\u00ba sentences: %{y}\", \"name\": \"WikiMatrix\", \"type\": \"bar\", \"x\": [\"ar\", \"cs\", \"de\", \"en\", \"es\", \"fr\", \"hi\", \"it\", \"ja\", \"nl\", \"pl\", \"pt\", \"ru\", \"tr\", \"zh\"], \"y\": [250, 250, 250, 250, 250, 250, 500, 250, 250, 250, 500, 250, 250, 500, 250]}],                        {\"height\": 400, \"hoverlabel\": {\"bgcolor\": \"white\", \"font\": {\"family\": \"Arial\", \"size\": 14}}, \"legend\": {\"font\": {\"size\": 16}}, \"template\": {\"data\": {\"bar\": [{\"error_x\": {\"color\": \"#2a3f5f\"}, \"error_y\": {\"color\": \"#2a3f5f\"}, \"marker\": {\"line\": {\"color\": \"#E5ECF6\", \"width\": 0.5}}, \"type\": \"bar\"}], \"barpolar\": [{\"marker\": {\"line\": {\"color\": \"#E5ECF6\", \"width\": 0.5}}, \"type\": \"barpolar\"}], \"carpet\": [{\"aaxis\": {\"endlinecolor\": \"#2a3f5f\", \"gridcolor\": \"white\", \"linecolor\": \"white\", \"minorgridcolor\": \"white\", \"startlinecolor\": \"#2a3f5f\"}, \"baxis\": {\"endlinecolor\": \"#2a3f5f\", \"gridcolor\": \"white\", \"linecolor\": \"white\", \"minorgridcolor\": \"white\", \"startlinecolor\": \"#2a3f5f\"}, \"type\": \"carpet\"}], \"choropleth\": [{\"colorbar\": {\"outlinewidth\": 0, \"ticks\": \"\"}, \"type\": \"choropleth\"}], \"contour\": [{\"colorbar\": {\"outlinewidth\": 0, \"ticks\": \"\"}, \"colorscale\": [[0.0, \"#0d0887\"], [0.1111111111111111, \"#46039f\"], [0.2222222222222222, \"#7201a8\"], [0.3333333333333333, \"#9c179e\"], [0.4444444444444444, \"#bd3786\"], [0.5555555555555556, \"#d8576b\"], [0.6666666666666666, \"#ed7953\"], [0.7777777777777778, \"#fb9f3a\"], [0.8888888888888888, \"#fdca26\"], [1.0, \"#f0f921\"]], \"type\": \"contour\"}], \"contourcarpet\": [{\"colorbar\": {\"outlinewidth\": 0, \"ticks\": \"\"}, \"type\": \"contourcarpet\"}], \"heatmap\": [{\"colorbar\": {\"outlinewidth\": 0, \"ticks\": \"\"}, \"colorscale\": [[0.0, \"#0d0887\"], [0.1111111111111111, \"#46039f\"], [0.2222222222222222, \"#7201a8\"], [0.3333333333333333, \"#9c179e\"], [0.4444444444444444, \"#bd3786\"], [0.5555555555555556, \"#d8576b\"], [0.6666666666666666, \"#ed7953\"], [0.7777777777777778, \"#fb9f3a\"], [0.8888888888888888, \"#fdca26\"], [1.0, \"#f0f921\"]], \"type\": \"heatmap\"}], \"heatmapgl\": [{\"colorbar\": {\"outlinewidth\": 0, \"ticks\": \"\"}, \"colorscale\": [[0.0, \"#0d0887\"], [0.1111111111111111, \"#46039f\"], [0.2222222222222222, \"#7201a8\"], [0.3333333333333333, \"#9c179e\"], [0.4444444444444444, \"#bd3786\"], [0.5555555555555556, \"#d8576b\"], [0.6666666666666666, \"#ed7953\"], [0.7777777777777778, \"#fb9f3a\"], [0.8888888888888888, \"#fdca26\"], [1.0, \"#f0f921\"]], \"type\": \"heatmapgl\"}], \"histogram\": [{\"marker\": {\"colorbar\": {\"outlinewidth\": 0, \"ticks\": \"\"}}, \"type\": \"histogram\"}], \"histogram2d\": [{\"colorbar\": {\"outlinewidth\": 0, \"ticks\": \"\"}, \"colorscale\": [[0.0, \"#0d0887\"], [0.1111111111111111, \"#46039f\"], [0.2222222222222222, \"#7201a8\"], [0.3333333333333333, \"#9c179e\"], [0.4444444444444444, \"#bd3786\"], [0.5555555555555556, \"#d8576b\"], [0.6666666666666666, \"#ed7953\"], [0.7777777777777778, \"#fb9f3a\"], [0.8888888888888888, \"#fdca26\"], [1.0, \"#f0f921\"]], \"type\": \"histogram2d\"}], \"histogram2dcontour\": [{\"colorbar\": {\"outlinewidth\": 0, \"ticks\": \"\"}, \"colorscale\": [[0.0, \"#0d0887\"], [0.1111111111111111, \"#46039f\"], [0.2222222222222222, \"#7201a8\"], [0.3333333333333333, \"#9c179e\"], [0.4444444444444444, \"#bd3786\"], [0.5555555555555556, \"#d8576b\"], [0.6666666666666666, \"#ed7953\"], [0.7777777777777778, \"#fb9f3a\"], [0.8888888888888888, \"#fdca26\"], [1.0, \"#f0f921\"]], \"type\": \"histogram2dcontour\"}], \"mesh3d\": [{\"colorbar\": {\"outlinewidth\": 0, \"ticks\": \"\"}, \"type\": \"mesh3d\"}], \"parcoords\": [{\"line\": {\"colorbar\": {\"outlinewidth\": 0, \"ticks\": \"\"}}, \"type\": \"parcoords\"}], \"pie\": [{\"automargin\": true, \"type\": \"pie\"}], \"scatter\": [{\"marker\": {\"colorbar\": {\"outlinewidth\": 0, \"ticks\": \"\"}}, \"type\": \"scatter\"}], \"scatter3d\": [{\"line\": {\"colorbar\": {\"outlinewidth\": 0, \"ticks\": \"\"}}, \"marker\": {\"colorbar\": {\"outlinewidth\": 0, \"ticks\": \"\"}}, \"type\": \"scatter3d\"}], \"scattercarpet\": [{\"marker\": {\"colorbar\": {\"outlinewidth\": 0, \"ticks\": \"\"}}, \"type\": \"scattercarpet\"}], \"scattergeo\": [{\"marker\": {\"colorbar\": {\"outlinewidth\": 0, \"ticks\": \"\"}}, \"type\": \"scattergeo\"}], \"scattergl\": [{\"marker\": {\"colorbar\": {\"outlinewidth\": 0, \"ticks\": \"\"}}, \"type\": \"scattergl\"}], \"scattermapbox\": [{\"marker\": {\"colorbar\": {\"outlinewidth\": 0, \"ticks\": \"\"}}, \"type\": \"scattermapbox\"}], \"scatterpolar\": [{\"marker\": {\"colorbar\": {\"outlinewidth\": 0, \"ticks\": \"\"}}, \"type\": \"scatterpolar\"}], \"scatterpolargl\": [{\"marker\": {\"colorbar\": {\"outlinewidth\": 0, \"ticks\": \"\"}}, \"type\": \"scatterpolargl\"}], \"scatterternary\": [{\"marker\": {\"colorbar\": {\"outlinewidth\": 0, \"ticks\": \"\"}}, \"type\": \"scatterternary\"}], \"surface\": [{\"colorbar\": {\"outlinewidth\": 0, \"ticks\": \"\"}, \"colorscale\": [[0.0, \"#0d0887\"], [0.1111111111111111, \"#46039f\"], [0.2222222222222222, \"#7201a8\"], [0.3333333333333333, \"#9c179e\"], [0.4444444444444444, \"#bd3786\"], [0.5555555555555556, \"#d8576b\"], [0.6666666666666666, \"#ed7953\"], [0.7777777777777778, \"#fb9f3a\"], [0.8888888888888888, \"#fdca26\"], [1.0, \"#f0f921\"]], \"type\": \"surface\"}], \"table\": [{\"cells\": {\"fill\": {\"color\": \"#EBF0F8\"}, \"line\": {\"color\": \"white\"}}, \"header\": {\"fill\": {\"color\": \"#C8D4E3\"}, \"line\": {\"color\": \"white\"}}, \"type\": \"table\"}]}, \"layout\": {\"annotationdefaults\": {\"arrowcolor\": \"#2a3f5f\", \"arrowhead\": 0, \"arrowwidth\": 1}, \"autotypenumbers\": \"strict\", \"coloraxis\": {\"colorbar\": {\"outlinewidth\": 0, \"ticks\": \"\"}}, \"colorscale\": {\"diverging\": [[0, \"#8e0152\"], [0.1, \"#c51b7d\"], [0.2, \"#de77ae\"], [0.3, \"#f1b6da\"], [0.4, \"#fde0ef\"], [0.5, \"#f7f7f7\"], [0.6, \"#e6f5d0\"], [0.7, \"#b8e186\"], [0.8, \"#7fbc41\"], [0.9, \"#4d9221\"], [1, \"#276419\"]], \"sequential\": [[0.0, \"#0d0887\"], [0.1111111111111111, \"#46039f\"], [0.2222222222222222, \"#7201a8\"], [0.3333333333333333, \"#9c179e\"], [0.4444444444444444, \"#bd3786\"], [0.5555555555555556, \"#d8576b\"], [0.6666666666666666, \"#ed7953\"], [0.7777777777777778, \"#fb9f3a\"], [0.8888888888888888, \"#fdca26\"], [1.0, \"#f0f921\"]], \"sequentialminus\": [[0.0, \"#0d0887\"], [0.1111111111111111, \"#46039f\"], [0.2222222222222222, \"#7201a8\"], [0.3333333333333333, \"#9c179e\"], [0.4444444444444444, \"#bd3786\"], [0.5555555555555556, \"#d8576b\"], [0.6666666666666666, \"#ed7953\"], [0.7777777777777778, \"#fb9f3a\"], [0.8888888888888888, \"#fdca26\"], [1.0, \"#f0f921\"]]}, \"colorway\": [\"#636efa\", \"#EF553B\", \"#00cc96\", \"#ab63fa\", \"#FFA15A\", \"#19d3f3\", \"#FF6692\", \"#B6E880\", \"#FF97FF\", \"#FECB52\"], \"font\": {\"color\": \"#2a3f5f\"}, \"geo\": {\"bgcolor\": \"white\", \"lakecolor\": \"white\", \"landcolor\": \"#E5ECF6\", \"showlakes\": true, \"showland\": true, \"subunitcolor\": \"white\"}, \"hoverlabel\": {\"align\": \"left\"}, \"hovermode\": \"closest\", \"mapbox\": {\"style\": \"light\"}, \"paper_bgcolor\": \"white\", \"plot_bgcolor\": \"#E5ECF6\", \"polar\": {\"angularaxis\": {\"gridcolor\": \"white\", \"linecolor\": \"white\", \"ticks\": \"\"}, \"bgcolor\": \"#E5ECF6\", \"radialaxis\": {\"gridcolor\": \"white\", \"linecolor\": \"white\", \"ticks\": \"\"}}, \"scene\": {\"xaxis\": {\"backgroundcolor\": \"#E5ECF6\", \"gridcolor\": \"white\", \"gridwidth\": 2, \"linecolor\": \"white\", \"showbackground\": true, \"ticks\": \"\", \"zerolinecolor\": \"white\"}, \"yaxis\": {\"backgroundcolor\": \"#E5ECF6\", \"gridcolor\": \"white\", \"gridwidth\": 2, \"linecolor\": \"white\", \"showbackground\": true, \"ticks\": \"\", \"zerolinecolor\": \"white\"}, \"zaxis\": {\"backgroundcolor\": \"#E5ECF6\", \"gridcolor\": \"white\", \"gridwidth\": 2, \"linecolor\": \"white\", \"showbackground\": true, \"ticks\": \"\", \"zerolinecolor\": \"white\"}}, \"shapedefaults\": {\"line\": {\"color\": \"#2a3f5f\"}}, \"ternary\": {\"aaxis\": {\"gridcolor\": \"white\", \"linecolor\": \"white\", \"ticks\": \"\"}, \"baxis\": {\"gridcolor\": \"white\", \"linecolor\": \"white\", \"ticks\": \"\"}, \"bgcolor\": \"#E5ECF6\", \"caxis\": {\"gridcolor\": \"white\", \"linecolor\": \"white\", \"ticks\": \"\"}}, \"title\": {\"x\": 0.05}, \"xaxis\": {\"automargin\": true, \"gridcolor\": \"white\", \"linecolor\": \"white\", \"ticks\": \"\", \"title\": {\"standoff\": 15}, \"zerolinecolor\": \"white\", \"zerolinewidth\": 2}, \"yaxis\": {\"automargin\": true, \"gridcolor\": \"white\", \"linecolor\": \"white\", \"ticks\": \"\", \"title\": {\"standoff\": 15}, \"zerolinecolor\": \"white\", \"zerolinewidth\": 2}}}, \"title\": {\"font\": {\"size\": 20}, \"text\": \"Training PCA Multilingual Data - Number of sentences per data source\"}, \"width\": 1000, \"xaxis\": {\"tickangle\": 0, \"tickfont\": {\"size\": 16}, \"title\": {\"font\": {\"size\": 18}, \"standoff\": 10, \"text\": \"Languagues\"}}, \"yaxis\": {\"tickfont\": {\"size\": 16}, \"title\": {\"font\": {\"size\": 18}, \"standoff\": 10, \"text\": \"Number of sentences\"}}},                        {\"responsive\": true}                    ).then(function(){\n",
              "                            \n",
              "var gd = document.getElementById('99b856d6-d36f-4d01-afbd-b75d86be430a');\n",
              "var x = new MutationObserver(function (mutations, observer) {{\n",
              "        var display = window.getComputedStyle(gd).display;\n",
              "        if (!display || display === 'none') {{\n",
              "            console.log([gd, 'removed!']);\n",
              "            Plotly.purge(gd);\n",
              "            observer.disconnect();\n",
              "        }}\n",
              "}});\n",
              "\n",
              "// Listen for the removal of the full notebook cells\n",
              "var notebookContainer = gd.closest('#notebook-container');\n",
              "if (notebookContainer) {{\n",
              "    x.observe(notebookContainer, {childList: true});\n",
              "}}\n",
              "\n",
              "// Listen for the clearing of the current output cell\n",
              "var outputEl = gd.closest('.output');\n",
              "if (outputEl) {{\n",
              "    x.observe(outputEl, {childList: true});\n",
              "}}\n",
              "\n",
              "                        })                };                            </script>        </div>\n",
              "</body>\n",
              "</html>"
            ]
          },
          "metadata": {
            "tags": []
          }
        }
      ]
    },
    {
      "cell_type": "markdown",
      "metadata": {
        "id": "gT7gD_aHWAVp"
      },
      "source": [
        "The following code allows us to create a HTML file (not as heavy as save the figure directly to HTML) with both figures to interact with them. "
      ]
    },
    {
      "cell_type": "code",
      "metadata": {
        "id": "3UKtHec-aXAB"
      },
      "source": [
        "with open('multi_pca_barplot_sentences_per_language.html', 'w') as f:\r\n",
        "  \r\n",
        "  f.write(\"\"\"\r\n",
        "<body>\r\n",
        "    <div style=\"width:800px; margin:0 auto;\">\r\n",
        "    <br>\r\n",
        "    <br>\r\n",
        "    \"\"\")\r\n",
        "  f.write(fig_1.to_html(full_html=False, include_plotlyjs='cdn'))\r\n",
        "  f.write(fig_2.to_html(full_html=False, include_plotlyjs='cdn'))"
      ],
      "execution_count": 30,
      "outputs": []
    }
  ]
}